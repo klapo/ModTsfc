{
 "cells": [
  {
   "cell_type": "markdown",
   "metadata": {},
   "source": [
    "# Read SUMMA output"
   ]
  },
  {
   "cell_type": "code",
   "execution_count": 15,
   "metadata": {
    "collapsed": false
   },
   "outputs": [],
   "source": [
    "# netcdf/numpy/xray/stats\n",
    "import numpy as np\n",
    "from datetime import datetime, timedelta\n",
    "import pandas as pd\n",
    "import xarray as xr\n",
    "from scipy.stats.stats import pearsonr\n",
    "\n",
    "# OS interaction\n",
    "import sys, pickle, os\n",
    "\n",
    "# import plotting\n",
    "import seaborn as sns\n",
    "import matplotlib\n",
    "from matplotlib.pyplot import subplots\n",
    "import matplotlib.pyplot as plt\n",
    "from matplotlib import cm\n",
    "from mpl_toolkits.basemap import Basemap\n",
    "import kgraph\n",
    "\n",
    "# Offline Turbulence Package\n",
    "import turbpy\n",
    "\n",
    "# Customize\n",
    "sns.set_style(\"whitegrid\")\n",
    "sns.set_context('talk')\n",
    "%matplotlib inline"
   ]
  },
  {
   "cell_type": "code",
   "execution_count": 16,
   "metadata": {
    "collapsed": false
   },
   "outputs": [],
   "source": [
    "# --------------------------------------------------------------------------------------------------------------------\n",
    "# Directory Lists\n",
    "# Unix\n",
    "if 'linux' in sys.platform:\n",
    "    dirPre = '/home/lapok/gdrive/'\n",
    "# Mac\n",
    "elif 'darwin' in sys.platform:\n",
    "    dirPre = '/Users/karllapo/gdrive/'\n",
    "\n",
    "dirProj = dirPre + 'SnowHydrology/proj/ModTsfc/'\n",
    "dirPrint = dirProj + 'Graphics'\n",
    "dirData = dirProj + 'data'\n",
    "dirSumma = dirProj + 'summa/ModTsfc_summa/output/'"
   ]
  },
  {
   "cell_type": "markdown",
   "metadata": {},
   "source": [
    "## Functions to quickly evaluate all model output"
   ]
  },
  {
   "cell_type": "code",
   "execution_count": 17,
   "metadata": {
    "collapsed": true
   },
   "outputs": [],
   "source": [
    "def evalSWE(dsDict, obs):\n",
    "    # SWE\n",
    "    fig, ax = plt.subplots(1, 1, figsize=(10, 10))\n",
    "    for ex in dsDict:\n",
    "        ax.plot(dsDict[ex].time, dsDict[ex].scalarSWE, label=ex)\n",
    "    ax.set_ylabel('SWE (mm)')\n",
    "    plt.legend(loc='best')\n",
    "    \n",
    "def evalSurfTemp(dsDict, obs):\n",
    "    # Tsurf scatter plot\n",
    "    fig, ax = plt.subplots(1, 1, figsize=(10, 10))\n",
    "    for ex in dsDict:\n",
    "        ax.plot(dsDict[ex].scalarSurfaceTemp - 273.15, obs.Tsrf, '.', label=ex)\n",
    "    ax.plot([-30, 0], [-30, 0], 'k--')\n",
    "    ax.set_xlabel('Model Ts')\n",
    "    ax.set_ylabel('Obs Ts')\n",
    "    ax.set_xlim(-30, 0)\n",
    "    ax.set_ylim(-30, 0)\n",
    "    plt.legend(loc='best')\n",
    "\n",
    "def evalDiurnalTs(dsDict, obs):\n",
    "    # Tsurf scatter plot\n",
    "    fig, ax = plt.subplots(1, 1, figsize=(10, 10))\n",
    "    hours = np.arange(0, 24)\n",
    "    for n, ex in enumerate(dsDict):\n",
    "        ax.plot(hours, dsDict[ex].scalarSurfaceTemp.groupby('time.hour').mean(dim='time') - 273.15, label=ex)\n",
    "    ax.plot(hours, obs.snowTs.groupby('time.hour').mean(dim='time'), 'k', linewidth=3, label='Obs.')\n",
    "    ax.plot([0, 23], [0, 0], color='.5')\n",
    "    ax.set_xlim(0, 23)\n",
    "    ax.set_xlabel('Hour of Day')\n",
    "    ax.set_ylabel('T ($^{\\circ}$)')\n",
    "    plt.legend(loc='best')\n",
    "    "
   ]
  },
  {
   "cell_type": "code",
   "execution_count": 21,
   "metadata": {
    "collapsed": false
   },
   "outputs": [],
   "source": [
    "os.chdir(dirData)\n",
    "SWA = xr.open_dataset('SWA.ModTsfc.nc')\n",
    "SNQ = xr.open_dataset('SNQ.ModTsfc.nc')\n",
    "CDP = xr.open_dataset('CDP.ModTsfc.nc')\n",
    "\n",
    "# --------------------------------------------------------------------------------------------\n",
    "# Select only the model forcing period\n",
    "CDP = CDP.loc[dict(time = slice(datetime(2005, 10, 1), datetime(2006, 9, 1)))]\n",
    "SWA = SWA.loc[dict(time = slice(datetime(2008, 10, 1), datetime(2009, 9, 1)))]"
   ]
  },
  {
   "cell_type": "markdown",
   "metadata": {},
   "source": [
    "## Model output"
   ]
  },
  {
   "cell_type": "markdown",
   "metadata": {},
   "source": [
    "### Define control lists etc"
   ]
  },
  {
   "cell_type": "code",
   "execution_count": 19,
   "metadata": {
    "collapsed": false
   },
   "outputs": [],
   "source": [
    "siteNames = ['SWA']\n",
    "siteYears = {'SWA': 2008}\n",
    "experiments = ['layers', 'thermalCond', 'stability', 'longwaveBias']\n",
    "\n",
    "# Layer\n",
    "expNames = {'layers': ['layerThin', 'layerThick', 'jrdn1991', 'CLM_2010']}\n",
    "# Longwave bias\n",
    "expNames['longwaveBias'] = ['lowLW', 'obsLW', 'highLW']\n",
    "# Thermal conductivity\n",
    "arrayNames = ['tyen1965', 'melr1977', 'jrdn1991', 'smnv2000']\n",
    "arrayAppend = ['Mid', 'Low', 'High']\n",
    "expNames['thermalCond'] = [name + append for name in arrayNames for append in arrayAppend]\n",
    "# Stability\n",
    "arrayAppend = ['Low', 'Mid', 'High']\n",
    "arrayNames = ['standard', 'louisinv', 'mahrtexp']\n",
    "expNames['stability'] = [name + append for name in arrayNames for append in arrayAppend]\n",
    "\n",
    "resultsDict = {}\n",
    "scalar_data_vars = ['scalarRainPlusMelt', 'scalarSWE', 'scalarSnowSublimation', \n",
    "                    'scalarInfiltration', 'scalarSurfaceRunoff', 'scalarSurfaceTemp',\n",
    "                    'scalarSenHeatTotal', 'scalarLatHeatTotal', 'scalarSnowDepth']"
   ]
  },
  {
   "cell_type": "code",
   "execution_count": 22,
   "metadata": {
    "collapsed": false
   },
   "outputs": [
    {
     "ename": "ValueError",
     "evalue": "conflicting sizes for dimension 'time': length 8760 on 'pptrate' and length 8041 on 'time'",
     "output_type": "error",
     "traceback": [
      "\u001b[0;31m---------------------------------------------------------------------------\u001b[0m",
      "\u001b[0;31mValueError\u001b[0m                                Traceback (most recent call last)",
      "\u001b[0;32m<ipython-input-22-78aa313184b6>\u001b[0m in \u001b[0;36m<module>\u001b[0;34m()\u001b[0m\n\u001b[1;32m     10\u001b[0m \u001b[0;34m\u001b[0m\u001b[0m\n\u001b[1;32m     11\u001b[0m \u001b[0;32mfor\u001b[0m \u001b[0mr\u001b[0m \u001b[0;32min\u001b[0m \u001b[0mresultsDict\u001b[0m\u001b[0;34m:\u001b[0m\u001b[0;34m\u001b[0m\u001b[0m\n\u001b[0;32m---> 12\u001b[0;31m     \u001b[0mresultsDict\u001b[0m\u001b[0;34m[\u001b[0m\u001b[0mr\u001b[0m\u001b[0;34m]\u001b[0m\u001b[0;34m[\u001b[0m\u001b[0;34m'time'\u001b[0m\u001b[0;34m]\u001b[0m \u001b[0;34m=\u001b[0m \u001b[0mSWA\u001b[0m\u001b[0;34m.\u001b[0m\u001b[0mtime\u001b[0m\u001b[0;34m.\u001b[0m\u001b[0mvalues\u001b[0m\u001b[0;34m\u001b[0m\u001b[0m\n\u001b[0m",
      "\u001b[0;32m//anaconda/lib/python3.5/site-packages/xarray/core/dataset.py\u001b[0m in \u001b[0;36m__setitem__\u001b[0;34m(self, key, value)\u001b[0m\n\u001b[1;32m    715\u001b[0m                                       'to set Dataset values')\n\u001b[1;32m    716\u001b[0m \u001b[0;34m\u001b[0m\u001b[0m\n\u001b[0;32m--> 717\u001b[0;31m         \u001b[0mself\u001b[0m\u001b[0;34m.\u001b[0m\u001b[0mupdate\u001b[0m\u001b[0;34m(\u001b[0m\u001b[0;34m{\u001b[0m\u001b[0mkey\u001b[0m\u001b[0;34m:\u001b[0m \u001b[0mvalue\u001b[0m\u001b[0;34m}\u001b[0m\u001b[0;34m)\u001b[0m\u001b[0;34m\u001b[0m\u001b[0m\n\u001b[0m\u001b[1;32m    718\u001b[0m \u001b[0;34m\u001b[0m\u001b[0m\n\u001b[1;32m    719\u001b[0m     \u001b[0;32mdef\u001b[0m \u001b[0m__delitem__\u001b[0m\u001b[0;34m(\u001b[0m\u001b[0mself\u001b[0m\u001b[0;34m,\u001b[0m \u001b[0mkey\u001b[0m\u001b[0;34m)\u001b[0m\u001b[0;34m:\u001b[0m\u001b[0;34m\u001b[0m\u001b[0m\n",
      "\u001b[0;32m//anaconda/lib/python3.5/site-packages/xarray/core/dataset.py\u001b[0m in \u001b[0;36mupdate\u001b[0;34m(self, other, inplace)\u001b[0m\n\u001b[1;32m   1800\u001b[0m             \u001b[0mdataset\u001b[0m\u001b[0;34m.\u001b[0m\u001b[0;34m\u001b[0m\u001b[0m\n\u001b[1;32m   1801\u001b[0m         \"\"\"\n\u001b[0;32m-> 1802\u001b[0;31m         \u001b[0mvariables\u001b[0m\u001b[0;34m,\u001b[0m \u001b[0mcoord_names\u001b[0m\u001b[0;34m,\u001b[0m \u001b[0mdims\u001b[0m \u001b[0;34m=\u001b[0m \u001b[0mdataset_update_method\u001b[0m\u001b[0;34m(\u001b[0m\u001b[0mself\u001b[0m\u001b[0;34m,\u001b[0m \u001b[0mother\u001b[0m\u001b[0;34m)\u001b[0m\u001b[0;34m\u001b[0m\u001b[0m\n\u001b[0m\u001b[1;32m   1803\u001b[0m \u001b[0;34m\u001b[0m\u001b[0m\n\u001b[1;32m   1804\u001b[0m         return self._replace_vars_and_dims(variables, coord_names, dims,\n",
      "\u001b[0;32m//anaconda/lib/python3.5/site-packages/xarray/core/merge.py\u001b[0m in \u001b[0;36mdataset_update_method\u001b[0;34m(dataset, other)\u001b[0m\n\u001b[1;32m    535\u001b[0m \u001b[0;32mdef\u001b[0m \u001b[0mdataset_update_method\u001b[0m\u001b[0;34m(\u001b[0m\u001b[0mdataset\u001b[0m\u001b[0;34m,\u001b[0m \u001b[0mother\u001b[0m\u001b[0;34m)\u001b[0m\u001b[0;34m:\u001b[0m\u001b[0;34m\u001b[0m\u001b[0m\n\u001b[1;32m    536\u001b[0m     \u001b[0;34m\"\"\"Guts of the Dataset.update method\"\"\"\u001b[0m\u001b[0;34m\u001b[0m\u001b[0m\n\u001b[0;32m--> 537\u001b[0;31m     \u001b[0;32mreturn\u001b[0m \u001b[0mmerge_core\u001b[0m\u001b[0;34m(\u001b[0m\u001b[0;34m[\u001b[0m\u001b[0mdataset\u001b[0m\u001b[0;34m,\u001b[0m \u001b[0mother\u001b[0m\u001b[0;34m]\u001b[0m\u001b[0;34m,\u001b[0m \u001b[0mpriority_arg\u001b[0m\u001b[0;34m=\u001b[0m\u001b[0;36m1\u001b[0m\u001b[0;34m,\u001b[0m \u001b[0mindexes\u001b[0m\u001b[0;34m=\u001b[0m\u001b[0mdataset\u001b[0m\u001b[0;34m.\u001b[0m\u001b[0mindexes\u001b[0m\u001b[0;34m)\u001b[0m\u001b[0;34m\u001b[0m\u001b[0m\n\u001b[0m",
      "\u001b[0;32m//anaconda/lib/python3.5/site-packages/xarray/core/merge.py\u001b[0m in \u001b[0;36mmerge_core\u001b[0;34m(objs, compat, join, priority_arg, explicit_coords, indexes)\u001b[0m\n\u001b[1;32m    422\u001b[0m     \u001b[0massert_unique_multiindex_level_names\u001b[0m\u001b[0;34m(\u001b[0m\u001b[0mvariables\u001b[0m\u001b[0;34m)\u001b[0m\u001b[0;34m\u001b[0m\u001b[0m\n\u001b[1;32m    423\u001b[0m \u001b[0;34m\u001b[0m\u001b[0m\n\u001b[0;32m--> 424\u001b[0;31m     \u001b[0mdims\u001b[0m \u001b[0;34m=\u001b[0m \u001b[0mcalculate_dimensions\u001b[0m\u001b[0;34m(\u001b[0m\u001b[0mvariables\u001b[0m\u001b[0;34m)\u001b[0m\u001b[0;34m\u001b[0m\u001b[0m\n\u001b[0m\u001b[1;32m    425\u001b[0m \u001b[0;34m\u001b[0m\u001b[0m\n\u001b[1;32m    426\u001b[0m     \u001b[0;32mfor\u001b[0m \u001b[0mdim\u001b[0m\u001b[0;34m,\u001b[0m \u001b[0msize\u001b[0m \u001b[0;32min\u001b[0m \u001b[0mdims\u001b[0m\u001b[0;34m.\u001b[0m\u001b[0mitems\u001b[0m\u001b[0;34m(\u001b[0m\u001b[0;34m)\u001b[0m\u001b[0;34m:\u001b[0m\u001b[0;34m\u001b[0m\u001b[0m\n",
      "\u001b[0;32m//anaconda/lib/python3.5/site-packages/xarray/core/dataset.py\u001b[0m in \u001b[0;36mcalculate_dimensions\u001b[0;34m(variables)\u001b[0m\n\u001b[1;32m    114\u001b[0m                 raise ValueError('conflicting sizes for dimension %r: '\n\u001b[1;32m    115\u001b[0m                                  \u001b[0;34m'length %s on %r and length %s on %r'\u001b[0m \u001b[0;34m%\u001b[0m\u001b[0;34m\u001b[0m\u001b[0m\n\u001b[0;32m--> 116\u001b[0;31m                                  (dim, size, k, dims[dim], last_used[dim]))\n\u001b[0m\u001b[1;32m    117\u001b[0m     \u001b[0;32mreturn\u001b[0m \u001b[0mdims\u001b[0m\u001b[0;34m\u001b[0m\u001b[0m\n\u001b[1;32m    118\u001b[0m \u001b[0;34m\u001b[0m\u001b[0m\n",
      "\u001b[0;31mValueError\u001b[0m: conflicting sizes for dimension 'time': length 8760 on 'pptrate' and length 8041 on 'time'"
     ]
    }
   ],
   "source": [
    "# Put all results in a single dictionary\n",
    "for sN in siteNames:\n",
    "    for exp in experiments:\n",
    "        os.chdir(dirSumma + exp + '/' + sN)\n",
    "\n",
    "        for names in expNames[exp]:\n",
    "            expName = names\n",
    "            fileName = expName + '_2008-2009_' + expName + '_1.nc'\n",
    "            resultsDict[expName] = xr.open_dataset(fileName)\n",
    "            \n",
    "for r in resultsDict:\n",
    "    resultsDict[r]['time'] = SWA.time.values\n"
   ]
  },
  {
   "cell_type": "markdown",
   "metadata": {},
   "source": [
    "# Save model output\n",
    "### Extract scalar values"
   ]
  },
  {
   "cell_type": "code",
   "execution_count": 11,
   "metadata": {
    "collapsed": false
   },
   "outputs": [
    {
     "name": "stdout",
     "output_type": "stream",
     "text": [
      "<xarray.Dataset>\n",
      "Dimensions:                (expID: 28, time: 8760)\n",
      "Coordinates:\n",
      "  * time                   (time) datetime64[ns] 2008-10-01 ...\n",
      "  * expID                  (expID) <U12 'jrdn1991High' 'smnv2000Mid' ...\n",
      "Data variables:\n",
      "    scalarRainPlusMelt     (expID, time) float64 -9.999e+03 -9.999e+03 ...\n",
      "    scalarSWE              (expID, time) float64 0.0 0.0 0.0 0.0 0.0 0.0 0.0 ...\n",
      "    scalarSnowSublimation  (expID, time) float64 0.0 0.0 0.0 0.0 0.0 0.0 0.0 ...\n",
      "    scalarInfiltration     (expID, time) float64 1.84e-07 5.135e-09 0.0 0.0 ...\n",
      "    scalarSurfaceRunoff    (expID, time) float64 3.443e-12 1.067e-13 0.0 0.0 ...\n",
      "    scalarSurfaceTemp      (expID, time) float64 283.7 281.9 280.9 280.3 ...\n",
      "    scalarSenHeatTotal     (expID, time) float64 -75.36 -27.95 -13.33 -12.16 ...\n",
      "    scalarLatHeatTotal     (expID, time) float64 -178.8 -100.8 -81.71 -70.65 ...\n",
      "    scalarSnowDepth        (expID, time) float64 0.0 0.0 0.0 0.0 0.0 0.0 0.0 ...\n"
     ]
    }
   ],
   "source": [
    "resultsDataSet = xr.Dataset()\n",
    "for k in scalar_data_vars:\n",
    "    if not 'scalar' in k:\n",
    "        continue\n",
    "\n",
    "    # Assign scalar value to a dataArray\n",
    "    darray = xr.concat([resultsDict[scen][k] for scen in resultsDict], dim='expID')\n",
    "    # Remove hru dimension, as it is unused\n",
    "    darray = darray.squeeze('hru')\n",
    "    darray = darray.drop('hru')\n",
    "\n",
    "    resultsDataSet[k] = darray\n",
    "resultsDataSet.coords['expID'] = list(resultsDict.keys())\n",
    "print(resultsDataSet)"
   ]
  },
  {
   "cell_type": "code",
   "execution_count": 13,
   "metadata": {
    "collapsed": false
   },
   "outputs": [],
   "source": [
    "ds = resultsDict['lowLW']\n",
    "ds = ds.squeeze('hru')\n",
    "Toffset = 273.15\n",
    "\n",
    "# get the time information so we can plot centered on the time step\n",
    "time = ds.time.values\n",
    "time = time - 0.5 * (time[1] - time[0]) # plot bars centered on time step\n",
    "\n",
    "# get the number of layers and the maximum\n",
    "layers = ds.nLayers.values.astype('int') \n",
    "max_layers = layers.max()\n",
    "soilLayers = ds.nSoil.mean(dim='time').values.astype('int')\n",
    "snowLayers = max_layers - soilLayers\n",
    "\n",
    "# Set up two arrays that contain the layer information per timestep\n",
    "depths = np.empty((max_layers + 1, len(time))) * np.nan\n",
    "tmp = np.empty((max_layers, len(time))) * np.nan\n",
    "coldContent = np.empty((len(time))) * np.nan\n",
    "\n",
    "# extract the information from the SUMMA output and store it in the arrays\n",
    "for i in range(len(time)):\n",
    "    ifcstart = int(ds.ifcTotoStartIndex[i].values - 1)\n",
    "    midstart = int(ds.midTotoStartIndex[i].values - 1)\n",
    "    ifclayers = layers[i] + 1\n",
    "    midlayers = layers[i]\n",
    "    ifcend = int(ifcstart + ifclayers)\n",
    "    midend = int(midstart + midlayers)\n",
    "    depths[0:ifclayers, i] = -ds.iLayerHeight[ifcstart:ifcend]\n",
    "    tmp[0:midlayers, i] = ds.mLayerTemp[midstart:midend] - Toffset\n",
    "#     if ds.scalarSnowDepth > 0:\n",
    "#         coldContent = tmp[:snowLayers, i] \n",
    "\n",
    "# # now plot it\n",
    "# import matplotlib as mpl\n",
    "# fig = plt.figure(figsize=(15, 10)) # set up the plot\n",
    "# colors = plt.get_cmap('RdYlBu_r') # select an appropriate color map\n",
    "# norm = mpl.colors.Normalize(vmin=-3, vmax=3) # scale the color bar\n",
    "# width = (time[1]-time[0])/np.timedelta64(1, 'D') # determine the width of the bar\n",
    "# prev = depths[0] # this is used as the \"bottom\" for the bars\n",
    "# # loop over each of the layers\n",
    "# for s, w in zip(depths[1:], tmp[0:]):\n",
    "#     plt.bar(time, prev-s, width=width, color=colors(norm(w)), bottom=s, edgecolor='none')\n",
    "#     prev = s\n",
    "    \n",
    "# # plot a color bar\n",
    "# sm = plt.cm.ScalarMappable(cmap=colors, norm=norm)\n",
    "# sm._A = []\n",
    "# plt.colorbar(sm, extend='both', label='{} ({})'.format(ds.mLayerTemp.long_name, 'ºC'))\n",
    "# # add a top line with the snow depth\n",
    "# plt.plot(time, (ds.iLayerHeight[ds.ifcTotoStartIndex-1]*(-1)).values, color='black')"
   ]
  },
  {
   "cell_type": "code",
   "execution_count": 82,
   "metadata": {
    "collapsed": false
   },
   "outputs": [
    {
     "name": "stdout",
     "output_type": "stream",
     "text": [
      "[ 1.78588684  1.7689758   1.72470651  1.6240318   1.4012556 ]\n"
     ]
    },
    {
     "data": {
      "text/plain": [
       "[<matplotlib.lines.Line2D at 0x129479550>]"
      ]
     },
     "execution_count": 82,
     "metadata": {},
     "output_type": "execute_result"
    },
    {
     "data": {
      "image/png": "[encoded data removed]",
      "text/plain": [
       "<matplotlib.figure.Figure at 0x128ab9a90>"
      ]
     },
     "metadata": {},
     "output_type": "display_data"
    }
   ],
   "source": [
    "print(depths[:int(ds.nLayers.values[4000]) - int(ds.nSoil.values[4000]), 4000])\n",
    "plt.plot(depths[:, 4000])\n",
    "plt.plot(tmp[:, 4000])"
   ]
  },
  {
   "cell_type": "code",
   "execution_count": 14,
   "metadata": {
    "collapsed": false
   },
   "outputs": [
    {
     "name": "stdout",
     "output_type": "stream",
     "text": [
      "<xarray.Dataset>\n",
      "Dimensions:                (ifcSoilAndTime: 112574, ifcTotoAndTime: 112574, midTotoAndTime: 112574, time: 8041)\n",
      "Coordinates:\n",
      "  * time                   (time) datetime64[ns] 2008-10-01 ...\n",
      "    hru                    int32 1\n",
      "Dimensions without coordinates: ifcSoilAndTime, ifcTotoAndTime, midTotoAndTime\n",
      "Data variables:\n",
      "    pptrate                (time) float64 0.0 0.0 0.0 0.0 0.0 0.0 0.0 0.0 ...\n",
      "    airtemp                (time) float64 275.8 275.7 275.7 275.4 275.5 ...\n",
      "    nSnow                  (time) int32 0 0 0 0 0 0 0 0 0 0 0 0 0 0 0 0 0 0 ...\n",
      "    nSoil                  (time) int32 8 8 8 8 8 8 8 8 8 8 8 8 8 8 8 8 8 8 ...\n",
      "    nLayers                (time) int32 8 8 8 8 8 8 8 8 8 8 8 8 8 8 8 8 8 8 ...\n",
      "    midTotoStartIndex      (time) int32 1 9 17 25 33 41 49 57 65 73 81 89 97 ...\n",
      "    ifcSoilStartIndex      (time) int32 1 10 19 28 37 46 55 64 73 82 91 100 ...\n",
      "    ifcTotoStartIndex      (time) int32 1 10 19 28 37 46 55 64 73 82 91 100 ...\n",
      "    scalarSnowDepth        (time) float64 0.0 0.0 0.0 0.0 0.0 0.0 0.0 0.0 ...\n",
      "    scalarSWE              (time) float64 0.0 0.0 0.0 0.0 0.0 0.0 0.0 0.0 ...\n",
      "    mLayerTemp             (midTotoAndTime) float64 283.6 284.9 286.7 288.1 ...\n",
      "    mLayerVolFracIce       (midTotoAndTime) float64 0.0 0.0 0.0 0.0 0.0 0.0 ...\n",
      "    mLayerVolFracLiq       (midTotoAndTime) float64 0.356 0.3509 0.346 ...\n",
      "    mLayerVolFracWat       (midTotoAndTime) float64 0.356 0.3509 0.346 ...\n",
      "    scalarSurfaceTemp      (time) float64 283.6 281.8 280.8 280.2 279.8 ...\n",
      "    mLayerDepth            (midTotoAndTime) float64 0.01 0.03 0.06 0.15 0.25 ...\n",
      "    iLayerHeight           (ifcTotoAndTime) float64 -0.0 0.01 0.04 0.1 0.25 ...\n",
      "    scalarSenHeatTotal     (time) float64 -70.23 -22.64 -8.594 -7.394 -2.636 ...\n",
      "    scalarLatHeatTotal     (time) float64 -171.2 -91.84 -70.98 -59.77 -38.25 ...\n",
      "    scalarSnowSublimation  (time) float64 0.0 0.0 0.0 0.0 0.0 0.0 0.0 0.0 ...\n",
      "    scalarRainPlusMelt     (time) float64 -9.999e+03 -9.999e+03 -9.999e+03 ...\n",
      "    scalarInfiltration     (time) float64 1.869e-07 8.496e-09 7.29e-10 ...\n",
      "    scalarExfiltration     (time) float64 0.0 0.0 0.0 0.0 0.0 0.0 0.0 0.0 ...\n",
      "    scalarSurfaceRunoff    (time) float64 3.497e-12 1.77e-13 1.468e-14 ...\n",
      "    iLayerLiqFluxSoil      (ifcSoilAndTime) float64 1.443e-07 1.115e-07 ...\n",
      "Attributes:\n",
      "    soilStress: NoahType\n",
      "    stomResist: BallBerry\n",
      "    num_method: itertive\n",
      "    fDerivMeth: analytic\n",
      "    LAI_method: specified\n",
      "    notPopulatedYet: notPopulatedYet\n",
      "    f_Richards: mixdform\n",
      "    groundwatr: noXplict\n",
      "    hc_profile: pow_prof\n",
      "    bcUpprTdyn: nrg_flux\n",
      "    bcLowrTdyn: zeroFlux\n",
      "    bcUpprSoiH: liq_flux\n",
      "    bcLowrSoiH: drainage\n",
      "    veg_traits: CM_QJRMS1998\n",
      "    canopyEmis: simplExp\n",
      "    snowIncept: lightSnow\n",
      "    windPrfile: logBelowCanopy\n",
      "    astability: louisinv\n",
      "    canopySrad: CLM_2stream\n",
      "    alb_method: conDecay\n",
      "    snowLayers: CLM_2010\n",
      "    compaction: anderson\n",
      "    thCondSnow: smnv2000\n",
      "    thCondSoil: mixConstit\n",
      "    spatial_gw: localColumn\n",
      "    subRouting: qInstant\n",
      "    snowDenNew: pahaut_76\n"
     ]
    }
   ],
   "source": [
    "print(ds)"
   ]
  }
 ],
 "metadata": {
  "anaconda-cloud": {},
  "kernelspec": {
   "display_name": "Python [Root]",
   "language": "python",
   "name": "Python [Root]"
  },
  "language_info": {
   "codemirror_mode": {
    "name": "ipython",
    "version": 3
   },
   "file_extension": ".py",
   "mimetype": "text/x-python",
   "name": "python",
   "nbconvert_exporter": "python",
   "pygments_lexer": "ipython3",
   "version": "3.5.2"
  }
 },
 "nbformat": 4,
 "nbformat_minor": 0
}
