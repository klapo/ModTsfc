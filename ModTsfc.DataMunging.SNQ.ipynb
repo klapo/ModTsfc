{
 "cells": [
  {
   "cell_type": "markdown",
   "metadata": {},
   "source": [
    "# Snoqualmie Observations"
   ]
  },
  {
   "cell_type": "code",
   "execution_count": 1,
   "metadata": {
    "collapsed": false
   },
   "outputs": [],
   "source": [
    "# netcdf/numpy/xray/stats\n",
    "import numpy as np\n",
    "from datetime import datetime, timedelta\n",
    "import pandas as pd\n",
    "import xarray as xr\n",
    "from scipy.stats.stats import pearsonr\n",
    "\n",
    "# OS interaction\n",
    "import sys, pickle, os\n",
    "\n",
    "# import plotting\n",
    "import seaborn as sns\n",
    "import matplotlib\n",
    "from matplotlib.pyplot import subplots\n",
    "import matplotlib.pyplot as plt\n",
    "from matplotlib import cm\n",
    "from mpl_toolkits.basemap import Basemap\n",
    "\n",
    "# Offline Turbulence Package\n",
    "import turbpy\n",
    "\n",
    "# Customize\n",
    "sns.set_style(\"whitegrid\")\n",
    "sns.set_context('paper')\n",
    "%matplotlib inline"
   ]
  },
  {
   "cell_type": "code",
   "execution_count": 2,
   "metadata": {
    "collapsed": false
   },
   "outputs": [],
   "source": [
    "# --------------------------------------------------------------------------------------------------------------------\n",
    "# Directory Lists\n",
    "# Unix\n",
    "if 'linux' in sys.platform:\n",
    "    dirPre = '/home/lapok/gdrive/'\n",
    "# Mac\n",
    "elif 'darwin' in sys.platform:\n",
    "    dirPre = '/Users/karllapo/gdrive/'\n",
    "\n",
    "dirProj = dirPre + 'SnowHydrology/proj/ModTsfc/'\n",
    "dirPrint = dirProj + '/Graphics'\n",
    "dirData = dirProj + 'data'\n",
    "\n",
    "# Original Snoqualmie observations\n",
    "dirDataRaw = dirPre + 'GroundObs/Snoqualmie/Raw/SNQ_Data/'"
   ]
  },
  {
   "cell_type": "markdown",
   "metadata": {},
   "source": [
    "# Sub-functions for calculating dewpoint/RH"
   ]
  },
  {
   "cell_type": "code",
   "execution_count": 3,
   "metadata": {
    "collapsed": true
   },
   "outputs": [],
   "source": [
    "def calc_RH(p,q,T):\n",
    "    RH = np.empty_like(T)\n",
    "    if np.nanmin(T) < 200:\n",
    "        T = T + 273.16\n",
    "    T_0 = 273.16\n",
    "\n",
    "    RH = .263*p*q* (np.exp( (17.67*(T-T_0)) / (T-29.65) ))**(-1)\n",
    "    RH[RH > 100] = 100\n",
    "    return(RH)\n",
    "\n",
    "def calc_Tdew(T,RH):\n",
    "    # Unit checks\n",
    "    if np.nanmax(T) > 100 or np.nanmin(T) > 40:\n",
    "        raise ValueError('Air temperature must be in Celsius')\n",
    "\n",
    "    if np.nanmax(RH) > 1 or np.nanmin(RH) < 0:\n",
    "        RH = RH/100\n",
    "        if np.nanmax(RH) > 1 or np.nanmin(RH) < 0:\n",
    "            raise ValueError('Relative humidity must be a fraction on [0,1]')\n",
    "\n",
    "    if not np.size(RH) == np.size(T):\n",
    "        raise ValueError('Relative humidity and air temperature must have the same number of elements')\n",
    "\n",
    "    # -----------------------------------------------------------------------------------------------\n",
    "    # ALGORITHM\n",
    "    # When are we calculating with respect to frost or water?\n",
    "    frost_ind = np.flatnonzero(T <= 0)\n",
    "    water_ind = np.flatnonzero(T > 0)\n",
    "    # Frost coefficients \n",
    "    b_frost = 22.587\n",
    "    c_frost = 273.86\n",
    "    # Water coefficients\n",
    "    b_water = 17.625\n",
    "    c_water = 243.03\n",
    "\n",
    "    # Pre-allocate\n",
    "    Tdew = np.empty_like(T)\n",
    "\n",
    "    Tdew[frost_ind] = MagnusTetens(T[frost_ind],RH[frost_ind],b_frost,c_frost)\n",
    "    Tdew[water_ind] = MagnusTetens(T[water_ind],RH[water_ind],b_water,c_water)\n",
    "\n",
    "    return(Tdew)\n",
    "\n",
    "# SUB-FUNCTION for actual expression\n",
    "def MagnusTetens(T,RH,b,c):\n",
    "    dew = (c*( np.log(RH) + (b * T)/(c + T) )) / ( b - np.log(RH) - (b * T)/(c + T) )\n",
    "    return(dew)"
   ]
  },
  {
   "cell_type": "markdown",
   "metadata": {},
   "source": [
    "## Snoqualmie Model Forcing Data"
   ]
  },
  {
   "cell_type": "code",
   "execution_count": 4,
   "metadata": {
    "collapsed": false
   },
   "outputs": [
    {
     "name": "stderr",
     "output_type": "stream",
     "text": [
      "//anaconda/lib/python3.5/site-packages/pandas/io/parsers.py:1961: FutureWarning: split() requires a non-empty pattern match.\n",
      "  yield pat.split(line.strip())\n",
      "//anaconda/lib/python3.5/site-packages/pandas/io/parsers.py:1963: FutureWarning: split() requires a non-empty pattern match.\n",
      "  yield pat.split(line.strip())\n",
      "//anaconda/lib/python3.5/site-packages/ipykernel/__main__.py:46: RuntimeWarning: divide by zero encountered in true_divide\n",
      "//anaconda/lib/python3.5/site-packages/ipykernel/__main__.py:46: RuntimeWarning: invalid value encountered in true_divide\n"
     ]
    }
   ],
   "source": [
    "# date parsing function for pandas csv_read\n",
    "def parse(y, mo, dy, hr, mn):\n",
    "    s = '00'\n",
    "    date_str = y+':'+mo+':'+dy+'_'+hr+':'+mn+':'+s\n",
    "    dt = datetime.strptime(date_str,\"%Y:%m:%d_%H:%M:%S\")\n",
    "    return dt\n",
    "\n",
    "# -------------------------------------------------------------------------\n",
    "# Read forcing data\n",
    "os.chdir(dirDataRaw  + 'Filled_Forcing')\n",
    "datafile = 'Met_Forcing_SNQ_10_1_2012_5_11_2015.txt'\n",
    "SNQ = pd.read_csv(datafile,\n",
    "                  sep=r\"\\s*\",\n",
    "                  header=None,\n",
    "                  parse_dates={'Datetime' : [0, 1, 2, 3, 4]},\n",
    "                  date_parser=parse,\n",
    "                  index_col='Datetime',\n",
    "                  engine='python',)\n",
    "# Format\n",
    "SNQ.columns = ['seconds', 'precip', 'SWdwn', 'LWdwn', 'Tair', 'WIND', 'Press', 'QS']\n",
    "SNQ.drop('seconds', axis=1, inplace=True)\n",
    "\n",
    "# [K] -> [C]\n",
    "SNQ.Tair = SNQ.Tair - 273.15\n",
    "\n",
    "# -------------------------------------------------------------------------\n",
    "# RH\n",
    "SNQ['RH'] = calc_RH(SNQ.Press.values, SNQ.QS.values, SNQ.Tair.values)\n",
    "# Dew point temperature\n",
    "SNQ['Tdew'] = calc_Tdew(SNQ.Tair.values - 273.16, SNQ.RH.values)\n",
    "\n",
    "# -------------------------------------------------------------------------\n",
    "# Convert to xarray Dataset\n",
    "SNQ = xr.Dataset.from_dataframe(SNQ)\n",
    "SNQ = SNQ.rename({'Datetime': 'time'})\n"
   ]
  },
  {
   "cell_type": "markdown",
   "metadata": {},
   "source": [
    "## Read QC'ed half-hourly data"
   ]
  },
  {
   "cell_type": "code",
   "execution_count": 5,
   "metadata": {
    "collapsed": false
   },
   "outputs": [
    {
     "name": "stderr",
     "output_type": "stream",
     "text": [
      "//anaconda/lib/python3.5/site-packages/xarray/core/variable.py:1038: RuntimeWarning: invalid value encountered in greater\n",
      "  if not reflexive\n",
      "//anaconda/lib/python3.5/site-packages/xarray/core/variable.py:1038: RuntimeWarning: invalid value encountered in less\n",
      "  if not reflexive\n"
     ]
    }
   ],
   "source": [
    "# date parsing function for pandas csv_read\n",
    "def parse(y, mo, dy, hr, mn):\n",
    "    s = '00'\n",
    "    date_str = y+':'+mo+':'+dy+'_'+hr+':'+mn+':'+s\n",
    "    dt = datetime.strptime(date_str,\"%Y:%m:%d_%H:%M:%S\")\n",
    "    return dt\n",
    "\n",
    "# -------------------------------------------------------------------------\n",
    "# Read supporting met data\n",
    "os.chdir(dirDataRaw + 'Quality_Controled')\n",
    "datafile = 'SNQ_QC_30min_2013_2015.csv'\n",
    "support = pd.read_csv(datafile,\n",
    "                      sep=',',\n",
    "                      header=0,\n",
    "                      na_values=-9999,\n",
    "                      skiprows=[1,2],\n",
    "                      parse_dates={'Datetime' : [0, 1, 2, 3, 4]},\n",
    "                      date_parser=parse,\n",
    "                      index_col='Datetime')\n",
    "\n",
    "# Reindex to a common time step with forcing data\n",
    "support = support.reindex(SNQ.time.values, fill_value=np.nan)\n",
    "\n",
    "# -------------------------------------------------------------------------\n",
    "# Convert to xarray Dataset\n",
    "support = xr.Dataset(support)\n",
    "support = support.rename({'Datetime':'time', 'Snowdepth': 'snowDepth'})\n",
    "\n",
    "# -------------------------------------------------------------------------\n",
    "# Surface temperature and snow presence\n",
    "# Average together both surface IR thermometers to get a single time series\n",
    "support['Tsrf'] = xr.concat([support.Tsrf_1, support.Tsrf_2], 'concatDim').mean(dim='concatDim')\n",
    "\n",
    "# Take daily average, reindex to half-hourly time series, use in snow presence criteria\n",
    "TsrfDaily = support.Tsrf.resample(how='mean', freq='d', dim='time', label='left')\n",
    "TsrfDaily = TsrfDaily.reindex_like(support, method='ffill')\n",
    "\n",
    "# bare ground when no snowdepth recorded or the daily surface temperature is above freezing\n",
    "groundSurfTemp = support.Tsrf[(support.snowDepth == 0) | (TsrfDaily > 0.5)]\n",
    "\n",
    "# snow covered ground when snow is observed and the surface temperature is below freezing\n",
    "snowSurfTemp = support.Tsrf[(support.snowDepth > 0) & (TsrfDaily < 0.5)]\n",
    "\n",
    "# Assign to support xarray.Dataset\n",
    "support['groundTs'] = groundSurfTemp\n",
    "support['snowTs'] = snowSurfTemp\n",
    "\n",
    "# Create snow presence variable\n",
    "snowPres = ((support.snowDepth > 0) | (TsrfDaily < 0.5))\n",
    "support['SP'] = snowPres.astype(int)"
   ]
  },
  {
   "cell_type": "code",
   "execution_count": 7,
   "metadata": {
    "collapsed": false
   },
   "outputs": [
    {
     "name": "stdout",
     "output_type": "stream",
     "text": [
      "<xarray.Dataset>\n",
      "Dimensions:    (time: 45741)\n",
      "Coordinates:\n",
      "  * time       (time) datetime64[ns] 2012-10-01 2012-10-01T00:30:00 ...\n",
      "Data variables:\n",
      "    precip     (time) float64 0.0 0.0 0.0 0.0 0.0 0.0 0.0 0.0 0.0 0.0 0.0 ...\n",
      "    SWdwn      (time) float64 0.0 0.0 0.0 0.0 0.0 0.0 0.0 0.0 0.0 0.0 0.0 ...\n",
      "    LWdwn      (time) float64 286.9 286.9 286.5 286.5 286.5 286.5 286.5 ...\n",
      "    Tair       (time) float64 5.856 5.856 5.875 6.061 6.267 6.214 5.994 ...\n",
      "    WIND       (time) float64 0.068 0.126 0.06 0.126 0.045 0.099 0.199 0.116 ...\n",
      "    Press      (time) float64 9.088e+04 9.086e+04 9.085e+04 9.085e+04 ...\n",
      "    QS         (time) float64 0.005277 0.005341 0.005394 0.005419 0.005373 ...\n",
      "    RH         (time) float64 83.29 84.28 85.0 84.3 82.4 83.71 84.1 84.68 ...\n",
      "    Tdew       (time) float64 -267.3 -267.3 -267.3 -267.1 -266.9 -266.9 ...\n",
      "    Albedo     (time) float64 nan nan nan nan nan nan nan nan nan nan nan ...\n",
      "    Tsrf       (time) float64 nan nan nan nan nan nan nan nan nan nan nan ...\n",
      "    SP         (time) int64 0 0 0 0 0 0 0 0 0 0 0 0 0 0 0 0 0 0 0 0 0 0 0 0 ...\n",
      "    snowTs     (time) float64 nan nan nan nan nan nan nan nan nan nan nan ...\n",
      "    snowDepth  (time) float64 0.0 0.0 0.0 0.0 0.0 0.0 0.0 0.0 0.0 0.0 0.0 ...\n",
      "    groundTs   (time) float64 nan nan nan nan nan nan nan nan nan nan nan ...\n"
     ]
    }
   ],
   "source": [
    "# -------------------------------------------------------------------------\n",
    "# Add necessary support data to SNQ Dataset\n",
    "# Many other variables are available, but I'm selecting only a small collection of them\n",
    "SNQ['Albedo'] = support['Albedo']\n",
    "SNQ['Tsrf'] = support['Tsrf']\n",
    "SNQ['SP'] = support['SP']\n",
    "SNQ['snowTs'] = support['snowTs']\n",
    "SNQ['groundTs'] = support['groundTs']\n",
    "SNQ['snowDepth'] = support['snowDepth']\n",
    "\n",
    "# -------------------------------------------------------------------------\n",
    "# Write netcdf\n",
    "os.chdir(dirData)\n",
    "SNQ.to_netcdf('SNQ.ModTsfc.nc')\n",
    "print(SNQ)"
   ]
  },
  {
   "cell_type": "code",
   "execution_count": null,
   "metadata": {
    "collapsed": true
   },
   "outputs": [],
   "source": []
  }
 ],
 "metadata": {
  "anaconda-cloud": {},
  "kernelspec": {
   "display_name": "Python [Root]",
   "language": "python",
   "name": "Python [Root]"
  },
  "language_info": {
   "codemirror_mode": {
    "name": "ipython",
    "version": 3
   },
   "file_extension": ".py",
   "mimetype": "text/x-python",
   "name": "python",
   "nbconvert_exporter": "python",
   "pygments_lexer": "ipython3",
   "version": "3.5.2"
  }
 },
 "nbformat": 4,
 "nbformat_minor": 0
}
