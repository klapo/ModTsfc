{
 "cells": [
  {
   "cell_type": "markdown",
   "metadata": {},
   "source": [
    "# Scotty Creek Observations"
   ]
  },
  {
   "cell_type": "code",
   "execution_count": 1,
   "metadata": {
    "collapsed": false
   },
   "outputs": [],
   "source": [
    "# netcdf/numpy/xray/stats\n",
    "import numpy as np\n",
    "from datetime import datetime, timedelta\n",
    "import pandas as pd\n",
    "import xarray as xr\n",
    "from scipy.stats.stats import pearsonr\n",
    "\n",
    "# OS interaction\n",
    "import sys, pickle, os\n",
    "\n",
    "# import plotting\n",
    "import seaborn as sns\n",
    "import matplotlib\n",
    "from matplotlib.pyplot import subplots\n",
    "import matplotlib.pyplot as plt\n",
    "from matplotlib import cm\n",
    "from mpl_toolkits.basemap import Basemap\n",
    "\n",
    "# Offline Turbulence Package\n",
    "import turbpy\n",
    "\n",
    "# Customize\n",
    "sns.set_style(\"whitegrid\")\n",
    "sns.set_context('paper')\n",
    "%matplotlib inline"
   ]
  },
  {
   "cell_type": "code",
   "execution_count": 2,
   "metadata": {
    "collapsed": false
   },
   "outputs": [],
   "source": [
    "# --------------------------------------------------------------------------------------------------------------------\n",
    "# Directory Lists\n",
    "# Unix\n",
    "if 'linux' in sys.platform:\n",
    "    dirPre = '/home/lapok/gdrive/'\n",
    "# Mac\n",
    "elif 'darwin' in sys.platform:\n",
    "    dirPre = '/Users/karllapo/gdrive/'\n",
    "\n",
    "dirProj = dirPre + 'SnowHydrology/proj/ModTsfc/'\n",
    "dirPrint = dirProj + 'Graphics'\n",
    "dirData = dirProj + 'data'\n",
    "\n",
    "# Original Swamp Angel observations\n",
    "dirDataRaw = dirPre + 'GroundObs/SenatorBeck/Raw'"
   ]
  },
  {
   "cell_type": "markdown",
   "metadata": {},
   "source": [
    "## Read and format the Senator Beck data"
   ]
  },
  {
   "cell_type": "code",
   "execution_count": 3,
   "metadata": {
    "collapsed": false
   },
   "outputs": [],
   "source": [
    "# --------------------------------------------------------------------------------------------\n",
    "# data parser functions\n",
    "def parser(x):\n",
    "    return(pd.datetime.strptime(x, '%Y %j %H'))\n",
    "\n",
    "def hourConverter(x):\n",
    "    x = float(x)-100.\n",
    "    if x >= 1000.:\n",
    "        x = str(int(x/100))\n",
    "    elif x < 1000. and x >= 0.:\n",
    "        x = '0'+str(int(x/100))\n",
    "    return x"
   ]
  },
  {
   "cell_type": "code",
   "execution_count": 14,
   "metadata": {
    "collapsed": false
   },
   "outputs": [],
   "source": [
    "# --------------------------------------------------------------------------------------------\n",
    "# Read the Senator Beck data\n",
    "os.chdir(dirDataRaw)\n",
    "fields_to_keep = ['Hour',\n",
    "                  'Year',\n",
    "                  'DOY',\n",
    "                  'UpWind_Uavg_MS',\n",
    "                  'PyDwn_Unfilt_W',\n",
    "                  'PyUp_Unfilt_W',\n",
    "                  'Pyrgeom_W',\n",
    "                  'Sno_IR_C',\n",
    "                  'UpAir_Min_C',\n",
    "                  'UpAir_Max_C',\n",
    "                  'Up_RH',\n",
    "                  'Sno_Height_M',\n",
    "                  'Day_H2O_mm'\n",
    "                 ]\n",
    "\n",
    "SWA = pd.read_csv('SASP_1hr.withHeader.txt',\n",
    "                  converters={'Hour': hourConverter},\n",
    "                  parse_dates={'time': ['Year', 'DOY', 'Hour']},\n",
    "                  date_parser=parser,\n",
    "                  index_col='time',\n",
    "                  usecols=fields_to_keep,\n",
    "                  header=0)\n",
    "\n",
    "SWA = xr.Dataset.from_dataframe(SWA)"
   ]
  },
  {
   "cell_type": "code",
   "execution_count": 15,
   "metadata": {
    "collapsed": false
   },
   "outputs": [],
   "source": [
    "# --------------------------------------------------------------------------------------------\n",
    "# Refine the Dataset\n",
    "SWA.rename({'Sno_IR_C': 'Tsrf',\n",
    "            'PyDwn_Unfilt_W': 'SWup',\n",
    "            'PyUp_Unfilt_W': 'SWdwn',\n",
    "            'Pyrgeom_W': 'LWdwn',\n",
    "            'UpWind_Uavg_MS': 'WIND',\n",
    "            'Day_H2O_mm': 'precip',\n",
    "            'Sno_Height_M': 'snowDepth',\n",
    "            'Up_RH': 'RH'}, inplace=True)\n",
    "SWA['Tair'] = (SWA.UpAir_Max_C + SWA.UpAir_Min_C) / 2\n",
    "SWA = SWA.drop(['UpAir_Min_C', 'UpAir_Max_C'])\n",
    "SWA['LWup'] = .98 * 5.67 * 10 ** (-8) * ( (SWA.Tsrf + 273.15) ** 4)"
   ]
  },
  {
   "cell_type": "code",
   "execution_count": 23,
   "metadata": {
    "collapsed": false
   },
   "outputs": [
    {
     "name": "stdout",
     "output_type": "stream",
     "text": [
      "<xarray.Dataset>\n",
      "Dimensions:    (time: 84299)\n",
      "Coordinates:\n",
      "  * time       (time) datetime64[ns] 2003-11-08T13:00:00 2003-11-08T14:00:00 ...\n",
      "Data variables:\n",
      "    WIND       (time) float64 nan nan nan nan nan nan nan nan nan nan nan ...\n",
      "    SWup       (time) float64 nan nan nan nan nan nan nan nan nan nan nan ...\n",
      "    SWdwn      (time) float64 nan nan nan nan nan nan nan nan nan nan nan ...\n",
      "    LWdwn      (time) float64 nan nan nan nan nan nan nan nan nan nan nan ...\n",
      "    Tsrf       (time) float64 nan nan nan nan nan nan nan nan nan nan nan ...\n",
      "    snowDepth  (time) float64 0.27 0.27 0.27 0.28 0.29 0.29 0.28 0.28 0.29 ...\n",
      "    precip     (time) float64 0.0 0.0 0.0 0.0 0.0 0.0 0.0 0.0 0.0 0.0 0.0 ...\n",
      "    RH         (time) float64 nan nan nan nan nan nan nan nan nan nan nan ...\n",
      "    Tair       (time) float64 nan nan nan nan nan nan nan nan nan nan nan ...\n",
      "    LWup       (time) float64 nan nan nan nan nan nan nan nan nan nan nan ...\n",
      "    groundTs   (time) float64 nan nan nan nan nan nan nan nan nan nan nan ...\n",
      "    snowTs     (time) float64 nan nan nan nan nan nan nan nan nan nan nan ...\n",
      "    SP         (time) int64 0 0 0 0 0 0 0 0 0 0 0 0 0 0 0 0 0 0 0 0 0 0 0 0 ...\n"
     ]
    },
    {
     "name": "stderr",
     "output_type": "stream",
     "text": [
      "//anaconda/lib/python3.5/site-packages/xarray/core/variable.py:1038: RuntimeWarning: invalid value encountered in greater\n",
      "  if not reflexive\n",
      "//anaconda/lib/python3.5/site-packages/pandas/tseries/base.py:276: VisibleDeprecationWarning: boolean index did not match indexed array along dimension 0; dimension is 84299 but corresponding boolean dimension is 3512\n",
      "  result = getitem(key)\n",
      "//anaconda/lib/python3.5/site-packages/xarray/core/variable.py:1038: RuntimeWarning: invalid value encountered in less\n",
      "  if not reflexive\n",
      "//anaconda/lib/python3.5/site-packages/xarray/core/variable.py:1038: RuntimeWarning: invalid value encountered in less_equal\n",
      "  if not reflexive\n"
     ]
    }
   ],
   "source": [
    "# Take daily average, reindex to half-hourly time series, use in snow presence criteria\n",
    "TsrfDaily = SWA.Tsrf.resample(how='mean', freq='d', dim='time', label='left')\n",
    "\n",
    "# bare ground when no snowdepth recorded or the daily surface temperature is above freezing\n",
    "groundSurfTemp = SWA.Tsrf[(SWA.snowDepth == 0) | (TsrfDaily > 0.5)]\n",
    "\n",
    "# snow covered ground when snow is observed and the surface temperature is below freezing\n",
    "snowSurfTemp = SWA.Tsrf[(SWA.snowDepth > 0) & (TsrfDaily < 0.5)]\n",
    "\n",
    "# Assign to support xarray.Dataset\n",
    "SWA['groundTs'] = groundSurfTemp\n",
    "SWA['snowTs'] = snowSurfTemp\n",
    "\n",
    "# Create snow presence variable\n",
    "snowPres = ((SWA.snowDepth > 0) | (TsrfDaily < 0.5))\n",
    "SWA['SP'] = snowPres.astype(int)\n",
    "SWA['SP'] = ( (SWA.snowDepth > 0.05) & (SWA.Tsrf <= 0.025)).astype(int)\n",
    "print(SWA)"
   ]
  },
  {
   "cell_type": "code",
   "execution_count": 24,
   "metadata": {
    "collapsed": false
   },
   "outputs": [
    {
     "name": "stdout",
     "output_type": "stream",
     "text": [
      "<xarray.Dataset>\n",
      "Dimensions:    (time: 84299)\n",
      "Coordinates:\n",
      "  * time       (time) datetime64[ns] 2003-11-08T13:00:00 2003-11-08T14:00:00 ...\n",
      "Data variables:\n",
      "    WIND       (time) float64 nan nan nan nan nan nan nan nan nan nan nan ...\n",
      "    SWup       (time) float64 nan nan nan nan nan nan nan nan nan nan nan ...\n",
      "    SWdwn      (time) float64 nan nan nan nan nan nan nan nan nan nan nan ...\n",
      "    LWdwn      (time) float64 nan nan nan nan nan nan nan nan nan nan nan ...\n",
      "    Tsrf       (time) float64 nan nan nan nan nan nan nan nan nan nan nan ...\n",
      "    snowDepth  (time) float64 0.27 0.27 0.27 0.28 0.29 0.29 0.28 0.28 0.29 ...\n",
      "    precip     (time) float64 0.0 0.0 0.0 0.0 0.0 0.0 0.0 0.0 0.0 0.0 0.0 ...\n",
      "    RH         (time) float64 nan nan nan nan nan nan nan nan nan nan nan ...\n",
      "    Tair       (time) float64 nan nan nan nan nan nan nan nan nan nan nan ...\n",
      "    LWup       (time) float64 nan nan nan nan nan nan nan nan nan nan nan ...\n",
      "    groundTs   (time) float64 nan nan nan nan nan nan nan nan nan nan nan ...\n",
      "    snowTs     (time) float64 nan nan nan nan nan nan nan nan nan nan nan ...\n",
      "    SP         (time) int64 0 0 0 0 0 0 0 0 0 0 0 0 0 0 0 0 0 0 0 0 0 0 0 0 ...\n"
     ]
    }
   ],
   "source": [
    "# -------------------------------------------------------------------------\n",
    "# Write netcdf\n",
    "os.chdir(dirData)\n",
    "SWA.to_netcdf('SWA.ModTsfc.nc')\n",
    "print(SWA)"
   ]
  },
  {
   "cell_type": "code",
   "execution_count": null,
   "metadata": {
    "collapsed": true
   },
   "outputs": [],
   "source": []
  }
 ],
 "metadata": {
  "anaconda-cloud": {},
  "kernelspec": {
   "display_name": "Python [Root]",
   "language": "python",
   "name": "Python [Root]"
  },
  "language_info": {
   "codemirror_mode": {
    "name": "ipython",
    "version": 3
   },
   "file_extension": ".py",
   "mimetype": "text/x-python",
   "name": "python",
   "nbconvert_exporter": "python",
   "pygments_lexer": "ipython3",
   "version": "3.5.2"
  }
 },
 "nbformat": 4,
 "nbformat_minor": 0
}
