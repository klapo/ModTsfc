{
 "cells": [
  {
   "cell_type": "markdown",
   "metadata": {},
   "source": [
    "# Col de Porte Observations"
   ]
  },
  {
   "cell_type": "code",
   "execution_count": 1,
   "metadata": {
    "collapsed": false
   },
   "outputs": [],
   "source": [
    "# netcdf/numpy/xray/stats\n",
    "import numpy as np\n",
    "from datetime import datetime, timedelta\n",
    "import pandas as pd\n",
    "import xarray as xr\n",
    "from scipy.stats.stats import pearsonr\n",
    "\n",
    "# OS interaction\n",
    "import sys, pickle, os\n",
    "\n",
    "# import plotting\n",
    "import seaborn as sns\n",
    "import matplotlib\n",
    "from matplotlib.pyplot import subplots\n",
    "import matplotlib.pyplot as plt\n",
    "from matplotlib import cm\n",
    "from mpl_toolkits.basemap import Basemap\n",
    "\n",
    "# Offline Turbulence Package\n",
    "import turbpy\n",
    "\n",
    "# Customize\n",
    "sns.set_style(\"whitegrid\")\n",
    "sns.set_context('paper')\n",
    "%matplotlib inline"
   ]
  },
  {
   "cell_type": "code",
   "execution_count": 2,
   "metadata": {
    "collapsed": false
   },
   "outputs": [],
   "source": [
    "# --------------------------------------------------------------------------------------------------------------------\n",
    "# Directory Lists\n",
    "# Unix\n",
    "if 'linux' in sys.platform:\n",
    "    dirPre = '/home/lapok/gdrive/'\n",
    "# Mac\n",
    "elif 'darwin' in sys.platform:\n",
    "    dirPre = '/Users/karllapo/gdrive/'\n",
    "\n",
    "dirProj = dirPre + 'SnowHydrology/proj/ModTsfc/'\n",
    "dirPrint = dirProj + 'Graphics'\n",
    "dirData = dirProj + 'data'\n",
    "\n",
    "# Original Snoqualmie observations\n",
    "dirDataRaw = dirProj + 'data/CDP'"
   ]
  },
  {
   "cell_type": "markdown",
   "metadata": {},
   "source": [
    "# Sub-functions for calculating dewpoint/RH"
   ]
  },
  {
   "cell_type": "code",
   "execution_count": 3,
   "metadata": {
    "collapsed": true
   },
   "outputs": [],
   "source": [
    "def calc_RH(p,q,T):\n",
    "    RH = np.empty_like(T)\n",
    "    if np.nanmin(T) < 200:\n",
    "        T = T + 273.16\n",
    "    T_0 = 273.16\n",
    "\n",
    "    RH = .263*p*q* (np.exp( (17.67*(T-T_0)) / (T-29.65) ))**(-1)\n",
    "    RH[RH > 100] = 100\n",
    "    return(RH)\n",
    "\n",
    "def calc_Tdew(T,RH):\n",
    "    # Unit checks\n",
    "    if np.nanmax(T) > 100 or np.nanmin(T) > 40:\n",
    "        raise ValueError('Air temperature must be in Celsius')\n",
    "\n",
    "    if np.nanmax(RH) > 1 or np.nanmin(RH) < 0:\n",
    "        RH = RH/100\n",
    "        if np.nanmax(RH) > 1 or np.nanmin(RH) < 0:\n",
    "            raise ValueError('Relative humidity must be a fraction on [0,1]')\n",
    "\n",
    "    if not np.size(RH) == np.size(T):\n",
    "        raise ValueError('Relative humidity and air temperature must have the same number of elements')\n",
    "\n",
    "    # -----------------------------------------------------------------------------------------------\n",
    "    # ALGORITHM\n",
    "    # When are we calculating with respect to frost or water?\n",
    "    frost_ind = np.flatnonzero(T <= 0)\n",
    "    water_ind = np.flatnonzero(T > 0)\n",
    "    # Frost coefficients \n",
    "    b_frost = 22.587\n",
    "    c_frost = 273.86\n",
    "    # Water coefficients\n",
    "    b_water = 17.625\n",
    "    c_water = 243.03\n",
    "\n",
    "    # Pre-allocate\n",
    "    Tdew = np.empty_like(T)\n",
    "\n",
    "    Tdew[frost_ind] = MagnusTetens(T[frost_ind],RH[frost_ind],b_frost,c_frost)\n",
    "    Tdew[water_ind] = MagnusTetens(T[water_ind],RH[water_ind],b_water,c_water)\n",
    "\n",
    "    return(Tdew)\n",
    "\n",
    "# SUB-FUNCTION for actual expression\n",
    "def MagnusTetens(T,RH,b,c):\n",
    "    dew = (c*( np.log(RH) + (b * T)/(c + T) )) / ( b - np.log(RH) - (b * T)/(c + T) )\n",
    "    return(dew)"
   ]
  },
  {
   "cell_type": "markdown",
   "metadata": {},
   "source": [
    "## CDP Model Forcing Data"
   ]
  },
  {
   "cell_type": "code",
   "execution_count": 4,
   "metadata": {
    "collapsed": false
   },
   "outputs": [
    {
     "name": "stdout",
     "output_type": "stream",
     "text": [
      "<xarray.Dataset>\n",
      "Dimensions:          (location: 1, time: 157776)\n",
      "Coordinates:\n",
      "  * time             (time) datetime64[ns] 1993-08-01 ...\n",
      "Dimensions without coordinates: location\n",
      "Data variables:\n",
      "    lat              (location) float64 45.3\n",
      "    lon              (location) float64 5.77\n",
      "    altitude         (location) float64 1.325e+03\n",
      "    aspect           (location) float64 0.0\n",
      "    slope            (location) float64 0.0\n",
      "    ZREF             (location) float64 1.5\n",
      "    UREF             (location) float64 10.0\n",
      "    FORC_TIME_STEP   float64 3.6e+03\n",
      "    Tair             (time, location) float64 282.4 282.4 282.3 282.2 282.1 ...\n",
      "    Qair             (time, location) float64 0.006398 0.006309 0.006256 ...\n",
      "    Wind_DIR         (time, location) float64 0.0 0.0 0.0 0.0 0.0 0.0 0.0 ...\n",
      "    Wind             (time, location) float64 1.433 1.233 1.034 0.835 0.736 ...\n",
      "    Rainf            (time, location) float64 0.0 0.0 0.0 0.0 0.0 0.0 0.0 ...\n",
      "    Snowf            (time, location) float64 0.0 0.0 0.0 0.0 0.0 0.0 0.0 ...\n",
      "    LWdown           (time, location) float64 326.7 324.2 321.2 280.0 289.6 ...\n",
      "    DIR_SWdown       (time, location) float64 0.0 0.0 0.0 0.0 0.0 60.07 ...\n",
      "    SCA_SWdown       (time, location) float64 0.0 0.0 0.0 0.0 0.0 26.37 ...\n",
      "    CO2air           (time, location) float64 0.00062 0.00062 0.00062 ...\n",
      "    PSurf            (time, location) float64 8.766e+04 8.76e+04 8.759e+04 ...\n",
      "    NEB              (time, location) float64 0.3949 0.3609 0.3238 0.01857 ...\n",
      "    HUMREL           (time, location) float64 75.67 75.04 74.82 74.57 74.28 ...\n",
      "    Tair_flag        (time) float32 0.0 0.0 0.0 0.0 0.0 0.0 0.0 0.0 0.0 0.0 ...\n",
      "    Qair_flag        (time) float32 0.0 0.0 0.0 0.0 0.0 0.0 0.0 0.0 0.0 0.0 ...\n",
      "    Wind_flag        (time) float32 0.0 0.0 0.0 0.0 0.0 0.0 0.0 0.0 0.0 0.0 ...\n",
      "    Rainf_flag       (time) float32 0.0 0.0 0.0 0.0 0.0 0.0 0.0 0.0 0.0 0.0 ...\n",
      "    Snowf_flag       (time) float32 0.0 0.0 0.0 0.0 0.0 0.0 0.0 0.0 0.0 0.0 ...\n",
      "    LWdown_flag      (time) float32 0.0 0.0 0.0 0.0 0.0 0.0 0.0 0.0 0.0 0.0 ...\n",
      "    DIR_SWdown_flag  (time) float32 0.0 0.0 0.0 0.0 0.0 0.0 0.0 0.0 0.0 0.0 ...\n",
      "    SCA_SWdown_flag  (time) float32 0.0 0.0 0.0 0.0 0.0 0.0 0.0 0.0 0.0 0.0 ...\n",
      "    NEB_flag         (time) float32 0.0 0.0 0.0 0.0 0.0 0.0 0.0 0.0 0.0 0.0 ...\n",
      "    HUMREL_flag      (time) float32 0.0 0.0 0.0 0.0 0.0 0.0 0.0 0.0 0.0 0.0 ...\n",
      "Attributes:\n",
      "    SIMULATIONTYPE: -\n",
      "    history: Thu Dec  8 12:49:39 2011: ncea -d time,8754,8759 MET.nc MET_92.nc\n",
      "    nco_openmp_thread_number: 1\n"
     ]
    }
   ],
   "source": [
    "os.chdir(dirDataRaw)\n",
    "CDP = xr.open_dataset('CDP_met_insitu.nc')\n",
    "print(CDP)"
   ]
  },
  {
   "cell_type": "code",
   "execution_count": 4,
   "metadata": {
    "collapsed": false
   },
   "outputs": [],
   "source": [
    "# date parsing function for pandas csv_read\n",
    "def parse(timeStr):\n",
    "    s = '00'\n",
    "    date_str = timeStr + ':' + s\n",
    "    dt = datetime.strptime(date_str,\"%Y-%m-%dT%H:%M:%S\")\n",
    "    return dt\n",
    "\n",
    "# -------------------------------------------------------------------------\n",
    "# Read forcing data\n",
    "# 24 rows of comments\n",
    "os.chdir(dirDataRaw)\n",
    "datafile = 'CDP_met_insitu.tab'\n",
    "CDP = pd.read_csv(datafile,\n",
    "                  sep='\\t',\n",
    "                  header=0,\n",
    "                  skiprows=24,\n",
    "                  date_parser=parse,\n",
    "                  parse_dates={'time': [0]},\n",
    "                  index_col='time'\n",
    "                 )\n",
    "\n",
    "# Use my naming convention\n",
    "CDP.columns = ['Tair', 'QS', 'WIND', 'precipRain', 'precipSnow', 'LWdwn', 'SWdwnDir', 'SWdwnDif', 'Press']\n",
    "\n",
    "# -------------------------------------------------------------------------\n",
    "# Conversions\n",
    "CDP['SWdwn'] = CDP['SWdwnDir'] + CDP['SWdwnDif']\n",
    "CDP['precip'] = CDP['precipSnow'] + CDP['precipRain']\n",
    "CDP['Press'] = CDP['Press'] * 100\n",
    "CDP['QS'] = CDP['QS'] / 1000\n",
    "\n",
    "# -------------------------------------------------------------------------\n",
    "# RH - this needs some attention to units\n",
    "CDP['RH'] = calc_RH(CDP.Press.values, CDP.QS.values, CDP.Tair.values)\n",
    "# Dew point temperature\n",
    "CDP['Tdew'] = calc_Tdew(CDP.Tair.values, CDP.RH.values)\n",
    "\n",
    "# -------------------------------------------------------------------------\n",
    "# Convert to xarray Dataset\n",
    "CDP = xr.Dataset.from_dataframe(CDP)"
   ]
  },
  {
   "cell_type": "markdown",
   "metadata": {},
   "source": [
    "## Read supporting evaluation data"
   ]
  },
  {
   "cell_type": "code",
   "execution_count": 5,
   "metadata": {
    "collapsed": false
   },
   "outputs": [
    {
     "name": "stderr",
     "output_type": "stream",
     "text": [
      "//anaconda/lib/python3.5/site-packages/xarray/core/variable.py:1130: RuntimeWarning: invalid value encountered in greater\n",
      "  if not reflexive\n",
      "//anaconda/lib/python3.5/site-packages/xarray/core/variable.py:1130: RuntimeWarning: invalid value encountered in less\n",
      "  if not reflexive\n"
     ]
    }
   ],
   "source": [
    "# -------------------------------------------------------------------------\n",
    "# Read supporting data\n",
    "# 19 rows of comments\n",
    "os.chdir(dirDataRaw)\n",
    "datafile = 'CDP_hor_eval.tab'\n",
    "support = pd.read_csv(datafile,\n",
    "                  sep='\\t',\n",
    "                  header=0,\n",
    "                  skiprows=20,\n",
    "                  date_parser=parse,\n",
    "                  parse_dates={'time': [0]},\n",
    "                  index_col='time'\n",
    "                 )\n",
    "\n",
    "# Use my naming convention\n",
    "support.columns = ['snowDepth', 'Tsrf', 'Lysimeter1', 'Lysimeter2',\n",
    "               'groundHeatFlux1', 'groundHeatFlux2', 'groundHeatFlux3', 'Albedo']\n",
    "support.drop(['Lysimeter1', 'Lysimeter2', 'groundHeatFlux1', 'groundHeatFlux2', 'groundHeatFlux3'],\n",
    "             axis=1, inplace=True)\n",
    "\n",
    "# -------------------------------------------------------------------------\n",
    "# Convert to xarray Dataset\n",
    "support = xr.Dataset(support)\n",
    "\n",
    "# Take daily average, reindex to half-hourly time series, use in snow presence criteria\n",
    "TsrfDaily = support.Tsrf.resample(how='mean', freq='d', dim='time', label='left')\n",
    "TsrfDaily = TsrfDaily.reindex_like(support, method='ffill')\n",
    "\n",
    "# bare ground when no snowdepth recorded or the daily surface temperature is above freezing\n",
    "groundSurfTemp = support.Tsrf[(support.snowDepth == 0) | (TsrfDaily > 0.5)]\n",
    "\n",
    "# snow covered ground when snow is observed and the surface temperature is below freezing\n",
    "snowSurfTemp = support.Tsrf[(support.snowDepth > 0) & (TsrfDaily < 0.5)]\n",
    "\n",
    "# Assign to support xarray.Dataset\n",
    "support['groundTs'] = groundSurfTemp\n",
    "support['snowTs'] = snowSurfTemp\n",
    "\n",
    "# Create snow presence variable\n",
    "snowPres = ((support.snowDepth > 0) | (TsrfDaily < 0.5))\n",
    "support['SP'] = snowPres.astype(int)"
   ]
  },
  {
   "cell_type": "code",
   "execution_count": 6,
   "metadata": {
    "collapsed": false
   },
   "outputs": [
    {
     "name": "stdout",
     "output_type": "stream",
     "text": [
      "<xarray.Dataset>\n",
      "Dimensions:     (time: 103995)\n",
      "Coordinates:\n",
      "  * time        (time) datetime64[ns] 1993-11-10 1993-11-10T01:00:00 ...\n",
      "Data variables:\n",
      "    Tair        (time) float64 0.66 0.11 0.13 -0.52 -0.38 -0.61 -0.67 -0.71 ...\n",
      "    QS          (time) float64 0.004486 0.004266 0.004317 0.004117 0.004159 ...\n",
      "    WIND        (time) float64 0.1 0.5 0.4 0.2 0.1 0.1 0.4 0.8 0.3 0.7 1.0 ...\n",
      "    precipRain  (time) float64 0.0 0.0 0.0 0.0 0.0 0.0 0.0 0.0 0.0 0.0 0.0 ...\n",
      "    precipSnow  (time) float64 0.0 0.0 0.0 0.0 0.0 0.0 0.0 0.0 0.0 0.0 0.0 ...\n",
      "    LWdwn       (time) float64 295.8 259.4 265.6 253.6 245.8 225.6 228.9 ...\n",
      "    SWdwnDir    (time) float64 0.0 0.0 0.0 0.0 0.0 0.0 0.0 0.0 0.0 18.53 ...\n",
      "    SWdwnDif    (time) float64 0.278 0.0 0.0 0.278 0.0 0.0 0.0 1.944 20.56 ...\n",
      "    Press       (time) float64 8.726e+04 8.721e+04 8.719e+04 8.719e+04 ...\n",
      "    SWdwn       (time) float64 0.278 0.0 0.0 0.278 0.0 0.0 0.0 1.944 20.56 ...\n",
      "    precip      (time) float64 0.0 0.0 0.0 0.0 0.0 0.0 0.0 0.0 0.0 0.0 0.0 ...\n",
      "    RH          (time) float64 98.16 97.07 98.06 98.05 98.03 98.04 98.03 ...\n",
      "    Tdew        (time) float64 0.4025 -0.2993 -0.1396 -0.758 -0.6207 -0.8483 ...\n",
      "    Albedo      (time) float64 nan nan nan nan nan nan nan nan nan 0.13 0.26 ...\n",
      "    Tsrf        (time) float64 nan nan nan nan nan nan nan nan nan nan nan ...\n",
      "    SP          (time) float64 0.0 0.0 0.0 0.0 0.0 0.0 0.0 0.0 0.0 0.0 0.0 ...\n",
      "    snowTs      (time) float64 nan nan nan nan nan nan nan nan nan nan nan ...\n",
      "    snowDepth   (time) float64 0.0 0.0 0.0 0.0 0.0 0.0 0.0 0.0 0.0 0.0 0.0 ...\n",
      "    groundTs    (time) float64 nan nan nan nan nan nan nan nan nan nan nan ...\n"
     ]
    }
   ],
   "source": [
    "# -------------------------------------------------------------------------\n",
    "# Add necessary support data\n",
    "# Many other variables are available, but I'm selecting only a small collection of them\n",
    "CDP['Albedo'] = support['Albedo']\n",
    "CDP['Tsrf'] = support['Tsrf']\n",
    "CDP['SP'] = support['SP']\n",
    "CDP['snowTs'] = support['snowTs']\n",
    "CDP['snowDepth'] = support['snowDepth']\n",
    "CDP['groundTs'] = support['groundTs']\n",
    "\n",
    "# -------------------------------------------------------------------------\n",
    "# Write netcdf\n",
    "os.chdir(dirData)\n",
    "CDP.to_netcdf('CDP.ModTsfc.nc')\n",
    "print(CDP)"
   ]
  },
  {
   "cell_type": "code",
   "execution_count": null,
   "metadata": {
    "collapsed": true
   },
   "outputs": [],
   "source": []
  }
 ],
 "metadata": {
  "anaconda-cloud": {},
  "kernelspec": {
   "display_name": "Python [Root]",
   "language": "python",
   "name": "Python [Root]"
  },
  "language_info": {
   "codemirror_mode": {
    "name": "ipython",
    "version": 3
   },
   "file_extension": ".py",
   "mimetype": "text/x-python",
   "name": "python",
   "nbconvert_exporter": "python",
   "pygments_lexer": "ipython3",
   "version": "3.5.2"
  }
 },
 "nbformat": 4,
 "nbformat_minor": 0
}
