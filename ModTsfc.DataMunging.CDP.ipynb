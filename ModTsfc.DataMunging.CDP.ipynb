{
 "cells": [
  {
   "cell_type": "markdown",
   "metadata": {},
   "source": [
    "# Col de Porte Observations"
   ]
  },
  {
   "cell_type": "code",
   "execution_count": 1,
   "metadata": {
    "collapsed": false
   },
   "outputs": [],
   "source": [
    "# netcdf/numpy/xray/stats\n",
    "import numpy as np\n",
    "from datetime import datetime, timedelta\n",
    "import pandas as pd\n",
    "import xarray as xr\n",
    "from scipy.stats.stats import pearsonr\n",
    "\n",
    "# OS interaction\n",
    "import sys, pickle, os\n",
    "\n",
    "# import plotting\n",
    "import seaborn as sns\n",
    "import matplotlib\n",
    "from matplotlib.pyplot import subplots\n",
    "import matplotlib.pyplot as plt\n",
    "from matplotlib import cm\n",
    "from mpl_toolkits.basemap import Basemap\n",
    "\n",
    "# Offline Turbulence Package\n",
    "import turbpy\n",
    "\n",
    "# Customize\n",
    "sns.set_style(\"whitegrid\")\n",
    "sns.set_context('paper')\n",
    "%matplotlib inline"
   ]
  },
  {
   "cell_type": "code",
   "execution_count": 2,
   "metadata": {
    "collapsed": false
   },
   "outputs": [],
   "source": [
    "# --------------------------------------------------------------------------------------------------------------------\n",
    "# Directory Lists\n",
    "# Unix\n",
    "if 'linux' in sys.platform:\n",
    "    dirPre = '/home/lapok/gdrive/'\n",
    "# Mac\n",
    "elif 'darwin' in sys.platform:\n",
    "    dirPre = '/Users/karllapo/gdrive/'\n",
    "\n",
    "dirProj = dirPre + 'SnowHydrology/proj/ModTsfc/'\n",
    "dirPrint = dirProj + 'Graphics'\n",
    "dirData = dirProj + 'data'\n",
    "\n",
    "# Original Snoqualmie observations\n",
    "dirDataRaw = dirProj + 'data/CDP'"
   ]
  },
  {
   "cell_type": "markdown",
   "metadata": {},
   "source": [
    "# Sub-functions for calculating dewpoint/RH"
   ]
  },
  {
   "cell_type": "code",
   "execution_count": 3,
   "metadata": {
    "collapsed": true
   },
   "outputs": [],
   "source": [
    "def calc_RH(p,q,T):\n",
    "    RH = np.empty_like(T)\n",
    "    if np.nanmin(T) < 200:\n",
    "        T = T + 273.16\n",
    "    T_0 = 273.16\n",
    "\n",
    "    RH = .263*p*q* (np.exp( (17.67*(T-T_0)) / (T-29.65) ))**(-1)\n",
    "    RH[RH > 100] = 100\n",
    "    return(RH)\n",
    "\n",
    "def calc_Tdew(T,RH):\n",
    "    # Unit checks\n",
    "    if np.nanmax(T) > 100 or np.nanmin(T) > 40:\n",
    "        raise ValueError('Air temperature must be in Celsius')\n",
    "\n",
    "    if np.nanmax(RH) > 1 or np.nanmin(RH) < 0:\n",
    "        RH = RH/100\n",
    "        if np.nanmax(RH) > 1 or np.nanmin(RH) < 0:\n",
    "            raise ValueError('Relative humidity must be a fraction on [0,1]')\n",
    "\n",
    "    if not np.size(RH) == np.size(T):\n",
    "        raise ValueError('Relative humidity and air temperature must have the same number of elements')\n",
    "\n",
    "    # -----------------------------------------------------------------------------------------------\n",
    "    # ALGORITHM\n",
    "    # When are we calculating with respect to frost or water?\n",
    "    frost_ind = np.flatnonzero(T <= 0)\n",
    "    water_ind = np.flatnonzero(T > 0)\n",
    "    # Frost coefficients \n",
    "    b_frost = 22.587\n",
    "    c_frost = 273.86\n",
    "    # Water coefficients\n",
    "    b_water = 17.625\n",
    "    c_water = 243.03\n",
    "\n",
    "    # Pre-allocate\n",
    "    Tdew = np.empty_like(T)\n",
    "\n",
    "    Tdew[frost_ind] = MagnusTetens(T[frost_ind],RH[frost_ind],b_frost,c_frost)\n",
    "    Tdew[water_ind] = MagnusTetens(T[water_ind],RH[water_ind],b_water,c_water)\n",
    "\n",
    "    return(Tdew)\n",
    "\n",
    "# SUB-FUNCTION for actual expression\n",
    "def MagnusTetens(T,RH,b,c):\n",
    "    dew = (c*( np.log(RH) + (b * T)/(c + T) )) / ( b - np.log(RH) - (b * T)/(c + T) )\n",
    "    return(dew)"
   ]
  },
  {
   "cell_type": "markdown",
   "metadata": {},
   "source": [
    "## CDP Model Forcing Data"
   ]
  },
  {
   "cell_type": "code",
   "execution_count": 4,
   "metadata": {
    "collapsed": false
   },
   "outputs": [
    {
     "name": "stdout",
     "output_type": "stream",
     "text": [
      "<xarray.Dataset>\n",
      "Dimensions:     (time: 157776)\n",
      "Coordinates:\n",
      "  * time        (time) datetime64[ns] 1993-08-01 1993-08-01T00:59:59.999987 ...\n",
      "Data variables:\n",
      "    lat         float64 45.3\n",
      "    lon         float64 5.77\n",
      "    altitude    float64 1.325e+03\n",
      "    Tair        (time) float64 9.288 9.205 9.122 9.048 8.978 8.541 8.603 ...\n",
      "    QS          (time) float64 0.006398 0.006309 0.006256 0.006203 0.00615 ...\n",
      "    WIND        (time) float64 1.433 1.233 1.034 0.835 0.736 0.501 0.504 ...\n",
      "    precipRain  (time) float64 0.0 0.0 0.0 0.0 0.0 0.0 0.0 0.0 0.0 0.0 0.0 ...\n",
      "    precipSnow  (time) float64 0.0 0.0 0.0 0.0 0.0 0.0 0.0 0.0 0.0 0.0 0.0 ...\n",
      "    LWdwn       (time) float64 326.7 324.2 321.2 280.0 289.6 290.8 292.5 ...\n",
      "    Press       (time) float64 8.766e+04 8.76e+04 8.759e+04 8.754e+04 ...\n",
      "    HUMREL      (time) float64 75.67 75.04 74.82 74.57 74.28 75.85 74.88 ...\n",
      "    SWdwn       (time) float64 0.0 0.0 0.0 0.0 0.0 86.44 223.7 371.6 537.8 ...\n",
      "    precip      (time) float64 0.0 0.0 0.0 0.0 0.0 0.0 0.0 0.0 0.0 0.0 0.0 ...\n",
      "Attributes:\n",
      "    SIMULATIONTYPE:            -\n",
      "    history:                   Thu Dec  8 12:49:39 2011: ncea -d time,8754,87...\n",
      "    nco_openmp_thread_number:  1\n"
     ]
    }
   ],
   "source": [
    "os.chdir(dirDataRaw)\n",
    "CDP = xr.open_dataset('CDP_met_insitu.nc')\n",
    "dropVarList = ['aspect', 'slope', 'ZREF', 'UREF', 'FORC_TIME_STEP', 'Wind_DIR',\n",
    "               'CO2air', 'NEB', 'Tair_flag', 'Qair_flag', 'Wind_flag', 'Rainf_flag',\n",
    "               'Snowf_flag', 'LWdown_flag', 'DIR_SWdown_flag', 'SCA_SWdown_flag', \n",
    "               'NEB_flag', 'HUMREL_flag']\n",
    "CDP = CDP.drop(dropVarList)\n",
    "CDP['SWdwn'] = CDP['DIR_SWdown'] + CDP['SCA_SWdown']\n",
    "CDP = CDP.rename({'PSurf': 'Press', 'Qair': 'QS', 'LWdown': 'LWdwn',\n",
    "                  'Rainf': 'precipRain', 'Snowf': 'precipSnow', 'Wind': 'WIND'})\n",
    "CDP = CDP.drop(['DIR_SWdown', 'SCA_SWdown'])\n",
    "CDP = CDP.squeeze('location')\n",
    "CDP['Tair'] = CDP.Tair - 273.15\n",
    "CDP['precip'] = CDP.precipRain + CDP.precipSnow\n",
    "print(CDP)\n"
   ]
  },
  {
   "cell_type": "markdown",
   "metadata": {},
   "source": [
    "## Read supporting evaluation data"
   ]
  },
  {
   "cell_type": "code",
   "execution_count": 5,
   "metadata": {
    "collapsed": false
   },
   "outputs": [
    {
     "name": "stderr",
     "output_type": "stream",
     "text": [
      "//anaconda/lib/python3.5/site-packages/xarray/core/variable.py:1143: RuntimeWarning: invalid value encountered in greater\n",
      "  if not reflexive\n",
      "//anaconda/lib/python3.5/site-packages/xarray/core/variable.py:1143: RuntimeWarning: invalid value encountered in less\n",
      "  if not reflexive\n"
     ]
    }
   ],
   "source": [
    "# date parsing function for pandas csv_read\n",
    "def parse(timeStr):\n",
    "    s = '00'\n",
    "    date_str = timeStr + ':' + s\n",
    "    dt = datetime.strptime(date_str, \"%Y-%m-%dT%H:%M:%S\")\n",
    "    return dt\n",
    "\n",
    "# -------------------------------------------------------------------------\n",
    "# Read supporting data\n",
    "# 19 rows of comments\n",
    "os.chdir(dirDataRaw)\n",
    "datafile = 'CDP_hor_eval.tab'\n",
    "support = pd.read_csv(datafile,\n",
    "                  sep='\\t',\n",
    "                  header=0,\n",
    "                  skiprows=20,\n",
    "                  date_parser=parse,\n",
    "                  parse_dates={'time': [0]},\n",
    "                  index_col='time'\n",
    "                 )\n",
    "\n",
    "# Use my naming convention\n",
    "support.columns = ['snowDepth', 'Tsrf', 'Lysimeter1', 'Lysimeter2',\n",
    "               'groundHeatFlux1', 'groundHeatFlux2', 'groundHeatFlux3', 'Albedo']\n",
    "support.drop(['Lysimeter1', 'Lysimeter2', 'groundHeatFlux1', 'groundHeatFlux2', 'groundHeatFlux3'],\n",
    "             axis=1, inplace=True)\n",
    "\n",
    "# -------------------------------------------------------------------------\n",
    "# Convert to xarray Dataset\n",
    "support = xr.Dataset(support)\n",
    "\n",
    "# Take daily average, reindex to half-hourly time series, use in snow presence criteria\n",
    "TsrfDaily = support.Tsrf.resample(how='mean', freq='d', dim='time', label='left')\n",
    "TsrfDaily = TsrfDaily.reindex_like(support, method='ffill')\n",
    "\n",
    "# bare ground when no snowdepth recorded or the daily surface temperature is above freezing\n",
    "groundSurfTemp = support.Tsrf[(support.snowDepth == 0) | (TsrfDaily > 0.5)]\n",
    "\n",
    "# snow covered ground when snow is observed and the surface temperature is below freezing\n",
    "snowSurfTemp = support.Tsrf[(support.snowDepth > 0) & (TsrfDaily < 0.5)]\n",
    "\n",
    "# Assign to support xarray.Dataset\n",
    "support['groundTs'] = groundSurfTemp\n",
    "support['snowTs'] = snowSurfTemp\n",
    "\n",
    "# Create snow presence variable\n",
    "snowPres = ((support.snowDepth > 0) | (TsrfDaily < 0.5))\n",
    "support['SP'] = snowPres.astype(int)\n",
    "support = support.reindex_like(CDP.time, method='nearest')\n"
   ]
  },
  {
   "cell_type": "code",
   "execution_count": 6,
   "metadata": {
    "collapsed": false
   },
   "outputs": [
    {
     "name": "stderr",
     "output_type": "stream",
     "text": [
      "//anaconda/lib/python3.5/site-packages/xarray/core/variable.py:1143: RuntimeWarning: divide by zero encountered in true_divide\n",
      "  if not reflexive\n",
      "//anaconda/lib/python3.5/site-packages/xarray/core/variable.py:1143: RuntimeWarning: invalid value encountered in true_divide\n",
      "  if not reflexive\n"
     ]
    },
    {
     "name": "stdout",
     "output_type": "stream",
     "text": [
      "<xarray.Dataset>\n",
      "Dimensions:     (time: 157776)\n",
      "Coordinates:\n",
      "  * time        (time) datetime64[ns] 1993-08-01 1993-08-01T01:00:00 ...\n",
      "Data variables:\n",
      "    lat         float64 45.3\n",
      "    lon         float64 5.77\n",
      "    altitude    float64 1.325e+03\n",
      "    Tair        (time) float64 9.288 9.205 9.122 9.048 8.978 8.541 8.603 ...\n",
      "    QS          (time) float64 0.006398 0.006309 0.006256 0.006203 0.00615 ...\n",
      "    WIND        (time) float64 1.433 1.233 1.034 0.835 0.736 0.501 0.504 ...\n",
      "    precipRain  (time) float64 0.0 0.0 0.0 0.0 0.0 0.0 0.0 0.0 0.0 0.0 0.0 ...\n",
      "    precipSnow  (time) float64 0.0 0.0 0.0 0.0 0.0 0.0 0.0 0.0 0.0 0.0 0.0 ...\n",
      "    LWdwn       (time) float64 326.7 324.2 321.2 280.0 289.6 290.8 292.5 ...\n",
      "    Press       (time) float64 8.766e+04 8.76e+04 8.759e+04 8.754e+04 ...\n",
      "    HUMREL      (time) float64 75.67 75.04 74.82 74.57 74.28 75.85 74.88 ...\n",
      "    SWdwn       (time) float64 0.0 0.0 0.0 0.0 0.0 86.44 223.7 371.6 537.8 ...\n",
      "    precip      (time) float64 0.0 0.0 0.0 0.0 0.0 0.0 0.0 0.0 0.0 0.0 0.0 ...\n",
      "    Albedo      (time) float64 nan nan nan nan nan nan nan nan nan nan nan ...\n",
      "    Tsrf        (time) float64 nan nan nan nan nan nan nan nan nan nan nan ...\n",
      "    SP          (time) int64 0 0 0 0 0 0 0 0 0 0 0 0 0 0 0 0 0 0 0 0 0 0 0 0 ...\n",
      "    snowTs      (time) float64 nan nan nan nan nan nan nan nan nan nan nan ...\n",
      "    snowDepth   (time) float64 0.0 0.0 0.0 0.0 0.0 0.0 0.0 0.0 0.0 0.0 0.0 ...\n",
      "    groundTs    (time) float64 nan nan nan nan nan nan nan nan nan nan nan ...\n",
      "    RiBulk      (time) float64 nan nan nan nan nan nan nan nan nan nan nan ...\n",
      "Attributes:\n",
      "    SIMULATIONTYPE:            -\n",
      "    history:                   Thu Dec  8 12:49:39 2011: ncea -d time,8754,87...\n",
      "    nco_openmp_thread_number:  1\n"
     ]
    }
   ],
   "source": [
    "# -------------------------------------------------------------------------\n",
    "# Add necessary support data\n",
    "# Many other variables are available, but I'm selecting only a small collection of them\n",
    "CDP['Albedo'] = support['Albedo']\n",
    "CDP['Tsrf'] = support['Tsrf']\n",
    "CDP['SP'] = support['SP']\n",
    "CDP['snowTs'] = support['snowTs']\n",
    "CDP['snowDepth'] = support['snowDepth']\n",
    "CDP['groundTs'] = support['groundTs']\n",
    "\n",
    "# Bulk Richardson\n",
    "CDP['RiBulk'],_,_ = turbpy.bulkRichardson(CDP.Tair + 273.15, CDP.Tsrf + 273.15, CDP.WIND, 1.5 - CDP.snowDepth)\n",
    "\n",
    "# Again, there is a weird encoding issue with the date\n",
    "CDP.coords['time'] = pd.date_range(CDP.time.values[0], datetime(2011, 7, 31, 23, 0, 0), freq='H')\n",
    "\n",
    "# -------------------------------------------------------------------------\n",
    "# Write netcdf\n",
    "os.chdir(dirData)\n",
    "CDP.to_netcdf('CDP.ModTsfc.nc')\n",
    "print(CDP)"
   ]
  },
  {
   "cell_type": "code",
   "execution_count": null,
   "metadata": {
    "collapsed": true
   },
   "outputs": [],
   "source": []
  }
 ],
 "metadata": {
  "anaconda-cloud": {},
  "kernelspec": {
   "display_name": "Python [Root]",
   "language": "python",
   "name": "Python [Root]"
  },
  "language_info": {
   "codemirror_mode": {
    "name": "ipython",
    "version": 3
   },
   "file_extension": ".py",
   "mimetype": "text/x-python",
   "name": "python",
   "nbconvert_exporter": "python",
   "pygments_lexer": "ipython3",
   "version": "3.5.2"
  }
 },
 "nbformat": 4,
 "nbformat_minor": 0
}
