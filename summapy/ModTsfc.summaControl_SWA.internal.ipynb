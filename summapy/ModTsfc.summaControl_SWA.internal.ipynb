{
 "cells": [
  {
   "cell_type": "markdown",
   "metadata": {},
   "source": [
    "# Summa control notebook"
   ]
  },
  {
   "cell_type": "code",
   "execution_count": 1,
   "metadata": {
    "collapsed": false
   },
   "outputs": [],
   "source": [
    "# netcdf/numpy/xray/stats\n",
    "import numpy as np\n",
    "from datetime import datetime, timedelta\n",
    "import pandas as pd\n",
    "import xarray as xr\n",
    "import copy\n",
    "\n",
    "# OS interaction\n",
    "import sys, pickle, os\n",
    "\n",
    "# import plotting\n",
    "import seaborn as sns\n",
    "import matplotlib\n",
    "from matplotlib.pyplot import subplots\n",
    "import matplotlib.pyplot as plt\n",
    "from matplotlib import cm\n",
    "from mpl_toolkits.basemap import Basemap\n",
    "\n",
    "import summapy\n",
    "\n",
    "# Customize\n",
    "sns.set_style(\"whitegrid\")\n",
    "sns.set_context('paper')\n",
    "%matplotlib inline"
   ]
  },
  {
   "cell_type": "code",
   "execution_count": 2,
   "metadata": {
    "collapsed": true
   },
   "outputs": [],
   "source": [
    "# --------------------------------------------------------------------------------------------------------------------\n",
    "# Directory Lists\n",
    "# Unix\n",
    "if 'linux' in sys.platform:\n",
    "    dir_pre = '/home/lapok/gdrive/'\n",
    "# Mac\n",
    "elif 'darwin' in sys.platform:\n",
    "    dir_pre = '/Users/karllapo/gdrive/'\n",
    "\n",
    "# Project specific directories\n",
    "dirProj = dir_pre + 'SnowHydrology/proj/ModTsfc/'\n",
    "dirPrint = dirProj + 'Graphics'\n",
    "dirData = dirProj + 'data'\n",
    "\n",
    "# Summa specific directories/names\n",
    "dirSumma = dirProj + 'summa/'\n",
    "projName = 'summaTestCases'"
   ]
  },
  {
   "cell_type": "code",
   "execution_count": 3,
   "metadata": {
    "collapsed": false
   },
   "outputs": [],
   "source": [
    "# Site wide arguments\n",
    "os.chdir(dirData)\n",
    "dat = xr.open_dataset('SWA.ModTsfc.ModelForcing.nc')\n",
    "datName = 'SWA.ModTsfc.ModelForcing.nc'\n",
    "attr = xr.open_dataset('SWA.ModTsfc.Attributes.nc')\n",
    "\n",
    "siteName = 'SWA'\n",
    "myDecisions = {'astability': 'louisinv',\n",
    "               'subRouting': 'qInstant',\n",
    "               'alb_method': 'conDecay'}\n",
    "allParams = {'albedoMinWinter': 0.6,\n",
    "             'albedoMinSpring': 0.25,\n",
    "             'albedoDecayRate': .5*10**6}\n",
    "\n",
    "dirModel = '/Users/karllapo/gdrive/SnowHydrology/proj/ModTsfc/summa/ModTsfc_summa/'\n",
    "\n",
    "# ----------\n",
    "# Experiment names and identifiers\n",
    "experiments = ['layers', 'thermalCond', 'stability', 'longwaveBias']\n",
    "\n",
    "# Layer\n",
    "expNames = {'layers': ['layerThin', 'layerThick', 'jrdn1991', 'CLM_2010']}\n",
    "# Longwave bias\n",
    "# expNames['longwaveBias'] = ['lowLW', 'obsLW', 'highLW']\n",
    "# Thermal conductivity\n",
    "arrayNames = ['tyen1965', 'melr1977', 'jrdn1991', 'smnv2000']\n",
    "arrayAppend = ['Mid', 'Low', 'High']\n",
    "expNames['thermalCond'] = [name + '_' + append for name in arrayNames for append in arrayAppend]\n",
    "# Stability\n",
    "arrayAppend = ['Low', 'Mid', 'High']\n",
    "arrayNames = ['standard', 'louisinv', 'mahrtexp']\n",
    "expNames['stability'] = [name + '_' + append for name in arrayNames for append in arrayAppend]\n"
   ]
  },
  {
   "cell_type": "markdown",
   "metadata": {},
   "source": [
    "# Summa control function"
   ]
  },
  {
   "cell_type": "code",
   "execution_count": 4,
   "metadata": {
    "collapsed": true
   },
   "outputs": [],
   "source": [
    "def summaControlFunc(dirModel, siteName, expName, expID, attrFile, datFile, datFileName, allParams, allDecisions):\n",
    "    summapy.summaFileManager.writeDefault(dirModel, siteName, expName);\n",
    "    \n",
    "    summapy.summaFileManager.localAttributesFile(attrFile, dirModel, siteName, expName);\n",
    "\n",
    "    summapy.summaFileManager.paramTrial(list(allParams.keys()), list(allParams.values()),\n",
    "                                        dirModel, siteName, expName, expID);\n",
    "\n",
    "    summapy.summaFileManager.forcingFile(dirModel, siteName, expName, datFileName,\n",
    "                                         np.array(1001), xrForce=datFile, expID=expID)   ; \n",
    "    \n",
    "    summapy.summaFileManager.decision(allDecisions, dirModel, siteName, expName,\n",
    "                                      pd.to_datetime(datFile.time[0].values),\n",
    "                                      pd.to_datetime(datFile.time[-1].values), expID=expID);\n",
    "    \n",
    "    summapy.summaFileManager.fileManager(dirModel, '/ModTsfc_summa/', siteName, expName, expID=expID);"
   ]
  },
  {
   "cell_type": "code",
   "execution_count": 5,
   "metadata": {
    "collapsed": false
   },
   "outputs": [],
   "source": [
    "def summaRunCommand(expNames, exp, site, fName=None):\n",
    "    if fName == None:\n",
    "        fName = 'run' + site + exp + '.sh'\n",
    "    with open(fName, \"w+\") as f:\n",
    "    \n",
    "        f.write('''#!/bin/bash\n",
    "\n",
    "# Used to run the test cases for SUMMA\n",
    "\n",
    "# There are two classes of test cases:\n",
    "#  1) Test cases based on synthetic/lab data; and\n",
    "#  2) Test cases based on field data.\n",
    "\n",
    "# The commands assume that you are in the directory {localInstallation}//summaTestCases/settings/\n",
    "# and that the control files are in {localInstallation}//summaTestCases/settings/\n",
    "\n",
    "# Set the SUMMA executable (e.g. /usr/local/bin/summa.exe or wherever you have installed SUMMA)\n",
    "\n",
    "BASEDIR=`pwd`\n",
    "SUMMA_EXE=\"docker run -v ${BASEDIR}:/ModTsfc_summa bartnijssen/summa:docker\"\n",
    "\n",
    "\n",
    "# *************************************************************************************************\n",
    "''')\n",
    "        for expID in expNames[exp]:\n",
    "            fileManagerName = 'summa_fileManager_' + expID + '.txt'\n",
    "            f.write('${SUMMA_EXE} -p never -s _' + expID\n",
    "                    +' -m /ModTsfc_summa/settings/'\n",
    "                    + exp + '/' + site + '/' + fileManagerName)\n",
    "            f.write('\\n')\n"
   ]
  },
  {
   "cell_type": "markdown",
   "metadata": {},
   "source": [
    "# Layer Experiments"
   ]
  },
  {
   "cell_type": "code",
   "execution_count": 6,
   "metadata": {
    "collapsed": false
   },
   "outputs": [],
   "source": [
    "# Set up modeling decisions. Non-specified decision will follow the default values set by summa and summapy\n",
    "\n",
    "# UEB-like set-up\n",
    "layerThin = {'zminLayer3': 100.0000,\n",
    "             'zminLayer4': 100.0000,\n",
    "             'zminLayer5': 100.0000,\n",
    "             'zmaxLayer2_lower': 1000.0000,\n",
    "             'zmaxLayer3_lower': 1000.0000,\n",
    "             'zmaxLayer4_lower': 1000.0000,\n",
    "             'zmaxLayer2_upper': 1000.0000,\n",
    "             'zmaxLayer3_upper': 1000.0000,\n",
    "             'zmaxLayer4_upper': 1000.0000}\n",
    "layerThin.update(allParams)\n",
    "\n",
    "# VIC-like set-up\n",
    "layerThick = {'zminLayer1': 0.0500,\n",
    "              'zminLayer2': 0.0200,\n",
    "              'zminLayer3': 100.0000,\n",
    "              'zminLayer4': 100.0000,\n",
    "              'zminLayer5': 100.0000,\n",
    "              'zmaxLayer1_lower': 0.2000,\n",
    "              'zmaxLayer2_lower': 1000.0000,\n",
    "              'zmaxLayer3_lower': 1000.0000,\n",
    "              'zmaxLayer4_lower': 1000.0000,\n",
    "              'zmaxLayer1_upper': 0.1500,\n",
    "              'zmaxLayer2_upper': 1000.0000,\n",
    "              'zmaxLayer3_upper': 1000.0000,\n",
    "              'zmaxLayer4_upper': 1000.0000}\n",
    "layerThick.update(allParams)"
   ]
  },
  {
   "cell_type": "code",
   "execution_count": 7,
   "metadata": {
    "collapsed": false
   },
   "outputs": [
    {
     "name": "stdout",
     "output_type": "stream",
     "text": [
      "layerThin\n",
      "1000.0    100.0    1000.0    0.6    100.0    1000.0    1000.0    1000.0    100.0    1000.0    500000.0    0.25\n",
      "Finished creating new summa_zParamTrial file\n",
      "Finished creating new Decision file\n",
      "Finished creating new file Manager\n",
      "layerThick\n",
      "1000.0    0.05    100.0    0.15    1000.0    0.6    0.2    100.0    1000.0    1000.0    0.02    500000.0    100.0    1000.0    1000.0    0.25\n",
      "Finished creating new summa_zParamTrial file\n",
      "Finished creating new Decision file\n",
      "Finished creating new file Manager\n",
      "jrdn1991\n",
      "500000.0    0.25    0.6\n",
      "Finished creating new summa_zParamTrial file\n",
      "Finished creating new Decision file\n",
      "Finished creating new file Manager\n",
      "CLM_2010\n",
      "500000.0    0.25    0.6\n",
      "Finished creating new summa_zParamTrial file\n",
      "Finished creating new Decision file\n",
      "Finished creating new file Manager\n"
     ]
    }
   ],
   "source": [
    "# Experiment specific files\n",
    "expN = 'layers'\n",
    "for expID in expNames[expN]:\n",
    "    print(expID)\n",
    "    # Parameterize for 2-layer thin, 2-layer thick, jordan, and clm\n",
    "    if expID == 'layerThin':\n",
    "        myDecisions['snowLayers'] = 'CLM_2010'\n",
    "        summaControlFunc(dirModel, siteName, expN, expID, attr, dat, datName, layerThin, myDecisions)\n",
    "    elif expID == 'layerThick':\n",
    "        myDecisions['snowLayers'] = 'CLM_2010'\n",
    "        summaControlFunc(dirModel, siteName, expN, expID, attr, dat, datName, layerThick, myDecisions)\n",
    "    else:\n",
    "        myDecisions['snowLayers'] = expID\n",
    "        # Send to the control function\n",
    "        summaControlFunc(dirModel, siteName, expN, expID, attr, dat, datName, allParams, myDecisions)\n",
    "\n",
    "# Write the shell script for running this experiment\n",
    "os.chdir(dirModel)\n",
    "summaRunCommand(expNames, expN, siteName)"
   ]
  },
  {
   "cell_type": "markdown",
   "metadata": {},
   "source": [
    "# Thermal Conductivity Tests"
   ]
  },
  {
   "cell_type": "code",
   "execution_count": 8,
   "metadata": {
    "collapsed": false
   },
   "outputs": [
    {
     "name": "stdout",
     "output_type": "stream",
     "text": [
      "tyen1965_Mid\n",
      "0.35    500000.0    0.25    0.6\n",
      "Finished creating new summa_zParamTrial file\n",
      "Finished creating new Decision file\n",
      "Finished creating new file Manager\n",
      "tyen1965_Low\n",
      "0.6    0.1    500000.0    0.25\n",
      "Finished creating new summa_zParamTrial file\n",
      "Finished creating new Decision file\n",
      "Finished creating new file Manager\n",
      "tyen1965_High\n",
      "0.6    1.0    500000.0    0.25\n",
      "Finished creating new summa_zParamTrial file\n",
      "Finished creating new Decision file\n",
      "Finished creating new file Manager\n",
      "melr1977_Mid\n",
      "0.6    0.35    500000.0    0.25\n",
      "Finished creating new summa_zParamTrial file\n",
      "Finished creating new Decision file\n",
      "Finished creating new file Manager\n",
      "melr1977_Low\n",
      "0.6    0.1    500000.0    0.25\n",
      "Finished creating new summa_zParamTrial file\n",
      "Finished creating new Decision file\n",
      "Finished creating new file Manager\n",
      "melr1977_High\n",
      "0.6    1.0    500000.0    0.25\n",
      "Finished creating new summa_zParamTrial file\n",
      "Finished creating new Decision file\n",
      "Finished creating new file Manager\n",
      "jrdn1991_Mid\n",
      "0.6    0.35    500000.0    0.25\n",
      "Finished creating new summa_zParamTrial file\n",
      "Finished creating new Decision file\n",
      "Finished creating new file Manager\n",
      "jrdn1991_Low\n",
      "0.6    0.1    500000.0    0.25\n",
      "Finished creating new summa_zParamTrial file\n",
      "Finished creating new Decision file\n",
      "Finished creating new file Manager\n",
      "jrdn1991_High\n",
      "0.6    1.0    500000.0    0.25\n",
      "Finished creating new summa_zParamTrial file\n",
      "Finished creating new Decision file\n",
      "Finished creating new file Manager\n",
      "smnv2000_Mid\n",
      "0.6    0.35    500000.0    0.25\n",
      "Finished creating new summa_zParamTrial file\n",
      "Finished creating new Decision file\n",
      "Finished creating new file Manager\n",
      "smnv2000_Low\n",
      "0.6    0.1    500000.0    0.25\n",
      "Finished creating new summa_zParamTrial file\n",
      "Finished creating new Decision file\n",
      "Finished creating new file Manager\n",
      "smnv2000_High\n",
      "0.6    1.0    500000.0    0.25\n",
      "Finished creating new summa_zParamTrial file\n",
      "Finished creating new Decision file\n",
      "Finished creating new file Manager\n"
     ]
    }
   ],
   "source": [
    "# Set up modeling decisions. Non-specified decision will follow the default values set by summa and summapy\n",
    "thermalCondVar = {'Mid': 0.3500, 'Low': 0.1000, 'High': 1.0000}\n",
    "\n",
    "# Experiment specific files\n",
    "expN = 'thermalCond'\n",
    "thCondParam = {}\n",
    "for expID in expNames[expN]:\n",
    "    print(expID)\n",
    "    paramSelection = expID.split('_')[1]\n",
    "    decisionSelection = expID.split('_')[0]\n",
    "    myDecisions['thCondSnow'] = decisionSelection\n",
    "    thCondParam['fixedThermalCond_snow'] = thermalCondVar[paramSelection]\n",
    "    thCondParam.update(allParams)\n",
    "\n",
    "    summaControlFunc(dirModel, siteName, expN, expID, attr, dat, datName, thCondParam, myDecisions)\n",
    "\n",
    "# Write the shell script for running this experiment\n",
    "os.chdir(dirModel)\n",
    "summaRunCommand(expNames, expN, siteName)"
   ]
  },
  {
   "cell_type": "markdown",
   "metadata": {},
   "source": [
    "## Turbulence"
   ]
  },
  {
   "cell_type": "code",
   "execution_count": 9,
   "metadata": {
    "collapsed": false
   },
   "outputs": [
    {
     "name": "stdout",
     "output_type": "stream",
     "text": [
      "standard_Low\n",
      "0.6    500000.0    0.001    0.25\n",
      "Finished creating new summa_zParamTrial file\n",
      "Finished creating new Decision file\n",
      "Finished creating new file Manager\n",
      "standard_Mid\n",
      "0.6    500000.0    0.01    0.25\n",
      "Finished creating new summa_zParamTrial file\n",
      "Finished creating new Decision file\n",
      "Finished creating new file Manager\n",
      "standard_High\n",
      "0.6    500000.0    0.1    0.25\n",
      "Finished creating new summa_zParamTrial file\n",
      "Finished creating new Decision file\n",
      "Finished creating new file Manager\n",
      "louisinv_Low\n",
      "0.6    500000.0    0.001    0.25\n",
      "Finished creating new summa_zParamTrial file\n",
      "Finished creating new Decision file\n",
      "Finished creating new file Manager\n",
      "louisinv_Mid\n",
      "0.6    500000.0    0.01    0.25\n",
      "Finished creating new summa_zParamTrial file\n",
      "Finished creating new Decision file\n",
      "Finished creating new file Manager\n",
      "louisinv_High\n",
      "0.6    500000.0    0.1    0.25\n",
      "Finished creating new summa_zParamTrial file\n",
      "Finished creating new Decision file\n",
      "Finished creating new file Manager\n",
      "mahrtexp_Low\n",
      "0.6    500000.0    0.001    0.25\n",
      "Finished creating new summa_zParamTrial file\n",
      "Finished creating new Decision file\n",
      "Finished creating new file Manager\n",
      "mahrtexp_Mid\n",
      "0.6    500000.0    0.01    0.25\n",
      "Finished creating new summa_zParamTrial file\n",
      "Finished creating new Decision file\n",
      "Finished creating new file Manager\n",
      "mahrtexp_High\n",
      "0.6    500000.0    0.1    0.25\n",
      "Finished creating new summa_zParamTrial file\n",
      "Finished creating new Decision file\n",
      "Finished creating new file Manager\n"
     ]
    }
   ],
   "source": [
    "# Set up modeling decisions. Non-specified decision will follow the default values set by summa and summapy\n",
    "expN = 'stability'\n",
    "aerodynamic_z0 = {'Low': .001, 'Mid': .01, 'High': .1}\n",
    "varName = ['z0Snow']\n",
    "aStabilityParam = {}\n",
    "for expID in expNames[expN]:\n",
    "    print(expID)\n",
    "    paramSelection = expID.split('_')[1]\n",
    "    decisionSelection = expID.split('_')[0]\n",
    "    myDecisions['astability'] = decisionSelection\n",
    "    aStabilityParam['z0Snow'] = aerodynamic_z0[paramSelection]\n",
    "    aStabilityParam.update(allParams)\n",
    "    summaControlFunc(dirModel, siteName, expN, expID, attr, dat, datName, aStabilityParam, myDecisions)\n",
    "\n",
    "# Write the shell script for running this experiment\n",
    "os.chdir(dirModel)\n",
    "summaRunCommand(expNames, expN, siteName)"
   ]
  }
 ],
 "metadata": {
  "anaconda-cloud": {},
  "kernelspec": {
   "display_name": "Python [Root]",
   "language": "python",
   "name": "Python [Root]"
  },
  "language_info": {
   "codemirror_mode": {
    "name": "ipython",
    "version": 3
   },
   "file_extension": ".py",
   "mimetype": "text/x-python",
   "name": "python",
   "nbconvert_exporter": "python",
   "pygments_lexer": "ipython3",
   "version": "3.5.2"
  }
 },
 "nbformat": 4,
 "nbformat_minor": 0
}
