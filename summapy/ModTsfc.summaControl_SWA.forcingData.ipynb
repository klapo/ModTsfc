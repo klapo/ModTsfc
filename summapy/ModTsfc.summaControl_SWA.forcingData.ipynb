{
 "cells": [
  {
   "cell_type": "markdown",
   "metadata": {},
   "source": [
    "# Summa control notebook"
   ]
  },
  {
   "cell_type": "code",
   "execution_count": 1,
   "metadata": {
    "collapsed": false
   },
   "outputs": [],
   "source": [
    "# netcdf/numpy/xray/stats\n",
    "import numpy as np\n",
    "from datetime import datetime, timedelta\n",
    "import pandas as pd\n",
    "import xarray as xr\n",
    "import solargeo\n",
    "\n",
    "# OS interaction\n",
    "import sys, pickle, os\n",
    "\n",
    "# import plotting\n",
    "import seaborn as sns\n",
    "import matplotlib\n",
    "from matplotlib.pyplot import subplots\n",
    "import matplotlib.pyplot as plt\n",
    "from matplotlib import cm\n",
    "from mpl_toolkits.basemap import Basemap\n",
    "\n",
    "import summapy\n",
    "\n",
    "# Customize\n",
    "sns.set_style(\"whitegrid\")\n",
    "sns.set_context('paper')\n",
    "%matplotlib inline\n",
    "\n"
   ]
  },
  {
   "cell_type": "code",
   "execution_count": 2,
   "metadata": {
    "collapsed": true
   },
   "outputs": [],
   "source": [
    "# --------------------------------------------------------------------------------------------------------------------\n",
    "# Directory Lists\n",
    "# Unix\n",
    "if 'linux' in sys.platform:\n",
    "    dir_pre = '/home/lapok/gdrive/'\n",
    "# Mac\n",
    "elif 'darwin' in sys.platform:\n",
    "    dir_pre = '/Users/karllapo/gdrive/'\n",
    "\n",
    "# Project specific directories\n",
    "dirProj = dir_pre + 'SnowHydrology/proj/ModTsfc/'\n",
    "dirPrint = dirProj + 'Graphics'\n",
    "dirData = dirProj + 'data'\n",
    "\n",
    "# Summa specific directories/names\n",
    "dirSumma = dirProj + 'summa/'\n",
    "projName = 'summaTestCases'"
   ]
  },
  {
   "cell_type": "code",
   "execution_count": 3,
   "metadata": {
    "collapsed": false
   },
   "outputs": [],
   "source": [
    "# Site wide arguments\n",
    "os.chdir(dirData)\n",
    "dat = xr.open_dataset('SWA.ModTsfc.ModelForcing.nc')\n",
    "datName = 'SWA.ModTsfc.ModelForcing'\n",
    "attr = xr.open_dataset('SWA.ModTsfc.Attributes.nc')\n",
    "# Some issues with dates being slightly off between methods requires\n",
    "# defining the beginning and end of the time record\n",
    "d1 = datetime(2006, 10, 1, 0, 0, 0)\n",
    "d2 = datetime(2012, 9, 30, 23, 0, 0)\n",
    "utcOffest = 6 # Number of hours from UTC\n",
    "\n",
    "siteName = 'SWA'\n",
    "myDecisions = {'astability': 'louisinv',\n",
    "               'subRouting': 'qInstant',\n",
    "               'alb_method': 'conDecay'}\n",
    "allParams = {'albedoMinWinter': 0.6,\n",
    "             'albedoMinSpring': 0.25,\n",
    "             'albedoDecayRate': .5*10**6}\n",
    "\n",
    "dirModel = '/Users/karllapo/gdrive/SnowHydrology/proj/ModTsfc/summa/ModTsfc_summa/'\n",
    "\n",
    "# ----------\n",
    "# Experiment names\n",
    "experiments = ['longwaveBias', 'shortwaveBias', 'specHumidBias', 'airTempBias', 'windBias', 'precipBias']\n",
    "metName = {'longwaveBias': 'LWRadAtm',\n",
    "           'shortwaveBias': 'SWRadAtm',\n",
    "           'specHumidBias': 'spechum',\n",
    "           'airTempBias': 'airtemp',\n",
    "           'windBias': 'windspd',\n",
    "           'precipBias': 'pptrate'}\n",
    "\n",
    "# Experiment IDs and values\n",
    "expNames = {'longwaveBias': ['lowLW', 'highLW']}\n",
    "expBias = {'longwaveBias': {'lowLW': -25, 'highLW': 25}}\n",
    "\n",
    "expNames['shortwaveBias'] = ['lowSW', 'highSW']\n",
    "expBias['shortwaveBias'] = {'lowSW': -80, 'highSW': 80}\n",
    "\n",
    "expNames['specHumidBias'] = ['lowQS', 'highQS']\n",
    "expBias['specHumidBias'] = {'lowQS': -25, 'highQS': 25}\n",
    "\n",
    "expNames['airTempBias'] = ['lowTair', 'highTair']\n",
    "expBias['airTempBias'] = {'lowTair': -3, 'highTair': 3}\n",
    "\n",
    "expNames['windBias'] = ['lowU', 'highU']\n",
    "expBias['windBias'] = {'lowU': -3, 'highU': 3}\n",
    "\n",
    "expNames['precipBias'] = ['lowP', 'obsP', 'highP']\n",
    "expBias['precipBias'] = {'lowP': -50, 'obsP': 0, 'highP': 50}\n"
   ]
  },
  {
   "cell_type": "code",
   "execution_count": 4,
   "metadata": {
    "collapsed": false
   },
   "outputs": [],
   "source": [
    "# Calculate elevation angle\n",
    "import solargeo\n",
    "t = pd.date_range(d1 - timedelta(hours=utcOffest), d2 - timedelta(hours=utcOffest), freq='H')\n",
    "el, _, _ = solargeo.sunae(t, dat.latitude, -dat.longitude)\n",
    "dat['elevAngle'] = (('time'), el)\n",
    "\n",
    "# Sanity check plots\n",
    "# plt.plot(dat.time, np.sin(dat.elevAngle * np.pi / 180) * 1365)\n",
    "# plt.plot(dat.time, dat.SWRadAtm)\n",
    "# plt.gca().set_xlim(datetime(2007, 12, 1), datetime(2007, 12, 10))"
   ]
  },
  {
   "cell_type": "markdown",
   "metadata": {},
   "source": [
    "# Summa control function"
   ]
  },
  {
   "cell_type": "code",
   "execution_count": 5,
   "metadata": {
    "collapsed": true
   },
   "outputs": [],
   "source": [
    "def summaControlFunc(dirModel, siteName, expName, expID, attrFile, datFile, datFileName, allParams, allDecisions):\n",
    "    summapy.summaFileManager.writeDefault(dirModel, siteName, expName);\n",
    "    \n",
    "    summapy.summaFileManager.localAttributesFile(attrFile, dirModel, siteName, expName);\n",
    "\n",
    "    summapy.summaFileManager.paramTrial(list(allParams.keys()), list(allParams.values()),\n",
    "                                        dirModel, siteName, expName, expID);\n",
    "\n",
    "    summapy.summaFileManager.forcingFile(dirModel, siteName, expName, datFileName,\n",
    "                                         np.array(1001), xrForce=datFile, expID=expID)   ; \n",
    "    \n",
    "    summapy.summaFileManager.decision(allDecisions, dirModel, siteName, expName,\n",
    "                                      pd.to_datetime(datFile.time[0].values),\n",
    "                                      pd.to_datetime(datFile.time[-1].values), expID=expID);\n",
    "    \n",
    "    summapy.summaFileManager.fileManager(dirModel, '/ModTsfc_summa/', siteName, expName, expID=expID);"
   ]
  },
  {
   "cell_type": "code",
   "execution_count": 6,
   "metadata": {
    "collapsed": false
   },
   "outputs": [],
   "source": [
    "def summaRunCommand(expNames, exp, site, fName=None):\n",
    "    if fName == None:\n",
    "        fName = 'run' + site + exp + '.sh'\n",
    "    with open(fName, \"w+\") as f:\n",
    "    \n",
    "        f.write('''#!/bin/bash\n",
    "\n",
    "# Used to run the test cases for SUMMA\n",
    "\n",
    "# There are two classes of test cases:\n",
    "#  1) Test cases based on synthetic/lab data; and\n",
    "#  2) Test cases based on field data.\n",
    "\n",
    "# The commands assume that you are in the directory {localInstallation}//summaTestCases/settings/\n",
    "# and that the control files are in {localInstallation}//summaTestCases/settings/\n",
    "\n",
    "# Set the SUMMA executable (e.g. /usr/local/bin/summa.exe or wherever you have installed SUMMA)\n",
    "\n",
    "BASEDIR=`pwd`\n",
    "SUMMA_EXE=\"docker run -v ${BASEDIR}:/ModTsfc_summa bartnijssen/summa:docker\"\n",
    "\n",
    "\n",
    "# *************************************************************************************************\n",
    "''')\n",
    "        for expID in expNames[exp]:\n",
    "            fileManagerName = 'summa_fileManager_' + expID + '.txt'\n",
    "            f.write('${SUMMA_EXE} -p never -s _' + expID\n",
    "                    +' -m /ModTsfc_summa/settings/'\n",
    "                    + exp + '/' + site + '/' + fileManagerName)\n",
    "            f.write('\\n')\n"
   ]
  },
  {
   "cell_type": "code",
   "execution_count": 7,
   "metadata": {
    "collapsed": false
   },
   "outputs": [],
   "source": [
    "# Shortwave errors that integrate to the prescribed bias over the course of a day\n",
    "def prescribeShortwaveBias(dat, bias):\n",
    "    # Determine the hourly radiation index\n",
    "    hri = hourlyRadiationIndex(dat);\n",
    "\n",
    "    # Error in W/m^2\n",
    "    outputSW = dat.SWRadAtm + hri * 80 * (24 * 60 * 60 / dat.data_step)\n",
    "    return(outputSW)\n",
    "\n",
    "def hourlyRadiationIndex(dat):\n",
    "    timeDaily = pd.date_range(dat.time.values[0], dat.time.values[-1], freq='d')\n",
    "    # Empty DataArray for the hourly radiation index\n",
    "    hri = xr.DataArray(np.zeros_like(dat.airtemp.squeeze('hru').values),\n",
    "                       coords=[dat.time.values], dims=['time'])\n",
    "    for n, days in enumerate(timeDaily[:-2]):\n",
    "        elev = dat.elevAngle.loc[dict(time = slice(timeDaily[n], timeDaily[n + 1]))] * np.pi / 180\n",
    "        totExposure = np.trapz(np.sin(elev))\n",
    "        hri.loc[dict(time=slice(timeDaily[n], timeDaily[n + 1]))] = np.sin(elev) / totExposure\n",
    "    return(hri)"
   ]
  },
  {
   "cell_type": "code",
   "execution_count": 8,
   "metadata": {
    "collapsed": true
   },
   "outputs": [],
   "source": [
    "# Relative humidity and Speicif humidity\n",
    "def calc_RH(p, q, T):\n",
    "    RH = np.empty_like(T)\n",
    "    if np.nanmin(T) < 200:\n",
    "        T = T + 273.16\n",
    "    T_0 = 273.16\n",
    "\n",
    "    RH = .263 * p * q * (np.exp( (17.67*(T - T_0)) / (T - 29.65) ))**(-1)\n",
    "    RH[RH > 100] = 100\n",
    "    return(RH)\n",
    "\n",
    "\n",
    "def calc_QS(p, RH, T):\n",
    "    if np.nanmin(T) < 200:\n",
    "        T = T + 273.16\n",
    "    T_0 = 273.16\n",
    "\n",
    "    q = RH / (.263 * p) * (np.exp( (17.67*(T - T_0)) / (T - 29.65) ))\n",
    "    return(q)"
   ]
  },
  {
   "cell_type": "markdown",
   "metadata": {},
   "source": [
    "# Uncertainty Experiments"
   ]
  },
  {
   "cell_type": "code",
   "execution_count": 34,
   "metadata": {
    "collapsed": false
   },
   "outputs": [
    {
     "name": "stdout",
     "output_type": "stream",
     "text": [
      "longwaveBias: lowLW\n",
      "500000.0    0.6    0.25\n",
      "Finished creating new summa_zParamTrial file\n",
      "Finished creating new Decision file\n",
      "Finished creating new file Manager\n",
      "longwaveBias: obsLW\n",
      "500000.0    0.6    0.25\n",
      "Finished creating new summa_zParamTrial file\n",
      "Finished creating new Decision file\n",
      "Finished creating new file Manager\n",
      "longwaveBias: highLW\n",
      "500000.0    0.6    0.25\n",
      "Finished creating new summa_zParamTrial file\n"
     ]
    },
    {
     "ename": "OSError",
     "evalue": "Permission denied",
     "output_type": "error",
     "traceback": [
      "\u001b[0;31m---------------------------------------------------------------------------\u001b[0m",
      "\u001b[0;31mOSError\u001b[0m                                   Traceback (most recent call last)",
      "\u001b[0;32m<ipython-input-34-a9eec19588e0>\u001b[0m in \u001b[0;36m<module>\u001b[0;34m()\u001b[0m\n\u001b[1;32m     26\u001b[0m \u001b[0;34m\u001b[0m\u001b[0m\n\u001b[1;32m     27\u001b[0m         \u001b[0mtempDatName\u001b[0m \u001b[0;34m=\u001b[0m \u001b[0mdatName\u001b[0m \u001b[0;34m+\u001b[0m \u001b[0;34m'.'\u001b[0m \u001b[0;34m+\u001b[0m \u001b[0mexpID\u001b[0m \u001b[0;34m+\u001b[0m \u001b[0;34m'.nc'\u001b[0m\u001b[0;34m\u001b[0m\u001b[0m\n\u001b[0;32m---> 28\u001b[0;31m         \u001b[0msummaControlFunc\u001b[0m\u001b[0;34m(\u001b[0m\u001b[0mdirModel\u001b[0m\u001b[0;34m,\u001b[0m \u001b[0msiteName\u001b[0m\u001b[0;34m,\u001b[0m \u001b[0mexpN\u001b[0m\u001b[0;34m,\u001b[0m \u001b[0mexpID\u001b[0m\u001b[0;34m,\u001b[0m \u001b[0mattr\u001b[0m\u001b[0;34m,\u001b[0m \u001b[0mtempDat\u001b[0m\u001b[0;34m,\u001b[0m \u001b[0mtempDatName\u001b[0m\u001b[0;34m,\u001b[0m \u001b[0mallParams\u001b[0m\u001b[0;34m,\u001b[0m \u001b[0mmyDecisions\u001b[0m\u001b[0;34m)\u001b[0m\u001b[0;34m\u001b[0m\u001b[0m\n\u001b[0m\u001b[1;32m     29\u001b[0m \u001b[0;34m\u001b[0m\u001b[0m\n\u001b[1;32m     30\u001b[0m     \u001b[0;31m# Write the shell script for running this experiment\u001b[0m\u001b[0;34m\u001b[0m\u001b[0;34m\u001b[0m\u001b[0m\n",
      "\u001b[0;32m<ipython-input-5-052ef86f7584>\u001b[0m in \u001b[0;36msummaControlFunc\u001b[0;34m(dirModel, siteName, expName, expID, attrFile, datFile, datFileName, allParams, allDecisions)\u001b[0m\n\u001b[1;32m      8\u001b[0m \u001b[0;34m\u001b[0m\u001b[0m\n\u001b[1;32m      9\u001b[0m     summapy.summaFileManager.forcingFile(dirModel, siteName, expName, datFileName,\n\u001b[0;32m---> 10\u001b[0;31m                                          np.array(1001), xrForce=datFile, expID=expID)   ; \n\u001b[0m\u001b[1;32m     11\u001b[0m \u001b[0;34m\u001b[0m\u001b[0m\n\u001b[1;32m     12\u001b[0m     summapy.summaFileManager.decision(allDecisions, dirModel, siteName, expName,\n",
      "\u001b[0;32m/Users/karllapo/gdrive/python/projects/ModTsfc/summapy/summapy/summaFileManager.py\u001b[0m in \u001b[0;36mforcingFile\u001b[0;34m(dirModel, siteID, expName, fForceFile, rangeHRU, xrForce, expID)\u001b[0m\n\u001b[1;32m    338\u001b[0m         \u001b[0mos\u001b[0m\u001b[0;34m.\u001b[0m\u001b[0mchdir\u001b[0m\u001b[0;34m(\u001b[0m\u001b[0mdirInput\u001b[0m\u001b[0;34m)\u001b[0m\u001b[0;34m\u001b[0m\u001b[0m\n\u001b[1;32m    339\u001b[0m \u001b[0;34m\u001b[0m\u001b[0m\n\u001b[0;32m--> 340\u001b[0;31m         \u001b[0mxrForce\u001b[0m\u001b[0;34m.\u001b[0m\u001b[0mto_netcdf\u001b[0m\u001b[0;34m(\u001b[0m\u001b[0mfForceFile\u001b[0m\u001b[0;34m)\u001b[0m\u001b[0;34m\u001b[0m\u001b[0m\n\u001b[0m\u001b[1;32m    341\u001b[0m \u001b[0;34m\u001b[0m\u001b[0m\n\u001b[1;32m    342\u001b[0m         \u001b[0;31m# Make sure we leave the user where they were\u001b[0m\u001b[0;34m\u001b[0m\u001b[0;34m\u001b[0m\u001b[0m\n",
      "\u001b[0;32m//anaconda/lib/python3.5/site-packages/xarray/core/dataset.py\u001b[0m in \u001b[0;36mto_netcdf\u001b[0;34m(self, path, mode, format, group, engine, encoding, unlimited_dims)\u001b[0m\n\u001b[1;32m    981\u001b[0m         return to_netcdf(self, path, mode, format=format, group=group,\n\u001b[1;32m    982\u001b[0m                          \u001b[0mengine\u001b[0m\u001b[0;34m=\u001b[0m\u001b[0mengine\u001b[0m\u001b[0;34m,\u001b[0m \u001b[0mencoding\u001b[0m\u001b[0;34m=\u001b[0m\u001b[0mencoding\u001b[0m\u001b[0;34m,\u001b[0m\u001b[0;34m\u001b[0m\u001b[0m\n\u001b[0;32m--> 983\u001b[0;31m                          unlimited_dims=unlimited_dims)\n\u001b[0m\u001b[1;32m    984\u001b[0m \u001b[0;34m\u001b[0m\u001b[0m\n\u001b[1;32m    985\u001b[0m     \u001b[0;32mdef\u001b[0m \u001b[0m__unicode__\u001b[0m\u001b[0;34m(\u001b[0m\u001b[0mself\u001b[0m\u001b[0;34m)\u001b[0m\u001b[0;34m:\u001b[0m\u001b[0;34m\u001b[0m\u001b[0m\n",
      "\u001b[0;32m//anaconda/lib/python3.5/site-packages/xarray/backends/api.py\u001b[0m in \u001b[0;36mto_netcdf\u001b[0;34m(dataset, path_or_file, mode, format, group, engine, writer, encoding, unlimited_dims)\u001b[0m\n\u001b[1;32m    575\u001b[0m \u001b[0;34m\u001b[0m\u001b[0m\n\u001b[1;32m    576\u001b[0m     \u001b[0mtarget\u001b[0m \u001b[0;34m=\u001b[0m \u001b[0mpath_or_file\u001b[0m \u001b[0;32mif\u001b[0m \u001b[0mpath_or_file\u001b[0m \u001b[0;32mis\u001b[0m \u001b[0;32mnot\u001b[0m \u001b[0;32mNone\u001b[0m \u001b[0;32melse\u001b[0m \u001b[0mBytesIO\u001b[0m\u001b[0;34m(\u001b[0m\u001b[0;34m)\u001b[0m\u001b[0;34m\u001b[0m\u001b[0m\n\u001b[0;32m--> 577\u001b[0;31m     \u001b[0mstore\u001b[0m \u001b[0;34m=\u001b[0m \u001b[0mstore_cls\u001b[0m\u001b[0;34m(\u001b[0m\u001b[0mtarget\u001b[0m\u001b[0;34m,\u001b[0m \u001b[0mmode\u001b[0m\u001b[0;34m,\u001b[0m \u001b[0mformat\u001b[0m\u001b[0;34m,\u001b[0m \u001b[0mgroup\u001b[0m\u001b[0;34m,\u001b[0m \u001b[0mwriter\u001b[0m\u001b[0;34m)\u001b[0m\u001b[0;34m\u001b[0m\u001b[0m\n\u001b[0m\u001b[1;32m    578\u001b[0m \u001b[0;34m\u001b[0m\u001b[0m\n\u001b[1;32m    579\u001b[0m     \u001b[0;32mif\u001b[0m \u001b[0munlimited_dims\u001b[0m \u001b[0;32mis\u001b[0m \u001b[0;32mNone\u001b[0m\u001b[0;34m:\u001b[0m\u001b[0;34m\u001b[0m\u001b[0m\n",
      "\u001b[0;32m//anaconda/lib/python3.5/site-packages/xarray/backends/netCDF4_.py\u001b[0m in \u001b[0;36m__init__\u001b[0;34m(self, filename, mode, format, group, writer, clobber, diskless, persist, autoclose)\u001b[0m\n\u001b[1;32m    208\u001b[0m                                    \u001b[0mdiskless\u001b[0m\u001b[0;34m=\u001b[0m\u001b[0mdiskless\u001b[0m\u001b[0;34m,\u001b[0m \u001b[0mpersist\u001b[0m\u001b[0;34m=\u001b[0m\u001b[0mpersist\u001b[0m\u001b[0;34m,\u001b[0m\u001b[0;34m\u001b[0m\u001b[0m\n\u001b[1;32m    209\u001b[0m                                    format=format)\n\u001b[0;32m--> 210\u001b[0;31m         \u001b[0mself\u001b[0m\u001b[0;34m.\u001b[0m\u001b[0mds\u001b[0m \u001b[0;34m=\u001b[0m \u001b[0mopener\u001b[0m\u001b[0;34m(\u001b[0m\u001b[0;34m)\u001b[0m\u001b[0;34m\u001b[0m\u001b[0m\n\u001b[0m\u001b[1;32m    211\u001b[0m         \u001b[0mself\u001b[0m\u001b[0;34m.\u001b[0m\u001b[0m_autoclose\u001b[0m \u001b[0;34m=\u001b[0m \u001b[0mautoclose\u001b[0m\u001b[0;34m\u001b[0m\u001b[0m\n\u001b[1;32m    212\u001b[0m         \u001b[0mself\u001b[0m\u001b[0;34m.\u001b[0m\u001b[0m_isopen\u001b[0m \u001b[0;34m=\u001b[0m \u001b[0;32mTrue\u001b[0m\u001b[0;34m\u001b[0m\u001b[0m\n",
      "\u001b[0;32m//anaconda/lib/python3.5/site-packages/xarray/backends/netCDF4_.py\u001b[0m in \u001b[0;36m_open_netcdf4_group\u001b[0;34m(filename, mode, group, **kwargs)\u001b[0m\n\u001b[1;32m    183\u001b[0m     \u001b[0;32mimport\u001b[0m \u001b[0mnetCDF4\u001b[0m \u001b[0;32mas\u001b[0m \u001b[0mnc4\u001b[0m\u001b[0;34m\u001b[0m\u001b[0m\n\u001b[1;32m    184\u001b[0m \u001b[0;34m\u001b[0m\u001b[0m\n\u001b[0;32m--> 185\u001b[0;31m     \u001b[0mds\u001b[0m \u001b[0;34m=\u001b[0m \u001b[0mnc4\u001b[0m\u001b[0;34m.\u001b[0m\u001b[0mDataset\u001b[0m\u001b[0;34m(\u001b[0m\u001b[0mfilename\u001b[0m\u001b[0;34m,\u001b[0m \u001b[0mmode\u001b[0m\u001b[0;34m=\u001b[0m\u001b[0mmode\u001b[0m\u001b[0;34m,\u001b[0m \u001b[0;34m**\u001b[0m\u001b[0mkwargs\u001b[0m\u001b[0;34m)\u001b[0m\u001b[0;34m\u001b[0m\u001b[0m\n\u001b[0m\u001b[1;32m    186\u001b[0m \u001b[0;34m\u001b[0m\u001b[0m\n\u001b[1;32m    187\u001b[0m     \u001b[0;32mwith\u001b[0m \u001b[0mclose_on_error\u001b[0m\u001b[0;34m(\u001b[0m\u001b[0mds\u001b[0m\u001b[0;34m)\u001b[0m\u001b[0;34m:\u001b[0m\u001b[0;34m\u001b[0m\u001b[0m\n",
      "\u001b[0;32mnetCDF4/_netCDF4.pyx\u001b[0m in \u001b[0;36mnetCDF4._netCDF4.Dataset.__init__ (netCDF4/_netCDF4.c:12617)\u001b[0;34m()\u001b[0m\n",
      "\u001b[0;31mOSError\u001b[0m: Permission denied"
     ]
    }
   ],
   "source": [
    "# Set up modeling decisions. Non-specified decision will follow the default values set by summa and summapy\n",
    "for expN in experiments:\n",
    "    if expN == 'precipBias':\n",
    "        continue\n",
    "\n",
    "    # Experiment specific files\n",
    "    for expID in expNames[expN]:\n",
    "        tempDat = xr.Dataset(dat)\n",
    "        print(expN + ': ' + expID)\n",
    "        fieldForBias = metName[expN]\n",
    "        \n",
    "        if expN == 'specHumidBias':\n",
    "            RH = calc_RH(tempDat.airpres.values, tempDat.spechum.values, tempDat.airtemp.values)\n",
    "            RH = RH + expBias[expN][expID]\n",
    "            RH[RH > 100] = 100\n",
    "            RH[RH < 0] = 0\n",
    "            spechum = calc_QS(tempDat.airpres.values, RH, tempDat.airtemp.values)\n",
    "            tempDat[fieldForBias] = (('time', 'hru'), spechum)\n",
    "        \n",
    "        if expN == 'shortwaveBias':\n",
    "            SWRadAtm = prescribeShortwaveBias(tempDat, expBias[expN][expID])\n",
    "            tempDat[fieldForBias] = SWRadAtm\n",
    "        else:            \n",
    "            tempDat[fieldForBias] = tempDat[fieldForBias] + expBias[expN][expID]\n",
    "\n",
    "        tempDatName = datName + '.' + expID + '.nc'\n",
    "        summaControlFunc(dirModel, siteName, expN, expID, attr, tempDat, tempDatName, allParams, myDecisions)\n",
    "\n",
    "    # Write the shell script for running this experiment\n",
    "#     os.chdir(dirModel)\n",
    "#     summaRunCommand(expNames, expN, siteName)"
   ]
  },
  {
   "cell_type": "code",
   "execution_count": 30,
   "metadata": {
    "collapsed": false
   },
   "outputs": [
    {
     "data": {
      "image/png": "[encoded data removed]",
      "text/plain": [
       "<matplotlib.figure.Figure at 0x120322f28>"
      ]
     },
     "metadata": {},
     "output_type": "display_data"
    },
    {
     "data": {
      "image/png": "[encoded data removed]",
      "text/plain": [
       "<matplotlib.figure.Figure at 0x120960828>"
      ]
     },
     "metadata": {},
     "output_type": "display_data"
    },
    {
     "data": {
      "image/png": "[encoded data removed]",
      "text/plain": [
       "<matplotlib.figure.Figure at 0x120988b00>"
      ]
     },
     "metadata": {},
     "output_type": "display_data"
    },
    {
     "data": {
      "image/png": "[encoded data removed]",
      "text/plain": [
       "<matplotlib.figure.Figure at 0x11fe49e10>"
      ]
     },
     "metadata": {},
     "output_type": "display_data"
    },
    {
     "data": {
      "image/png": "[encoded data removed]",
      "text/plain": [
       "<matplotlib.figure.Figure at 0x120e95550>"
      ]
     },
     "metadata": {},
     "output_type": "display_data"
    }
   ],
   "source": [
    "for expN in experiments:\n",
    "    if expN == 'precipBias':\n",
    "        continue\n",
    "\n",
    "    fig, ax = plt.subplots(1, 1, figsize=(5, 5))\n",
    "    # Experiment specific files\n",
    "    for n, expID in enumerate(expNames[expN]):\n",
    "        tempDatName = datName + '.' + expID + '.nc'\n",
    "        os.chdir('/Users/karllapo/gdrive/SnowHydrology/proj/ModTsfc/summa/ModTsfc_summa/input/' + expN + '/SWA/')\n",
    "        fieldForBias = metName[expN]\n",
    "        tempDat = xr.open_dataset(tempDatName)\n",
    "        ax.plot(dat[fieldForBias], tempDat[fieldForBias], '.')\n",
    "        ax.text(0.1, 0.7 + (n * 0.1), \n",
    "                str((dat[fieldForBias] - tempDat[fieldForBias]).mean(dim='time').values),\n",
    "                ha='center', va='center', transform=ax.transAxes)\n",
    "    ax.set_title(expN)\n"
   ]
  },
  {
   "cell_type": "code",
   "execution_count": 22,
   "metadata": {
    "collapsed": false
   },
   "outputs": [
    {
     "data": {
      "text/plain": [
       "<xarray.DataArray 'windspd' (hru: 1)>\n",
       "array([ 1.13065], dtype=float32)\n",
       "Dimensions without coordinates: hru"
      ]
     },
     "execution_count": 22,
     "metadata": {},
     "output_type": "execute_result"
    }
   ],
   "source": [
    "dat[fieldForBias].mean(dim='time')"
   ]
  },
  {
   "cell_type": "code",
   "execution_count": 23,
   "metadata": {
    "collapsed": false
   },
   "outputs": [
    {
     "data": {
      "text/plain": [
       "'lowTair'"
      ]
     },
     "execution_count": 23,
     "metadata": {},
     "output_type": "execute_result"
    }
   ],
   "source": [
    "expID"
   ]
  },
  {
   "cell_type": "code",
   "execution_count": null,
   "metadata": {
    "collapsed": true
   },
   "outputs": [],
   "source": []
  }
 ],
 "metadata": {
  "anaconda-cloud": {},
  "kernelspec": {
   "display_name": "Python [Root]",
   "language": "python",
   "name": "Python [Root]"
  },
  "language_info": {
   "codemirror_mode": {
    "name": "ipython",
    "version": 3
   },
   "file_extension": ".py",
   "mimetype": "text/x-python",
   "name": "python",
   "nbconvert_exporter": "python",
   "pygments_lexer": "ipython3",
   "version": "3.5.2"
  }
 },
 "nbformat": 4,
 "nbformat_minor": 0
}
