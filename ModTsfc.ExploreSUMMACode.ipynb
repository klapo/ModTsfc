{
 "cells": [
  {
   "cell_type": "markdown",
   "metadata": {},
   "source": [
    "# SUMMA Forcing data exploration\n",
    "- what format does the data need to be in?\n",
    "- What sort of cleaning do I need to do?\n",
    "- What files need to be written?"
   ]
  },
  {
   "cell_type": "code",
   "execution_count": 3,
   "metadata": {
    "collapsed": false
   },
   "outputs": [],
   "source": [
    "# netcdf/numpy/xray/stats\n",
    "import numpy as np\n",
    "from datetime import datetime, timedelta\n",
    "import pandas as pd\n",
    "import xarray as xr\n",
    "from scipy.stats.stats import pearsonr\n",
    "\n",
    "# OS interaction\n",
    "import sys, pickle, os\n",
    "\n",
    "# import plotting\n",
    "import seaborn as sns\n",
    "import matplotlib\n",
    "from matplotlib.pyplot import subplots\n",
    "import matplotlib.pyplot as plt\n",
    "from matplotlib import cm\n",
    "from mpl_toolkits.basemap import Basemap\n",
    "\n",
    "# Offline Turbulence Package\n",
    "import turbpy\n",
    "\n",
    "# Customize\n",
    "sns.set_style(\"whitegrid\")\n",
    "sns.set_context('paper')\n",
    "%matplotlib inline"
   ]
  },
  {
   "cell_type": "code",
   "execution_count": 4,
   "metadata": {
    "collapsed": false
   },
   "outputs": [],
   "source": [
    "# --------------------------------------------------------------------------------------------------------------------\n",
    "# Directory Lists\n",
    "# Unix\n",
    "if 'linux' in sys.platform:\n",
    "    dir_pre = '/home/lapok/gdrive/'\n",
    "# Mac\n",
    "elif 'darwin' in sys.platform:\n",
    "    dir_pre = '/Users/karllapo/gdrive/'\n",
    "\n",
    "dirProj = dir_pre + 'SnowHydrology/proj/ModTsfc/'\n",
    "dirPrint = dir_pre + dirProj + '/Graphics'\n",
    "dirData = dir_pre + dirProj + 'data'"
   ]
  },
  {
   "cell_type": "code",
   "execution_count": 5,
   "metadata": {
    "collapsed": false
   },
   "outputs": [
    {
     "name": "stdout",
     "output_type": "stream",
     "text": [
      "<xarray.Dataset>\n",
      "Dimensions:    (hru: 1, time: 144)\n",
      "Coordinates:\n",
      "  * time       (time) datetime64[ns] 2000-01-01T00:29:59.971200 ...\n",
      "Dimensions without coordinates: hru\n",
      "Data variables:\n",
      "    hruId      (hru) int32 1001\n",
      "    latitude   (hru) float64 43.2\n",
      "    longitude  (hru) float64 243.2\n",
      "    data_step  timedelta64[ns] 00:30:00\n",
      "    LWRadAtm   (time, hru) float64 350.0 350.0 350.0 350.0 350.0 350.0 350.0 ...\n",
      "    SWRadAtm   (time, hru) float64 0.0 0.0 0.0 0.0 0.0 0.0 0.0 0.0 0.0 0.0 ...\n",
      "    airpres    (time, hru) float64 1.013e+05 1.013e+05 1.013e+05 1.013e+05 ...\n",
      "    airtemp    (time, hru) float64 283.2 283.2 283.2 283.2 283.2 283.2 283.2 ...\n",
      "    pptrate    (time, hru) float64 0.0 0.0 0.0 0.0 0.0 0.0 0.0 0.0 0.0 0.0 ...\n",
      "    spechum    (time, hru) float64 0.001 0.001 0.001 0.001 0.001 0.001 0.001 ...\n",
      "    windspd    (time, hru) float64 0.0 0.0 0.0 0.0 0.0 0.0 0.0 0.0 0.0 0.0 ...\n",
      "Attributes:\n",
      "    dataset_orig_path: /d2/anewman/summa/summaTestCases/testCases_data/inputData/syntheticData/celia1990/\n",
      "    history: Tue Sep 27 21:53:13 2016: ncrename -d nHRU,hru ./inputData/syntheticData/celia1990/celia1990_forcing.nc\n",
      "    NCO: \"4.6.0\"\n",
      "<xarray.Dataset>\n",
      "Dimensions:    (hru: 1, time: 4320)\n",
      "Coordinates:\n",
      "  * time       (time) datetime64[ns] 1990-01-01T00:01:00 1990-01-01T00:02:00 ...\n",
      "Dimensions without coordinates: hru\n",
      "Data variables:\n",
      "    hruId      (hru) int32 1001\n",
      "    latitude   (hru) float64 40.0\n",
      "    longitude  (hru) float64 250.0\n",
      "    data_step  float64 60.0\n",
      "    LWRadAtm   (time, hru) float64 275.0 275.0 275.0 275.0 275.0 275.0 275.0 ...\n",
      "    SWRadAtm   (time, hru) float64 0.0 0.0 0.0 0.0 0.0 0.0 0.0 0.0 0.0 0.0 ...\n",
      "    airpres    (time, hru) float64 1.013e+05 1.013e+05 1.013e+05 1.013e+05 ...\n",
      "    airtemp    (time, hru) float64 283.2 283.2 283.2 283.2 283.2 283.2 283.2 ...\n",
      "    pptrate    (time, hru) float64 0.01 0.01 0.01 0.01 0.01 0.01 0.01 0.01 ...\n",
      "    spechum    (time, hru) float64 0.001 0.001 0.001 0.001 0.001 0.001 0.001 ...\n",
      "    windspd    (time, hru) float64 0.0 0.0 0.0 0.0 0.0 0.0 0.0 0.0 0.0 0.0 ...\n"
     ]
    }
   ],
   "source": [
    "# Look at forcing data from one of the test cases\n",
    "os.chdir(dirProj + 'summa/summaTestCases/testCases_data/inputData/syntheticData/celia1990')\n",
    "celia = xr.open_dataset('celia1990_forcing.nc')\n",
    "os.chdir(dirProj + 'summa/summaTestCases/testCases_data/inputData/syntheticData/colbeck1976')\n",
    "colbeck = xr.open_dataset('colbeck1976_forcing.nc')\n",
    "\n",
    "print(celia)\n",
    "print(colbeck)"
   ]
  },
  {
   "cell_type": "code",
   "execution_count": 10,
   "metadata": {
    "collapsed": false
   },
   "outputs": [
    {
     "name": "stdout",
     "output_type": "stream",
     "text": [
      "<xarray.Dataset>\n",
      "Dimensions:         (gru: 1, hru: 1)\n",
      "Dimensions without coordinates: gru, hru\n",
      "Data variables:\n",
      "    hru2gruId       (hru) int32 1001\n",
      "    downHRUindex    (hru) int32 0\n",
      "    slopeTypeIndex  (hru) int32 1\n",
      "    soilTypeIndex   (hru) int32 8\n",
      "    vegTypeIndex    (hru) int32 7\n",
      "    mHeight         (hru) float64 3.0\n",
      "    contourLength   (hru) float64 180.8\n",
      "    tan_slope       (hru) float64 0.2083\n",
      "    elevation       (hru) float64 2.097e+03\n",
      "    longitude       (hru) float64 243.2\n",
      "    latitude        (hru) float64 43.2\n",
      "    HRUarea         (hru) float64 3.27e+04\n",
      "    hruId           (hru) int32 1001\n",
      "    gruId           (gru) int32 1001\n",
      "Attributes:\n",
      "    datasource: *zLocalAttributes*\n",
      "    history: Tue Sep 27 21:51:50 2016: ncrename -d nhru,hru -d ngru,gru ./syntheticTestCases/celia1990/summa_zLocalAttributes.nc\n",
      "    NCO: \"4.6.0\"\n"
     ]
    }
   ],
   "source": [
    "# Look at attributes data from one of the test cases\n",
    "os.chdir(dirProj + 'summa/summaTestCases/settings/syntheticTestCases/celia1990')\n",
    "celiaAtt = xr.open_dataset('summa_zLocalAttributes.nc')\n",
    "print(celiaAtt)"
   ]
  },
  {
   "cell_type": "code",
   "execution_count": null,
   "metadata": {
    "collapsed": true
   },
   "outputs": [],
   "source": []
  },
  {
   "cell_type": "code",
   "execution_count": null,
   "metadata": {
    "collapsed": true
   },
   "outputs": [],
   "source": []
  },
  {
   "cell_type": "code",
   "execution_count": null,
   "metadata": {
    "collapsed": true
   },
   "outputs": [],
   "source": []
  }
 ],
 "metadata": {
  "anaconda-cloud": {},
  "kernelspec": {
   "display_name": "Python [Root]",
   "language": "python",
   "name": "Python [Root]"
  },
  "language_info": {
   "codemirror_mode": {
    "name": "ipython",
    "version": 3
   },
   "file_extension": ".py",
   "mimetype": "text/x-python",
   "name": "python",
   "nbconvert_exporter": "python",
   "pygments_lexer": "ipython3",
   "version": "3.5.2"
  }
 },
 "nbformat": 4,
 "nbformat_minor": 0
}
