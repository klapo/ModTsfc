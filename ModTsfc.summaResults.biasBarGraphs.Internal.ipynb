{
 "cells": [
  {
   "cell_type": "markdown",
   "metadata": {},
   "source": [
    "# Read SUMMA output"
   ]
  },
  {
   "cell_type": "code",
   "execution_count": 39,
   "metadata": {
    "collapsed": false
   },
   "outputs": [],
   "source": [
    "# netcdf/numpy/xray/stats\n",
    "import numpy as np\n",
    "from datetime import datetime, timedelta\n",
    "import pandas as pd\n",
    "import xarray as xr\n",
    "from scipy.stats.stats import pearsonr\n",
    "\n",
    "# OS interaction\n",
    "import sys, pickle, os\n",
    "\n",
    "# import plotting\n",
    "import seaborn as sns\n",
    "import matplotlib\n",
    "from matplotlib.pyplot import subplots\n",
    "import matplotlib.pyplot as plt\n",
    "from matplotlib import cm\n",
    "from mpl_toolkits.basemap import Basemap\n",
    "import kgraph\n",
    "import matplotlib.gridspec as gridspec\n",
    "import string\n",
    "\n",
    "# Offline Turbulence Package\n",
    "import turbpy\n",
    "\n",
    "# Customize\n",
    "sns.set_style(\"whitegrid\")\n",
    "sns.set_context('paper', font_scale=1.5)\n",
    "%matplotlib inline"
   ]
  },
  {
   "cell_type": "code",
   "execution_count": 2,
   "metadata": {
    "collapsed": false
   },
   "outputs": [],
   "source": [
    "# --------------------------------------------------------------------------------------------------------------------\n",
    "# Directory Lists\n",
    "# Unix\n",
    "if 'linux' in sys.platform:\n",
    "    dirPre = '/home/lapok/gdrive/'\n",
    "# Mac\n",
    "elif 'darwin' in sys.platform:\n",
    "    dirPre = '/Users/karllapo/gdrive/'\n",
    "\n",
    "dirProj = dirPre + 'SnowHydrology/proj/ModTsfc/'\n",
    "dirPrint = dirProj + 'Graphics'\n",
    "dirData = dirProj + 'data'"
   ]
  },
  {
   "cell_type": "markdown",
   "metadata": {},
   "source": [
    "## Functions to quickly evaluate all model output"
   ]
  },
  {
   "cell_type": "code",
   "execution_count": 12,
   "metadata": {
    "collapsed": false
   },
   "outputs": [],
   "source": [
    "def evalBiasTs(ax, dsDict, obs, labels, ls, lcolor):\n",
    "    # Tsurf scatter plot\n",
    "    hours = np.arange(0, 24)\n",
    "    for ex in sorted(dsDict.keys()):\n",
    "        ax.plot(dsDict[ex].scalarSurfaceTemp - 273.15, obs.Tsrf, '.',\n",
    "                label=labels[ex],\n",
    "                color=lcolor[ex])\n",
    "    ax.plot([-30, 0], [-30, 0], 'k--')\n",
    "    ax.set_xlim(-30, 0)\n",
    "    ax.set_ylim(-30, 0)\n",
    "    ax.set_xlabel('Modeled T ($^{\\circ}$)')\n",
    "    ax.set_ylabel('Observed T ($^{\\circ}$)')\n",
    "    ax.legend(loc='best')\n",
    "\n",
    "def sortFun(s):\n",
    "    if 'large' in s and 'Pos' in s:\n",
    "        return(4)\n",
    "    elif 'small' in s and 'Pos' in s:\n",
    "        return(3)\n",
    "    elif 'small' in s and 'Neg' in s:\n",
    "        return(2)\n",
    "    elif 'large' in s and 'Neg' in s:\n",
    "        return(1)\n",
    "    "
   ]
  },
  {
   "cell_type": "markdown",
   "metadata": {},
   "source": [
    "## Grab data: observations and model output"
   ]
  },
  {
   "cell_type": "code",
   "execution_count": 30,
   "metadata": {
    "collapsed": false
   },
   "outputs": [
    {
     "name": "stdout",
     "output_type": "stream",
     "text": [
      "<xarray.Dataset>\n",
      "Dimensions:                (expID: 32, time: 52608)\n",
      "Coordinates:\n",
      "  * time                   (time) datetime64[ns] 2006-10-01 ...\n",
      "    exp                    (expID) object 'intBias_thermalCond' ...\n",
      "    layer                  (expID) object 'layerThin' 'layerThin' ...\n",
      "    family                 (expID) object 'layerThin_tyen1965' ...\n",
      "  * expID                  (expID) object 'layerThin_tyen1965' ...\n",
      "Data variables:\n",
      "    scalarRainPlusMelt     (expID, time) float64 -9.999e+03 -9.999e+03 ...\n",
      "    scalarSWE              (expID, time) float64 0.0 0.0 0.0 0.0 0.0 0.0 0.0 ...\n",
      "    scalarSnowSublimation  (expID, time) float64 0.0 0.0 0.0 0.0 0.0 0.0 0.0 ...\n",
      "    scalarInfiltration     (expID, time) float64 1.749e-07 0.0 0.0 0.0 0.0 ...\n",
      "    scalarSurfaceRunoff    (expID, time) float64 3.272e-12 0.0 0.0 0.0 0.0 ...\n",
      "    scalarSurfaceTemp      (expID, time) float64 283.2 281.0 279.8 278.9 ...\n",
      "    scalarSenHeatTotal     (expID, time) float64 -82.07 -27.32 -20.47 -15.78 ...\n",
      "    scalarLatHeatTotal     (expID, time) float64 -207.2 -123.8 -96.51 -78.24 ...\n",
      "    scalarSnowDepth        (expID, time) float64 0.0 0.0 0.0 0.0 0.0 0.0 0.0 ...\n"
     ]
    }
   ],
   "source": [
    "# ----------\n",
    "# Sites and forcing data\n",
    "siteNames = ['SWA', 'CDP']\n",
    "siteYears = {'SWA': np.arange(2006, 2012),\n",
    "             'CDP': np.arange(2002, 2010)}\n",
    "\n",
    "d1 = {'CDP': datetime(2002, 10, 1), 'SWA': datetime(2006, 10, 1)}\n",
    "d2 = {'CDP': datetime(2010, 9, 30, 22, 0, 0), 'SWA': datetime(2012, 9, 30, 23, 0, 0)}\n",
    "\n",
    "os.chdir(dirData)\n",
    "CDPforce = xr.open_dataset('CDP.ModTsfc.nc')\n",
    "CDPforce = CDPforce.loc[dict(time = slice(d1['CDP'], d2['CDP']))]\n",
    "CDPforce_daily = CDPforce.resample(how='mean', freq='d', dim='time')\n",
    "\n",
    "SWAforce = xr.open_dataset('SWA.ModTsfc.nc')\n",
    "SWAforce = SWAforce.loc[dict(time = slice(d1['SWA'], d2['SWA']))]\n",
    "SWAforce_daily = SWAforce.resample(how='mean', freq='d', dim='time')\n",
    "\n",
    "force = {'SWA': SWAforce, 'CDP': CDPforce}\n",
    "force_daily = {'SWA': SWAforce_daily, 'CDP': CDPforce_daily}\n",
    "\n",
    "# ----------\n",
    "# Summa modeling results for each site\n",
    "os.chdir(dirData  + '/summaResults')\n",
    "\n",
    "SWA = xr.open_dataset('SWA.summaResults.intBias.nc')\n",
    "print(SWA)\n",
    "\n",
    "results = {'SWA': SWA}"
   ]
  },
  {
   "cell_type": "code",
   "execution_count": 48,
   "metadata": {
    "collapsed": false
   },
   "outputs": [],
   "source": [
    "# ----------\n",
    "# Experiment names and identifiers\n",
    "experiments = ['intBias_thermalCond', 'intBias_stability']\n",
    "\n",
    "# Layer\n",
    "expNames = {'layers': ['layerThin', 'layerThick', 'jrdn1991', 'CLM_2010']}\n",
    "\n",
    "# Thermal conductivity\n",
    "expNames['thermalCond'] = ['tyen1965', 'smnv2000_Low', 'smnv2000_Mid', 'smnv2000_High']\n",
    "expBias = {'intBias_thermalCond': {'largePos': 'smnv2000_High', 'smallPos': 'smnv2000_Mid',\n",
    "                                   'smallNeg': 'tyen1965', 'largeNeg': 'smnv2000_Low'}}\n",
    "\n",
    "# Stability\n",
    "expNames['stability'] = ['standard_Low', 'standard_High', 'mahrtexp_Low', 'mahrtexp_High']\n",
    "expBias['intBias_stability'] = {'largeNeg': 'standard_High', 'smallNeg': 'standard_Low',\n",
    "                                'smallPos': 'mahrtexp_Low', 'largePos': 'mahrtexp_High'}\n",
    "\n",
    "# Make experiment names list\n",
    "expID_dict = {}\n",
    "for exp in experiments:\n",
    "    expID_dict[exp] = []\n",
    "\n",
    "    if 'stability' in exp:\n",
    "        for layer in expNames['layers']:\n",
    "            for stab in expNames['stability']:\n",
    "                # Name for identifying files for this experiment\n",
    "                expID = layer + '_' + stab\n",
    "                expID_dict[exp].append(expID)\n",
    "\n",
    "    elif 'thermalCond' in exp:\n",
    "        for layer in expNames['layers']:\n",
    "            for thCond in expNames['thermalCond']:\n",
    "                # Name for identifying files for this experiment\n",
    "                expID = layer + '_' + thCond\n",
    "                expID_dict[exp].append(expID)\n",
    "\n",
    "# ----------\n",
    "# Scalar variables to extract from output\n",
    "scalar_data_vars = ['scalarRainPlusMelt', 'scalarSWE', 'scalarSnowSublimation', \n",
    "                    'scalarInfiltration', 'scalarSurfaceRunoff', 'scalarSurfaceTemp',\n",
    "                    'scalarSenHeatTotal', 'scalarLatHeatTotal', 'scalarSnowDepth']"
   ]
  },
  {
   "cell_type": "markdown",
   "metadata": {},
   "source": [
    "## Assign colors/line types for each experiment"
   ]
  },
  {
   "cell_type": "code",
   "execution_count": 57,
   "metadata": {
    "collapsed": false
   },
   "outputs": [
    {
     "data": {
      "image/png": "[encoded data removed]",
      "text/plain": [
       "<matplotlib.figure.Figure at 0x11c2b7fd0>"
      ]
     },
     "metadata": {},
     "output_type": "display_data"
    }
   ],
   "source": [
    "sns.set_context('paper', font_scale=1.25)\n",
    "alphabet = list(string.ascii_lowercase)\n",
    "# ----------\n",
    "# Biases\n",
    "flag_modelRelative = False\n",
    "s = 'SWA'\n",
    "ylims = [-7, 3]\n",
    "\n",
    "# Bias relative to model with no errors\n",
    "if flag_modelRelative:\n",
    "    noBias = results[s].sel(expID='jrdn1991')\n",
    "    ds = ((results[s].scalarSurfaceTemp) - noBias.scalarSurfaceTemp)\n",
    "    ds = ds.where((results[s].scalarSWE > 0) & (noBias.scalarSWE > 0))\n",
    "# Bias relative to observations\n",
    "else:\n",
    "    ds = ((results[s].scalarSurfaceTemp - 273.15) - force[s].Tsrf)\n",
    "    ds = ds.where((force[s].SP) & (results[s].scalarSWE > 0))\n",
    "\n",
    "# Figure\n",
    "fig = plt.figure(figsize=(8, 6))\n",
    "gs = gridspec.GridSpec(2, 3, hspace=0.5)    \n",
    "width = 0.175\n",
    "\n",
    "# ----------\n",
    "# Met Uncertainty\n",
    "zorder = [1, 2, 4, 3]\n",
    "layers = ['layerThin', 'layerThick', 'CLM_2010', 'jrdn1991']\n",
    "layerLabels = ['UEB', 'VIC', 'CLM', 'SNTHERM']\n",
    "for n, exp in enumerate(experiments):\n",
    "    ax = plt.subplot(gs[n, :])\n",
    "    for layerNum, layer in enumerate(layers):\n",
    "        for bNum, b in enumerate(sorted(expBias[exp], key=sortFun)):\n",
    "            expID = layer + '_' + expBias[exp][b]\n",
    "            xpos = ((bNum + 1) * width) + layerNum\n",
    "            ax.bar(xpos, np.mean(ds.sel(expID=expID)),\n",
    "                   width=width, color=sns.color_palette('RdBu_r', 4)[bNum], zorder=zorder[bNum])\n",
    "    ax.set_ylabel('Bias (C$^{\\circ}$)')\n",
    "    ax.set_xticks(np.arange(0, len(layers) + 1) + 0.5)\n",
    "    ax.set_xticklabels(layerLabels)\n",
    "    ax.set_xlim(0, 4)\n",
    "    ax.xaxis.grid(False)\n",
    "    ax.plot([0, 6], [0, 0], 'k', zorder=1)\n",
    "    ax.set_ylim(ylims)\n",
    "    ax.set_title(alphabet[n] + ') ' + exp.split('_')[1], loc='left')\n",
    "\n",
    "# ----------\n",
    "# Custom legends\n",
    "# Thermal Conductivity\n",
    "ax = plt.subplot(gs[0, :])\n",
    "colsche = sns.color_palette('RdBu_r', 4)\n",
    "groups = ['$\\lambda = 0.1$', '$\\lambda = 0.35$', r'$\\lambda(\\rho)$', '$\\lambda = 1.0$']\n",
    "h1 = [matplotlib.patches.Patch(color=colsche[n], label=gr) \\\n",
    "          for n,gr in enumerate(groups)]\n",
    "leg = ax.legend(handles=h1, loc='lower right', ncol=4, handlelength=1, frameon=True)\n",
    "\n",
    "# Stability\n",
    "ax = plt.subplot(gs[1, :])\n",
    "colsche = sns.color_palette('RdBu_r', 4)\n",
    "groups = ['Anderson $z_0=0.1$','Anderson $z_0=0.001$','Mahrt $z_0=0.1$','Mahrt $z_0=0.001$']\n",
    "h1 = [matplotlib.patches.Patch(color=colsche[n], label=gr) \\\n",
    "          for n,gr in enumerate(groups)]\n",
    "leg = ax.legend(handles=h1, loc='lower right', ncol=2, handlelength=1, frameon=True)\n",
    "\n",
    "os.chdir(dirPrint)\n",
    "fig.savefig(s + '.intBias.bias_Ts.bar.pdf')"
   ]
  },
  {
   "cell_type": "code",
   "execution_count": 56,
   "metadata": {
    "collapsed": false
   },
   "outputs": [
    {
     "name": "stdout",
     "output_type": "stream",
     "text": [
      "SWA\n"
     ]
    }
   ],
   "source": [
    "print(s)"
   ]
  },
  {
   "cell_type": "code",
   "execution_count": null,
   "metadata": {
    "collapsed": true
   },
   "outputs": [],
   "source": []
  }
 ],
 "metadata": {
  "anaconda-cloud": {},
  "kernelspec": {
   "display_name": "Python [Root]",
   "language": "python",
   "name": "Python [Root]"
  },
  "language_info": {
   "codemirror_mode": {
    "name": "ipython",
    "version": 3
   },
   "file_extension": ".py",
   "mimetype": "text/x-python",
   "name": "python",
   "nbconvert_exporter": "python",
   "pygments_lexer": "ipython3",
   "version": "3.5.2"
  }
 },
 "nbformat": 4,
 "nbformat_minor": 0
}
