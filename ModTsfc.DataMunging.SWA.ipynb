{
 "cells": [
  {
   "cell_type": "markdown",
   "metadata": {},
   "source": [
    "# Swamp Angel Observations"
   ]
  },
  {
   "cell_type": "code",
   "execution_count": 1,
   "metadata": {
    "collapsed": false
   },
   "outputs": [],
   "source": [
    "# netcdf/numpy/xray/stats\n",
    "import numpy as np\n",
    "from datetime import datetime, timedelta\n",
    "import pandas as pd\n",
    "import xarray as xr\n",
    "from scipy.stats.stats import pearsonr\n",
    "\n",
    "# OS interaction\n",
    "import sys, pickle, os\n",
    "\n",
    "# import plotting\n",
    "import seaborn as sns\n",
    "import matplotlib\n",
    "from matplotlib.pyplot import subplots\n",
    "import matplotlib.pyplot as plt\n",
    "from matplotlib import cm\n",
    "from mpl_toolkits.basemap import Basemap\n",
    "\n",
    "# Offline Turbulence Package\n",
    "import turbpy\n",
    "\n",
    "# Customize\n",
    "sns.set_style(\"whitegrid\")\n",
    "sns.set_context('paper')\n",
    "%matplotlib inline"
   ]
  },
  {
   "cell_type": "code",
   "execution_count": 2,
   "metadata": {
    "collapsed": false
   },
   "outputs": [],
   "source": [
    "# --------------------------------------------------------------------------------------------------------------------\n",
    "# Directory Lists\n",
    "# Unix\n",
    "if 'linux' in sys.platform:\n",
    "    dirPre = '/home/lapok/gdrive/'\n",
    "# Mac\n",
    "elif 'darwin' in sys.platform:\n",
    "    dirPre = '/Users/karllapo/gdrive/'\n",
    "\n",
    "dirProj = dirPre + 'SnowHydrology/proj/ModTsfc/'\n",
    "dirPrint = dirProj + 'Graphics'\n",
    "dirData = dirProj + 'data'\n",
    "\n",
    "# Original Swamp Angel observations\n",
    "dirDataRaw = dirPre + 'GroundObs/SenatorBeck/Raw'"
   ]
  },
  {
   "cell_type": "markdown",
   "metadata": {},
   "source": [
    "## Read and format the Senator Beck data"
   ]
  },
  {
   "cell_type": "code",
   "execution_count": 3,
   "metadata": {
    "collapsed": false
   },
   "outputs": [
    {
     "name": "stdout",
     "output_type": "stream",
     "text": [
      "<xarray.Dataset>\n",
      "Dimensions:     (time: 61368)\n",
      "Coordinates:\n",
      "  * time        (time) datetime64[ns] 2005-10-01T01:00:00 ...\n",
      "Data variables:\n",
      "    LWdwn       (time) float32 234.0 233.8 233.4 231.9 231.2 230.6 231.4 ...\n",
      "    Press       (time) float32 66863.0 66863.0 66863.0 66863.0 66863.0 ...\n",
      "    QS          (time) float32 0.0055 0.00543 0.00566 0.00509 0.00531 ...\n",
      "    Rainf       (time) float32 0.0 0.0 0.0 0.0 0.0 0.0 0.0 0.0 0.0 0.0 0.0 ...\n",
      "    precipSnow  (time) float32 0.0 0.0 0.0 0.0 0.0 0.0 0.0 0.0 0.0 0.0 0.0 ...\n",
      "    SWdwn       (time) float32 0.0 0.0 0.0 0.0 0.0 0.0 11.1 186.4 454.3 ...\n",
      "    Tair        (time) float32 1.35001 1.35001 1.95001 1.55002 1.45001 ...\n",
      "    WIND        (time) float32 0.6 0.9 1.0 0.7 0.9 0.9 1.0 1.0 1.0 1.0 1.1 ...\n"
     ]
    }
   ],
   "source": [
    "# --------------------------------------------------------------------------------------------\n",
    "# data parser functions\n",
    "def parser(x):\n",
    "    return(pd.datetime.strptime(x, '%Y %j %H'))\n",
    "\n",
    "def hourConverter(x):\n",
    "    x = float(x)-100.\n",
    "    if x >= 1000.:\n",
    "        x = str(int(x/100))\n",
    "    elif x < 1000. and x >= 0.:\n",
    "        x = '0'+str(int(x/100))\n",
    "    return x\n",
    "\n",
    "os.chdir(dirData + '/SWA')\n",
    "SWA = xr.open_dataset('met_insitu_swa_2005_2012.nc')\n",
    "SWA.rename({'Psurf': 'Press',\n",
    "            'Qair': 'QS',\n",
    "            'SWdown': 'SWdwn',\n",
    "            'LWdown': 'LWdwn',\n",
    "            'Wind': 'WIND',\n",
    "            'Snowf': 'precipSnow',\n",
    "            }, inplace=True)\n",
    "SWA['Tair'] = SWA['Tair'] - 273.15\n",
    "print(SWA)"
   ]
  },
  {
   "cell_type": "code",
   "execution_count": 4,
   "metadata": {
    "collapsed": false
   },
   "outputs": [],
   "source": [
    "# --------------------------------------------------------------------------------------------\n",
    "# Read the Senator Beck data\n",
    "os.chdir(dirDataRaw)\n",
    "fields_to_keep = ['Hour',\n",
    "                  'Year',\n",
    "                  'DOY',\n",
    "                  'UpWind_Uavg_MS',\n",
    "                  'PyDwn_Unfilt_W',\n",
    "                  'PyUp_Unfilt_W',\n",
    "                  'Pyrgeom_W',\n",
    "                  'Sno_IR_C',\n",
    "                  'Soil_Surf_C',\n",
    "                  'UpAir_Min_C',\n",
    "                  'UpAir_Max_C',\n",
    "                  'Up_RH',\n",
    "                  'Sno_Height_M',\n",
    "                  'Day_H2O_mm',\n",
    "                  'Baro_inHg',\n",
    "                 ]\n",
    "\n",
    "SWAtxt = pd.read_csv('SASP_1hr.withHeader.txt',\n",
    "                  converters={'Hour': hourConverter},\n",
    "                  parse_dates={'time': ['Year', 'DOY', 'Hour']},\n",
    "                  date_parser=parser,\n",
    "                  index_col='time',\n",
    "                  usecols=fields_to_keep,\n",
    "                  header=0)\n",
    "\n",
    "SWAtxt = xr.Dataset.from_dataframe(SWAtxt)"
   ]
  },
  {
   "cell_type": "code",
   "execution_count": 5,
   "metadata": {
    "collapsed": false
   },
   "outputs": [
    {
     "data": {
      "text/plain": [
       "<xarray.Dataset>\n",
       "Dimensions:      (time: 84299)\n",
       "Coordinates:\n",
       "  * time         (time) datetime64[ns] 2003-11-08T13:00:00 ...\n",
       "Data variables:\n",
       "    WIND         (time) float64 nan nan nan nan nan nan nan nan nan nan nan ...\n",
       "    SWup         (time) float64 nan nan nan nan nan nan nan nan nan nan nan ...\n",
       "    SWdwn        (time) float64 nan nan nan nan nan nan nan nan nan nan nan ...\n",
       "    LWdwn        (time) float64 nan nan nan nan nan nan nan nan nan nan nan ...\n",
       "    Tsrf1        (time) float64 nan nan nan nan nan nan nan nan nan nan nan ...\n",
       "    snowDepth    (time) float64 0.27 0.27 0.27 0.28 0.29 0.29 0.28 0.28 0.29 ...\n",
       "    precip       (time) float64 0.0 0.0 0.0 0.0 0.0 0.0 0.0 0.0 0.0 0.0 0.0 ...\n",
       "    Press        (time) float64 30.23 30.24 30.24 30.24 30.24 30.25 30.26 ...\n",
       "    Tsrf2        (time) float64 nan nan nan nan nan nan nan nan nan nan nan ...\n",
       "    UpAir_Min_C  (time) float64 nan nan nan nan nan nan nan nan nan nan nan ...\n",
       "    UpAir_Max_C  (time) float64 nan nan nan nan nan nan nan nan nan nan nan ...\n",
       "    RH           (time) float64 nan nan nan nan nan nan nan nan nan nan nan ..."
      ]
     },
     "execution_count": 5,
     "metadata": {},
     "output_type": "execute_result"
    }
   ],
   "source": [
    "# --------------------------------------------------------------------------------------------\n",
    "# Refine the Dataset\n",
    "SWAtxt.rename({'Sno_IR_C': 'Tsrf1',\n",
    "               'Soil_Surf_C': 'Tsrf2',\n",
    "               'PyDwn_Unfilt_W': 'SWup',\n",
    "               'PyUp_Unfilt_W': 'SWdwn',\n",
    "               'Pyrgeom_W': 'LWdwn',\n",
    "               'UpWind_Uavg_MS': 'WIND',\n",
    "               'Day_H2O_mm': 'precip',\n",
    "               'Sno_Height_M': 'snowDepth',\n",
    "               'Baro_inHg': 'Press',\n",
    "               'Up_RH': 'RH'}, inplace=True)\n"
   ]
  },
  {
   "cell_type": "markdown",
   "metadata": {},
   "source": [
    "### Handle other variables, including surface temperature"
   ]
  },
  {
   "cell_type": "code",
   "execution_count": 6,
   "metadata": {
    "collapsed": false
   },
   "outputs": [
    {
     "name": "stderr",
     "output_type": "stream",
     "text": [
      "//anaconda/lib/python3.5/site-packages/xarray/core/variable.py:1130: RuntimeWarning: invalid value encountered in less\n",
      "  if not reflexive\n",
      "//anaconda/lib/python3.5/site-packages/xarray/core/variable.py:1130: RuntimeWarning: invalid value encountered in greater\n",
      "  if not reflexive\n",
      "//anaconda/lib/python3.5/site-packages/xarray/core/variable.py:1130: RuntimeWarning: divide by zero encountered in true_divide\n",
      "  if not reflexive\n"
     ]
    }
   ],
   "source": [
    "# Combine surface temperature time series into a single variable\n",
    "# CSAS dataset splits up skin temperature into two separate fields: 'Snow_IR_C' and 'Soil_Surf_C'.\n",
    "# These two different fields may be defined by snow depth. Using my own criteria below.\n",
    "SWA['Tsrf'] = SWAtxt.Tsrf1.combine_first(SWAtxt.Tsrf2)\n",
    "SWA['snowDepth'] = SWAtxt.snowDepth\n",
    "\n",
    "# Take daily average, reindex to half-hourly time series, use in snow presence criteria\n",
    "TsrfDaily = SWA.Tsrf.resample(how='mean', freq='d', dim='time', label='left')\n",
    "TsrfDaily = TsrfDaily.reindex_like(SWA, method='ffill')\n",
    "\n",
    "# bare ground when no snowdepth recorded or the daily surface temperature is above freezing\n",
    "groundSurfTemp = SWA.Tsrf[(SWA.snowDepth < 0.01) | (TsrfDaily > 0.5)]\n",
    "\n",
    "# snow covered ground when snow is observed and the surface temperature is below freezing\n",
    "snowSurfTemp = SWA.Tsrf[(SWA.snowDepth > 0.01) & (TsrfDaily < 0.5)]\n",
    "\n",
    "# Assign to support xarray.Dataset\n",
    "SWA['groundTs'] = groundSurfTemp\n",
    "SWA['snowTs'] = snowSurfTemp\n",
    "\n",
    "# Create snow presence variable\n",
    "snowPres = ((SWA.snowDepth > 0.01) & (TsrfDaily < 0.5))\n",
    "SWA['SP'] = snowPres.astype(int)\n",
    "\n",
    "# RH for overview plots\n",
    "SWA['RH'] = SWAtxt['RH']\n",
    "\n",
    "# Total precip\n",
    "SWA['precip'] = SWA['precipSnow'] + SWA['Rainf']\n",
    "\n",
    "# Upwelling shortwave\n",
    "SWA['SWup'] = SWAtxt['SWup']\n",
    "\n",
    "# Bulk Richardson\n",
    "RiBulk,_,_ = turbpy.bulkRichardson(SWA.Tair + 273.15, SWA.Tsrf + 273.15, SWA.WIND, 6 - SWA.snowDepth)\n",
    "SWA['RiBulk'] = RiBulk"
   ]
  },
  {
   "cell_type": "code",
   "execution_count": 7,
   "metadata": {
    "collapsed": false
   },
   "outputs": [
    {
     "name": "stdout",
     "output_type": "stream",
     "text": [
      "<xarray.Dataset>\n",
      "Dimensions:     (time: 61368)\n",
      "Coordinates:\n",
      "  * time        (time) datetime64[ns] 2005-10-01T01:00:00 ...\n",
      "Data variables:\n",
      "    LWdwn       (time) float32 234.0 233.8 233.4 231.9 231.2 230.6 231.4 ...\n",
      "    Press       (time) float32 66863.0 66863.0 66863.0 66863.0 66863.0 ...\n",
      "    QS          (time) float32 0.0055 0.00543 0.00566 0.00509 0.00531 ...\n",
      "    Rainf       (time) float32 0.0 0.0 0.0 0.0 0.0 0.0 0.0 0.0 0.0 0.0 0.0 ...\n",
      "    precipSnow  (time) float32 0.0 0.0 0.0 0.0 0.0 0.0 0.0 0.0 0.0 0.0 0.0 ...\n",
      "    SWdwn       (time) float32 0.0 0.0 0.0 0.0 0.0 0.0 11.1 186.4 454.3 ...\n",
      "    Tair        (time) float32 1.35001 1.35001 1.95001 1.55002 1.45001 ...\n",
      "    WIND        (time) float32 0.6 0.9 1.0 0.7 0.9 0.9 1.0 1.0 1.0 1.0 1.1 ...\n",
      "    Tsrf        (time) float64 0.115 0.07 -0.022 -0.085 -0.184 -0.223 0.473 ...\n",
      "    snowDepth   (time) float64 0.191 0.155 0.167 0.163 0.166 0.154 0.12 nan ...\n",
      "    groundTs    (time) float64 0.115 0.07 -0.022 -0.085 -0.184 -0.223 0.473 ...\n",
      "    snowTs      (time) float64 nan nan nan nan nan nan nan nan nan nan nan ...\n",
      "    SP          (time) int64 0 0 0 0 0 0 0 0 0 0 0 0 0 0 0 0 0 0 0 0 0 0 0 0 ...\n",
      "    RH          (time) float64 nan nan nan nan nan nan nan nan nan nan nan ...\n",
      "    precip      (time) float32 0.0 0.0 0.0 0.0 0.0 0.0 0.0 0.0 0.0 0.0 0.0 ...\n",
      "    SWup        (time) float64 0.478 0.312 0.524 0.28 0.615 2.123 38.23 86.3 ...\n",
      "    RiBulk      (time) float64 0.7135 0.3307 0.4115 0.6973 0.4215 0.587 ...\n"
     ]
    }
   ],
   "source": [
    "# -------------------------------------------------------------------------\n",
    "# Write netcdf\n",
    "os.chdir(dirData)\n",
    "SWA.to_netcdf('SWA.ModTsfc.nc')\n",
    "SWAtxt.to_netcdf('SWA_fromWebsite.ModTsfc.nc')\n",
    "print(SWA)"
   ]
  },
  {
   "cell_type": "code",
   "execution_count": 8,
   "metadata": {
    "collapsed": false
   },
   "outputs": [
    {
     "name": "stdout",
     "output_type": "stream",
     "text": [
      "<xarray.Dataset>\n",
      "Dimensions:     (time: 2558)\n",
      "Coordinates:\n",
      "  * time        (time) datetime64[ns] 2005-10-01 2005-10-02 2005-10-03 ...\n",
      "Data variables:\n",
      "    LWdwn       (time) float64 250.5 257.1 284.7 311.3 207.8 257.0 211.5 ...\n",
      "    Press       (time) float64 6.686e+04 6.686e+04 6.686e+04 6.686e+04 ...\n",
      "    QS          (time) float64 0.005839 0.005305 0.005965 0.006475 0.003927 ...\n",
      "    Rainf       (time) float64 0.0 0.0 0.0 0.0001238 0.0 0.0 0.0 0.000119 ...\n",
      "    precipSnow  (time) float64 0.0 1.221e-05 0.0 0.0 0.0 0.0 0.0 0.0 ...\n",
      "    SWdwn       (time) float64 231.3 149.4 132.0 64.29 233.0 180.6 230.5 ...\n",
      "    Tair        (time) float64 6.298 6.242 7.288 4.583 2.008 3.429 4.025 ...\n",
      "    WIND        (time) float64 1.061 1.188 1.425 1.7 1.417 1.079 1.142 1.142 ...\n",
      "    Tsrf        (time) float64 7.974 6.249 7.51 5.552 5.394 6.164 6.559 ...\n",
      "    snowDepth   (time) float64 0.1583 0.1569 0.161 0.1801 0.1795 0.2644 ...\n",
      "    groundTs    (time) float64 7.974 6.249 7.51 5.552 5.394 6.164 6.559 ...\n",
      "    snowTs      (time) float64 nan nan nan nan nan nan nan nan nan nan nan ...\n",
      "    SP          (time) float64 0.0 0.0 0.0 0.0 0.0 0.0 0.0 0.0 0.0 0.0 0.0 ...\n",
      "    RH          (time) float64 nan nan nan nan nan nan nan nan nan nan nan ...\n",
      "    precip      (time) float64 0.0 1.221e-05 0.0 0.0001238 0.0 0.0 0.0 ...\n",
      "    SWup        (time) float64 40.55 26.26 23.13 10.15 41.25 31.38 42.58 ...\n",
      "    RiBulk      (time) float64 -0.1255 0.1101 0.06276 -0.05652 -0.2849 ...\n"
     ]
    }
   ],
   "source": [
    "# -------------------------------------------------------------------------\n",
    "# Write daily averages\n",
    "os.chdir(dirData)\n",
    "SWA_daily = SWA.resample(how='mean', freq='d', dim='time')\n",
    "SWA_daily.to_netcdf('SWA.ModTsfc.Daily.nc')\n",
    "print(SWA_daily)"
   ]
  }
 ],
 "metadata": {
  "anaconda-cloud": {},
  "kernelspec": {
   "display_name": "Python [Root]",
   "language": "python",
   "name": "Python [Root]"
  },
  "language_info": {
   "codemirror_mode": {
    "name": "ipython",
    "version": 3
   },
   "file_extension": ".py",
   "mimetype": "text/x-python",
   "name": "python",
   "nbconvert_exporter": "python",
   "pygments_lexer": "ipython3",
   "version": "3.5.2"
  }
 },
 "nbformat": 4,
 "nbformat_minor": 0
}
