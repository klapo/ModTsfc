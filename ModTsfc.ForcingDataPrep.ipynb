{
 "cells": [
  {
   "cell_type": "markdown",
   "metadata": {},
   "source": [
    "# Forcing data for SUMMA"
   ]
  },
  {
   "cell_type": "code",
   "execution_count": 1,
   "metadata": {
    "collapsed": false
   },
   "outputs": [],
   "source": [
    "# netcdf/numpy/xray/stats\n",
    "import numpy as np\n",
    "from datetime import datetime, timedelta\n",
    "import pandas as pd\n",
    "import xarray as xr\n",
    "from scipy.stats.stats import pearsonr\n",
    "\n",
    "# OS interaction\n",
    "import sys, pickle, os\n",
    "\n",
    "# import plotting\n",
    "import seaborn as sns\n",
    "import matplotlib\n",
    "from matplotlib.pyplot import subplots\n",
    "import matplotlib.pyplot as plt\n",
    "from matplotlib import cm\n",
    "from mpl_toolkits.basemap import Basemap\n",
    "import kgraph\n",
    "\n",
    "# Offline Turbulence Package\n",
    "import turbpy\n",
    "\n",
    "# Customize\n",
    "sns.set_style(\"whitegrid\")\n",
    "sns.set_context('paper')\n",
    "%matplotlib inline"
   ]
  },
  {
   "cell_type": "code",
   "execution_count": 2,
   "metadata": {
    "collapsed": false
   },
   "outputs": [],
   "source": [
    "# --------------------------------------------------------------------------------------------------------------------\n",
    "# Directory Lists\n",
    "# Unix\n",
    "if 'linux' in sys.platform:\n",
    "    dirPre = '/home/lapok/gdrive/'\n",
    "# Mac\n",
    "elif 'darwin' in sys.platform:\n",
    "    dirPre = '/Users/karllapo/gdrive/'\n",
    "\n",
    "dirProj = dirPre + 'SnowHydrology/proj/ModTsfc/'\n",
    "dirPrint = dirProj + 'Graphics'\n",
    "dirData = dirProj + 'data'\n",
    "\n"
   ]
  },
  {
   "cell_type": "markdown",
   "metadata": {},
   "source": [
    "## Open data"
   ]
  },
  {
   "cell_type": "code",
   "execution_count": 3,
   "metadata": {
    "collapsed": true
   },
   "outputs": [],
   "source": [
    "os.chdir(dirData)\n",
    "SWA = xr.open_dataset('SWA.ModTsfc.nc')\n",
    "SNQ = xr.open_dataset('SNQ.ModTsfc.nc')\n",
    "CDP = xr.open_dataset('CDP.ModTsfc.nc')"
   ]
  },
  {
   "cell_type": "code",
   "execution_count": 4,
   "metadata": {
    "collapsed": false
   },
   "outputs": [
    {
     "name": "stderr",
     "output_type": "stream",
     "text": [
      "//anaconda/lib/python3.5/site-packages/xarray/core/variable.py:1130: RuntimeWarning: divide by zero encountered in true_divide\n",
      "  if not reflexive\n",
      "//anaconda/lib/python3.5/site-packages/xarray/core/variable.py:1130: RuntimeWarning: invalid value encountered in multiply\n",
      "  if not reflexive\n"
     ]
    }
   ],
   "source": [
    "# --------------------------------------------------------------------------------------------\n",
    "# Add bulk stability measure to each site\n",
    "RiBulk,_,_ = turbpy.bulkRichardson(SWA.Tair + 273.15, SWA.Tsrf + 273.15, SWA.WIND, 6 - SWA.snowDepth)\n",
    "SWA['RiBulk'] = RiBulk\n",
    "RiBulk,_,_ = turbpy.bulkRichardson(SNQ.Tair + 273.15, SNQ.Tsrf + 273.15, SNQ.WIND, 6 - SNQ.snowDepth)\n",
    "SNQ['RiBulk'] = RiBulk\n",
    "RiBulk,_,_ = turbpy.bulkRichardson(CDP.Tair + 273.15, CDP.Tsrf + 273.15, CDP.WIND, 6 - CDP.snowDepth)\n",
    "CDP['RiBulk'] = RiBulk"
   ]
  },
  {
   "cell_type": "code",
   "execution_count": 5,
   "metadata": {
    "collapsed": false
   },
   "outputs": [],
   "source": [
    "# --------------------------------------------------------------------------------------------\n",
    "# Resample to daily\n",
    "dailyResample = False\n",
    "if dailyResample:\n",
    "    # Other accounting\n",
    "    SWA_daily = SWA.resample(how='mean', freq='d', dim='time')\n",
    "    SNQ_daily = SNQ.resample(how='mean', freq='d', dim='time')\n",
    "    CDP_daily = CDP.resample(how='mean', freq='d', dim='time')\n",
    "\n",
    "    os.chdir(dirData)\n",
    "    SWA_daily.to_netcdf('SWA.ModTsfc.Daily.nc')\n",
    "    SNQ_daily.to_netcdf('SNQ.ModTsfc.Daily.nc')\n",
    "    CDP_daily.to_netcdf('CDP.ModTsfc.Daily.nc')\n",
    "\n",
    "# Load daily resamples\n",
    "else:\n",
    "    SWA_daily = xr.open_dataset('SWA.ModTsfc.Daily.nc')\n",
    "    SNQ_daily = xr.open_dataset('SNQ.ModTsfc.Daily.nc')\n",
    "    CDP_daily = xr.open_dataset('CDP.ModTsfc.Daily.nc')\n",
    "\n",
    "# --------------------------------------------------------------------------------------------\n",
    "# Dictionaries for iterating\n",
    "met = {'SWA': SWA,\n",
    "       'SNQ': SNQ,\n",
    "       'CDP': CDP}\n",
    "\n",
    "metDaily = {'SWA_daily': SWA_daily,\n",
    "            'SNQ_daily': SNQ_daily,\n",
    "            'CDP_daily': CDP_daily}"
   ]
  },
  {
   "cell_type": "markdown",
   "metadata": {},
   "source": [
    "## Forcing file\n",
    "\n",
    "<div>\n",
    "Summa expects the following information in the forcing data file\n",
    "pptrate        | 7                      ! precipitation rate              (kg m-2 s-1)\n",
    "SWRadAtm       | 8                      ! downwelling shortwave radiaiton (W m-2)\n",
    "LWRadAtm       | 9                      ! downwelling longwave radiation  (W m-2)\n",
    "airtemp        | 10                     ! air temperature                 (K)\n",
    "windspd        | 11                     ! windspeed                       (m/s)\n",
    "airpres        | 12                     ! pressure                        (Pa)\n",
    "spechum        | 13                     ! specific humidity               (g/g)\n",
    "data_step      | 1800                   ! length of time step (seconds)\n",
    "<div/>"
   ]
  },
  {
   "cell_type": "code",
   "execution_count": 6,
   "metadata": {
    "collapsed": false
   },
   "outputs": [
    {
     "name": "stdout",
     "output_type": "stream",
     "text": [
      "<xarray.Dataset>\n",
      "Dimensions:    (hru: 1, time: 87672)\n",
      "Coordinates:\n",
      "  * time       (time) datetime64[ns] 1998-10-01T01:00:00.028800 ...\n",
      "Dimensions without coordinates: hru\n",
      "Data variables:\n",
      "    hruId      (hru) int32 1001\n",
      "    latitude   (hru) float64 43.2\n",
      "    longitude  (hru) float64 243.2\n",
      "    data_step  timedelta64[ns] 01:00:00\n",
      "    LWRadAtm   (time, hru) float64 323.0 320.0 313.0 309.0 308.0 312.0 320.0 ...\n",
      "    SWRadAtm   (time, hru) float64 0.0 0.0 0.0 0.0 0.0 0.0 4.0 88.0 206.0 ...\n",
      "    airpres    (time, hru) float64 7.935e+04 7.935e+04 7.935e+04 7.935e+04 ...\n",
      "    airtemp    (time, hru) float64 283.3 282.8 281.5 280.9 280.7 281.1 281.8 ...\n",
      "    pptrate    (time, hru) float64 0.0 0.0 0.0 0.0 0.0 0.0 0.0 0.0 0.0 0.0 ...\n",
      "    spechum    (time, hru) float64 0.005053 0.00498 0.004664 0.00463 ...\n",
      "    windspd    (time, hru) float64 2.3 2.5 2.4 2.3 2.6 2.4 3.5 4.5 4.1 4.5 ...\n",
      "Attributes:\n",
      "    dataset_orig_path: /d2/anewman/summa/summaTestCases/testCases_data/inputData/fieldData/reynolds\n",
      "    history: Tue Sep 27 21:53:08 2016: ncrename -d nHRU,hru ./inputData/fieldData/reynolds/forcing_above_aspen.nc\n",
      "    NCO: \"4.6.0\"\n"
     ]
    }
   ],
   "source": [
    "cwd = os.getcwd()\n",
    "os.chdir('/Users/karllapo/gdrive/SnowHydrology/proj/ModTsfc/summa/summaTestCases/testCases_data/inputData/fieldData/reynolds')\n",
    "print(xr.open_dataset('forcing_above_aspen.nc'))\n",
    "os.chdir(cwd)  # Return to where I was before"
   ]
  },
  {
   "cell_type": "code",
   "execution_count": 7,
   "metadata": {
    "collapsed": false
   },
   "outputs": [
    {
     "name": "stdout",
     "output_type": "stream",
     "text": [
      "<xarray.Dataset>\n",
      "Dimensions:    (hru: 1, time: 6073)\n",
      "Coordinates:\n",
      "  * time       (time) datetime64[ns] 2005-10-01 2005-10-01T01:00:00 ...\n",
      "Dimensions without coordinates: hru\n",
      "Data variables:\n",
      "    SWRadAtm   (time, hru) float64 0.0 0.0 0.0 0.0 0.0 0.0 1.389 23.61 96.39 ...\n",
      "    airpres    (time, hru) float64 8.748e+04 8.743e+04 8.739e+04 8.738e+04 ...\n",
      "    longitude  (hru) float64 5.77\n",
      "    windspd    (time, hru) float64 0.6 0.0 1.0 0.5 0.2 1.2 1.1 1.1 0.6 0.6 ...\n",
      "    airtemp    (time, hru) float64 277.8 278.0 277.7 278.3 277.7 279.4 280.7 ...\n",
      "    hruId      (hru) int64 1001\n",
      "    latitude   (hru) float64 45.3\n",
      "    pptrate    (time, hru) float64 0.0 0.0 0.0 0.0 0.0 0.0 0.0 0.0 0.0 0.0 ...\n",
      "    data_step  int64 3600\n",
      "    LWRadAtm   (time, hru) float64 283.1 284.7 285.8 288.1 293.9 335.0 347.2 ...\n",
      "    spechum    (time, hru) float64 4.74 4.485 4.572 4.51 4.391 4.672 4.287 ...\n"
     ]
    }
   ],
   "source": [
    "# Select water year 2006\n",
    "CDP = CDP.loc[dict(time = slice(datetime(2005, 10, 1), datetime(2006, 9, 1)))]\n",
    "\n",
    "# Complete necessary unit conversions and naming conventions\n",
    "modelCDP = xr.Dataset({'pptrate': (['time', 'hru'], np.atleast_2d(CDP.precipSnow).T),\n",
    "                       'SWRadAtm': (['time', 'hru'], np.atleast_2d(CDP.SWdwn).T),\n",
    "                       'LWRadAtm': (['time', 'hru'], np.atleast_2d(CDP.LWdwn).T),\n",
    "                       'airtemp': (['time', 'hru'], np.atleast_2d(CDP.Tair).T + 273.15),\n",
    "                       'windspd': (['time', 'hru'], np.atleast_2d(CDP.WIND).T),\n",
    "                       'airpres': (['time', 'hru'], np.atleast_2d(CDP.Press).T),\n",
    "                       'spechum': (['time', 'hru'], np.atleast_2d(CDP.QS).T * 1000),\n",
    "                       'data_step': 3600,\n",
    "                       'hruId': (['hru'], np.atleast_1d(1001)),\n",
    "                       'latitude': (['hru'], np.atleast_1d(45.300000)),\n",
    "                       'longitude': (['hru'], np.atleast_1d(5.770000)),\n",
    "                      },\n",
    "                      coords={'time': pd.to_datetime(CDP.time.values)})\n",
    "os.chdir(dirData)\n",
    "modelCDP.to_netcdf('CDP.ModTsfc.ModelForcing_wy2006.nc')\n",
    "print(modelCDP)"
   ]
  },
  {
   "cell_type": "markdown",
   "metadata": {},
   "source": [
    "Important things to know: xarray and summa don't play well with the data_step variable. \n",
    "1) You have to write data_step as an int representing the timestep in number of seconds.\n",
    "2) The expected shape for netcdf files in summa is [time, hru]. It does not smartly read labeled dimensions. Hence the `.T`"
   ]
  },
  {
   "cell_type": "markdown",
   "metadata": {
    "collapsed": true
   },
   "source": [
    "## Attributes file. \n",
    "\n",
    "Here is one of the example files:"
   ]
  },
  {
   "cell_type": "code",
   "execution_count": 8,
   "metadata": {
    "collapsed": false
   },
   "outputs": [
    {
     "name": "stdout",
     "output_type": "stream",
     "text": [
      "<xarray.Dataset>\n",
      "Dimensions:         (gru: 1, hru: 1)\n",
      "Dimensions without coordinates: gru, hru\n",
      "Data variables:\n",
      "    hru2gruId       (hru) int32 1001\n",
      "    downHRUindex    (hru) int32 0\n",
      "    slopeTypeIndex  (hru) int32 1\n",
      "    soilTypeIndex   (hru) int32 8\n",
      "    vegTypeIndex    (hru) int32 11\n",
      "    mHeight         (hru) float64 19.25\n",
      "    contourLength   (hru) float64 180.8\n",
      "    tan_slope       (hru) float64 0.2083\n",
      "    elevation       (hru) float64 2.097e+03\n",
      "    longitude       (hru) float64 243.2\n",
      "    latitude        (hru) float64 43.2\n",
      "    HRUarea         (hru) float64 3.27e+04\n",
      "    hruId           (hru) int32 1001\n",
      "    gruId           (gru) int32 1001\n",
      "Attributes:\n",
      "    datasource: *zLocalAttributes*\n",
      "    history: Tue Sep 27 21:51:50 2016: ncrename -d nhru,hru -d ngru,gru ./wrrPaperTestCases/figure01/summa_zLocalAttributes_riparianAspen.nc\n",
      "    NCO: \"4.6.0\"\n"
     ]
    }
   ],
   "source": [
    "cwd = os.getcwd()\n",
    "os.chdir('/Users/karllapo/gdrive/SnowHydrology/proj/ModTsfc/summa/summaTestCases/settings/wrrPaperTestCases/figure01')\n",
    "print(xr.open_dataset('summa_zLocalAttributes_riparianAspen.nc'))\n",
    "os.chdir(cwd)  # Return to where I was before"
   ]
  },
  {
   "cell_type": "code",
   "execution_count": 9,
   "metadata": {
    "collapsed": false
   },
   "outputs": [
    {
     "name": "stdout",
     "output_type": "stream",
     "text": [
      "<xarray.Dataset>\n",
      "Dimensions:         (gru: 1, hru: 1)\n",
      "Dimensions without coordinates: gru, hru\n",
      "Data variables:\n",
      "    contourLength   (hru) int32 1\n",
      "    tan_slope       (hru) int32 0\n",
      "    gruId           (gru) int32 1001\n",
      "    HRUarea         (hru) float64 1.0\n",
      "    elevation       (hru) float64 1.325e+03\n",
      "    hru2gruId       (hru) int32 1001\n",
      "    downHRUindex    (hru) int32 0\n",
      "    vegTypeIndex    (hru) int32 2\n",
      "    slopeTypeIndex  (hru) int32 1\n",
      "    longitude       (hru) float64 5.77\n",
      "    soilTypeIndex   (hru) int32 2\n",
      "    mHeight         (hru) float64 1.5\n",
      "    latitude        (hru) float64 45.3\n",
      "    hruId           (hru) int32 1001\n"
     ]
    }
   ],
   "source": [
    "attrCDP = xr.Dataset({'hru2gruId': (['hru'], np.atleast_1d(np.int32(1001))),\n",
    "                      'gruId': (['gru'], np.atleast_1d(np.int32(1001))),\n",
    "                      'downHRUindex': (['hru'], np.atleast_1d(np.int32(0))),\n",
    "                      'slopeTypeIndex': (['hru'], np.atleast_1d(np.int32(1))),\n",
    "                      'soilTypeIndex': (['hru'], np.atleast_1d(np.int32(2))),\n",
    "                      'vegTypeIndex': (['hru'], np.atleast_1d(np.int32(2))),\n",
    "                      'mHeight': (['hru'], np.atleast_1d(1.5)),\n",
    "                      'contourLength': (['hru'], np.atleast_1d(np.int32(1))),\n",
    "                      'tan_slope': (['hru'], np.atleast_1d(np.int32(0))),\n",
    "                      'elevation': (['hru'], np.atleast_1d(1325.0)),\n",
    "                      'longitude': (['hru'], np.atleast_1d(5.770000)),\n",
    "                      'latitude': (['hru'], np.atleast_1d(45.300000)),\n",
    "                      'HRUarea': (['hru'], np.atleast_1d(1.0)),\n",
    "                      'hruId': (['hru'], np.atleast_1d(np.int32(1001))),\n",
    "                     })\n",
    "os.chdir(dirData)\n",
    "attrCDP.to_netcdf('CDP.ModTsfc.Attributes.nc')\n",
    "print(attrCDP)"
   ]
  },
  {
   "cell_type": "markdown",
   "metadata": {},
   "source": [
    "## Setup Initial Conditions \n",
    "\n",
    "My plan is to just use the example file, since I don't have a good sense of the initial conditions for the site"
   ]
  },
  {
   "cell_type": "code",
   "execution_count": 10,
   "metadata": {
    "collapsed": false
   },
   "outputs": [
    {
     "name": "stdout",
     "output_type": "stream",
     "text": [
      "<xarray.Dataset>\n",
      "Dimensions:               (hru: 5, ifcToto: 9, midSoil: 8, midToto: 8, scalarv: 1)\n",
      "Dimensions without coordinates: hru, ifcToto, midSoil, midToto, scalarv\n",
      "Data variables:\n",
      "    mLayerVolFracIce      (midToto, hru) float64 0.0 0.0 0.0 0.0 0.0 0.0 0.0 ...\n",
      "    scalarCanairTemp      (scalarv, hru) float64 286.0 286.0 286.0 286.0 286.0\n",
      "    nSnow                 (scalarv, hru) int64 0 0 0 0 0\n",
      "    iLayerHeight          (ifcToto, hru) float64 0.0 0.0 0.0 0.0 0.0 0.01 ...\n",
      "    mLayerMatricHead      (midSoil, hru) float64 -1.0 -1.0 -1.0 -1.0 -1.0 ...\n",
      "    scalarSnowAlbedo      (scalarv, hru) float64 0.82 0.82 0.82 0.82 0.82\n",
      "    dt_init               (scalarv, hru) float64 60.0 60.0 60.0 60.0 60.0\n",
      "    mLayerTemp            (midToto, hru) float64 288.5 288.5 288.5 288.5 ...\n",
      "    scalarSfcMeltPond     (scalarv, hru) float64 0.0 0.0 0.0 0.0 0.0\n",
      "    scalarCanopyTemp      (scalarv, hru) float64 290.0 290.0 290.0 290.0 290.0\n",
      "    scalarSnowDepth       (scalarv, hru) float64 0.0 0.0 0.0 0.0 0.0\n",
      "    nSoil                 (scalarv, hru) int64 8 8 8 8 8\n",
      "    scalarSWE             (scalarv, hru) float64 0.0 0.0 0.0 0.0 0.0\n",
      "    scalarCanopyLiq       (scalarv, hru) float64 3.16 3.16 3.16 3.16 3.16\n",
      "    mLayerVolFracLiq      (midToto, hru) float64 0.29 0.29 0.29 0.29 0.29 ...\n",
      "    mLayerDepth           (midToto, hru) float64 0.01 0.01 0.01 0.01 0.01 ...\n",
      "    scalarCanopyIce       (scalarv, hru) float64 0.0 0.0 0.0 0.0 0.0\n",
      "    scalarAquiferStorage  (scalarv, hru) float64 0.0 0.0 0.0 0.0 0.0\n"
     ]
    }
   ],
   "source": [
    "cwd = os.getcwd()\n",
    "os.chdir('/Users/karllapo/gdrive/SnowHydrology/proj/ModTsfc/summa/summaTestCases/settings/wrrPaperTestCases/figure01')\n",
    "summaInitCon = xr.open_dataset('summa_zInitialCond.nc')\n",
    "print(summaInitCon)\n",
    "os.chdir(cwd)  # Return to where I was before"
   ]
  },
  {
   "cell_type": "code",
   "execution_count": 11,
   "metadata": {
    "collapsed": false
   },
   "outputs": [
    {
     "name": "stdout",
     "output_type": "stream",
     "text": [
      "<xarray.Dataset>\n",
      "Dimensions:               (ifcToto: 9, midSoil: 8, midToto: 8, scalarv: 1)\n",
      "Dimensions without coordinates: ifcToto, midSoil, midToto, scalarv\n",
      "Data variables:\n",
      "    mLayerVolFracIce      (midToto) float64 0.0 0.0 0.0 0.0 0.0 0.0 0.0 0.0\n",
      "    scalarCanairTemp      (scalarv) float64 286.0\n",
      "    nSnow                 (scalarv) int64 0\n",
      "    iLayerHeight          (ifcToto) float64 0.0 0.01 0.04 0.1 0.25 0.5 1.0 ...\n",
      "    mLayerMatricHead      (midSoil) float64 -1.0 -1.0 -1.0 -1.0 -1.0 -1.0 ...\n",
      "    scalarSnowAlbedo      (scalarv) float64 0.82\n",
      "    dt_init               (scalarv) float64 60.0\n",
      "    mLayerTemp            (midToto) float64 288.5 288.5 288.5 288.5 288.5 ...\n",
      "    scalarSfcMeltPond     (scalarv) float64 0.0\n",
      "    scalarCanopyTemp      (scalarv) float64 290.0\n",
      "    scalarSnowDepth       (scalarv) float64 0.0\n",
      "    nSoil                 (scalarv) int64 8\n",
      "    scalarSWE             (scalarv) float64 0.0\n",
      "    scalarCanopyLiq       (scalarv) float64 3.16\n",
      "    mLayerVolFracLiq      (midToto) float64 0.29 0.29 0.29 0.29 0.29 0.29 ...\n",
      "    mLayerDepth           (midToto) float64 0.01 0.03 0.06 0.15 0.25 0.5 ...\n",
      "    scalarCanopyIce       (scalarv) float64 0.0\n",
      "    scalarAquiferStorage  (scalarv) float64 0.0\n"
     ]
    }
   ],
   "source": [
    "# Save a single hru initial condition as the default in summapy\n",
    "summaInitCon = summaInitCon.sel(hru=0)\n",
    "print(summaInitCon)\n",
    "os.chdir('/Users/karllapo/gdrive/SnowHydrology/proj/ModTsfc/summa/ModTsfc_summa/settings/summapyDevelop/CDP')\n",
    "summaInitCon.to_netcdf('summa_zInitialCond.nc')"
   ]
  }
 ],
 "metadata": {
  "anaconda-cloud": {},
  "kernelspec": {
   "display_name": "Python [Root]",
   "language": "python",
   "name": "Python [Root]"
  },
  "language_info": {
   "codemirror_mode": {
    "name": "ipython",
    "version": 3
   },
   "file_extension": ".py",
   "mimetype": "text/x-python",
   "name": "python",
   "nbconvert_exporter": "python",
   "pygments_lexer": "ipython3",
   "version": "3.5.2"
  }
 },
 "nbformat": 4,
 "nbformat_minor": 0
}
